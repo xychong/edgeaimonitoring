{
  "nbformat": 4,
  "nbformat_minor": 0,
  "metadata": {
    "colab": {
      "name": "Mini Project [Data Augmentation 1].ipynb",
      "provenance": [],
      "collapsed_sections": [],
      "authorship_tag": "ABX9TyNmebraQSmqNmgABhuk/pnI",
      "include_colab_link": true
    },
    "kernelspec": {
      "name": "python3",
      "display_name": "Python 3"
    },
    "language_info": {
      "name": "python"
    }
  },
  "cells": [
    {
      "cell_type": "markdown",
      "metadata": {
        "id": "view-in-github",
        "colab_type": "text"
      },
      "source": [
        "<a href=\"https://colab.research.google.com/github/xychong/edgeaimonitoring/blob/main/Mini_Project_%5BData_Augmentation_1%5D.ipynb\" target=\"_parent\"><img src=\"https://colab.research.google.com/assets/colab-badge.svg\" alt=\"Open In Colab\"/></a>"
      ]
    },
    {
      "cell_type": "code",
      "metadata": {
        "id": "3edEbru4Xd77"
      },
      "source": [
        "import tensorflow as tf\n",
        "import numpy as np\n",
        "from tensorflow import keras\n",
        "import os\n",
        "import cv2\n",
        "from tensorflow.keras.preprocessing.image import ImageDataGenerator\n",
        "from tensorflow.keras.preprocessing import image\n",
        "import matplotlib.pyplot as plt\n",
        "\n",
        "import pandas as pd\n",
        "import numpy as np"
      ],
      "execution_count": 1,
      "outputs": []
    },
    {
      "cell_type": "code",
      "metadata": {
        "colab": {
          "base_uri": "https://localhost:8080/"
        },
        "id": "VmVHSEk5XimW",
        "outputId": "8ca685cf-0412-4a94-a1c1-fa07fa2c75a8"
      },
      "source": [
        "print(tf.__version__)"
      ],
      "execution_count": 2,
      "outputs": [
        {
          "output_type": "stream",
          "name": "stdout",
          "text": [
            "2.6.0\n"
          ]
        }
      ]
    },
    {
      "cell_type": "code",
      "metadata": {
        "colab": {
          "base_uri": "https://localhost:8080/"
        },
        "id": "RG07pg9nXjxC",
        "outputId": "aee85646-7d2a-44bc-fc2c-77e677fc5d10"
      },
      "source": [
        "from google.colab import drive\n",
        "drive.mount('/content/drive')"
      ],
      "execution_count": 3,
      "outputs": [
        {
          "output_type": "stream",
          "name": "stdout",
          "text": [
            "Mounted at /content/drive\n"
          ]
        }
      ]
    },
    {
      "cell_type": "code",
      "metadata": {
        "id": "_L8mL4beXk4R"
      },
      "source": [
        "train_path = \"/content/drive/MyDrive/Data/train\"\n",
        "train_path_cat = \"/content/drive/MyDrive/Data/train/cat\"\n",
        "train_path_dog = \"/content/drive/MyDrive/Data/train/dog\"\n",
        "\n",
        "val_path = \"/content/drive/MyDrive/Data/val\"\n",
        "val_path_cat = \"/content/drive/MyDrive/Data/val/cat\"\n",
        "val_path_dog = \"/content/drive/MyDrive/Data/val/dog\"\n",
        "\n",
        "test_path = \"/content/drive/MyDrive/Data/test/\""
      ],
      "execution_count": 4,
      "outputs": []
    },
    {
      "cell_type": "code",
      "metadata": {
        "colab": {
          "base_uri": "https://localhost:8080/"
        },
        "id": "lPnVmrNjXp6n",
        "outputId": "26c67e14-5198-4620-a2c1-8c3b737dbdc9"
      },
      "source": [
        "count = 0\n",
        "for filename in os.listdir(train_path_cat):\n",
        "  count += 1\n",
        "print(\"Number of cat images for training: \" + str(count))"
      ],
      "execution_count": 5,
      "outputs": [
        {
          "output_type": "stream",
          "name": "stdout",
          "text": [
            "Number of cat images for training: 1600\n"
          ]
        }
      ]
    },
    {
      "cell_type": "code",
      "metadata": {
        "colab": {
          "base_uri": "https://localhost:8080/"
        },
        "id": "sHGVsx-KXrvP",
        "outputId": "3fe4da19-e6cc-41ad-9b6f-1aad8fe62817"
      },
      "source": [
        "count = 0\n",
        "for filename in os.listdir(train_path_dog):\n",
        "  count += 1\n",
        "print(\"Number of dog images for training: \" + str(count))"
      ],
      "execution_count": 6,
      "outputs": [
        {
          "output_type": "stream",
          "name": "stdout",
          "text": [
            "Number of dog images for training: 1600\n"
          ]
        }
      ]
    },
    {
      "cell_type": "code",
      "metadata": {
        "colab": {
          "base_uri": "https://localhost:8080/"
        },
        "id": "plkV4OlOXtHn",
        "outputId": "5f069c16-222f-4d50-fa1e-7768f03217f3"
      },
      "source": [
        "count = 0\n",
        "for filename in os.listdir(val_path_cat):\n",
        "  count += 1\n",
        "print(\"Number of cat images for validation: \" + str(count))"
      ],
      "execution_count": 7,
      "outputs": [
        {
          "output_type": "stream",
          "name": "stdout",
          "text": [
            "Number of cat images for validation: 400\n"
          ]
        }
      ]
    },
    {
      "cell_type": "code",
      "metadata": {
        "colab": {
          "base_uri": "https://localhost:8080/"
        },
        "id": "ylZHIYOQXueO",
        "outputId": "76cf4e6f-6d75-45a4-e53f-b866ac30b194"
      },
      "source": [
        "count = 0\n",
        "for filename in os.listdir(val_path_dog):\n",
        "  count += 1\n",
        "print(\"Number of dog images for validation: \" + str(count))"
      ],
      "execution_count": 8,
      "outputs": [
        {
          "output_type": "stream",
          "name": "stdout",
          "text": [
            "Number of dog images for validation: 400\n"
          ]
        }
      ]
    },
    {
      "cell_type": "code",
      "metadata": {
        "colab": {
          "base_uri": "https://localhost:8080/"
        },
        "id": "FtP4wOSaXwBC",
        "outputId": "f6b6cd64-4036-49a8-938e-fde7ef9dce56"
      },
      "source": [
        "count = 0\n",
        "for filename in os.listdir(test_path):\n",
        "  count += 1\n",
        "print(\"Number of images for testing: \" + str(count))"
      ],
      "execution_count": 9,
      "outputs": [
        {
          "output_type": "stream",
          "name": "stdout",
          "text": [
            "Number of images for testing: 500\n"
          ]
        }
      ]
    },
    {
      "cell_type": "code",
      "metadata": {
        "id": "RvsNV-_UXxI4"
      },
      "source": [
        "# rotation_range: value in degrees to randomly rotate pictures\n",
        "# width_shift and height_shift: fraction of total width or heigh which to randomly translate pictures vertically or horizontally\n",
        "# rescale: value to multiply data with before processing; RGB coefficients range from 0-225, such values too high for models to process, so we target between 0 and 1\n",
        "# horizontal_flip: randomly flipping half the images horizontally\n",
        "# zoom_range: randomly zooming inside pictures\n",
        "# fill_mode: fill in newly created pixels\n",
        "\n",
        "train_datagen = ImageDataGenerator(rescale=1./255, rotation_range=40, width_shift_range=0.2, height_shift_range=0.2, shear_range=0.2, zoom_range=0.1, horizontal_flip=True, fill_mode='nearest')\n",
        "#train_datagen = ImageDataGenerator(rescale=1/255)\n",
        "val_datagen = ImageDataGenerator(rescale=1./255)"
      ],
      "execution_count": 10,
      "outputs": []
    },
    {
      "cell_type": "code",
      "metadata": {
        "colab": {
          "base_uri": "https://localhost:8080/"
        },
        "id": "3ESLUcC3Xz8W",
        "outputId": "2738e331-c45c-4f5b-8654-dc9df554a636"
      },
      "source": [
        "train_dataset = train_datagen.flow_from_directory(train_path,\n",
        "                                                  target_size=(150,150),\n",
        "                                                  batch_size = 32,\n",
        "                                                  class_mode = 'binary')\n",
        "\n",
        "val_dataset = val_datagen.flow_from_directory(val_path,\n",
        "                                              target_size=(150,150),\n",
        "                                              batch_size =32,\n",
        "                                              class_mode = 'binary')"
      ],
      "execution_count": 11,
      "outputs": [
        {
          "output_type": "stream",
          "name": "stdout",
          "text": [
            "Found 3200 images belonging to 2 classes.\n",
            "Found 800 images belonging to 2 classes.\n"
          ]
        }
      ]
    },
    {
      "cell_type": "code",
      "metadata": {
        "colab": {
          "base_uri": "https://localhost:8080/"
        },
        "id": "aOEHwU9oX2GP",
        "outputId": "c45208ea-61f9-42d5-9232-3bdafbc68385"
      },
      "source": [
        "val_dataset.class_indices"
      ],
      "execution_count": 12,
      "outputs": [
        {
          "output_type": "execute_result",
          "data": {
            "text/plain": [
              "{'cat': 0, 'dog': 1}"
            ]
          },
          "metadata": {},
          "execution_count": 12
        }
      ]
    },
    {
      "cell_type": "code",
      "metadata": {
        "id": "Bscd6mI4X3nN"
      },
      "source": [
        "model = keras.Sequential()\n",
        "\n",
        "# Convolutional layer and maxpool layer 1\n",
        "# Input shape is (150,150,3) where (150,150) stands for image size and 3 represents RGB color channel\n",
        "# Conv2D applies a filter to input image to create a feature map that summarizes the detected features\n",
        "# MaxPool2D is a pooling operation that selects the maximum element from the region of feature map covered by filter; outputs the most prominent features of previous feature map\n",
        "model.add(keras.layers.Conv2D(32,(3,3),activation='relu',input_shape=(150,150,3)))\n",
        "model.add(keras.layers.MaxPool2D(2,2))\n",
        "\n",
        "# Convolutional layer and maxpool layer 2\n",
        "model.add(keras.layers.Conv2D(64,(3,3),activation='relu'))\n",
        "model.add(keras.layers.MaxPool2D(2,2))\n",
        "\n",
        "# Convolutional layer and maxpool layer 3\n",
        "model.add(keras.layers.Conv2D(128,(3,3),activation='relu'))\n",
        "model.add(keras.layers.MaxPool2D(2,2))\n",
        "\n",
        "# Convolutional layer and maxpool layer 4\n",
        "model.add(keras.layers.Conv2D(128,(3,3),activation='relu'))\n",
        "model.add(keras.layers.MaxPool2D(2,2))\n",
        "\n",
        "# This layer flattens the resulting multi-dimensional image array to 1D array\n",
        "model.add(keras.layers.Flatten())\n",
        "\n",
        "# Add a Dropout layer to control overfitting\n",
        "model.add(keras.layers.Dropout(0.5))\n",
        "\n",
        "# Hidden layer with 64 neurons and Rectified Linear Unit activation function \n",
        "model.add(keras.layers.Dense(512,activation='relu'))\n",
        "\n",
        "# Output layer with single neuron which gives 0 for Cat or 1 for Dog \n",
        "# Here we use sigmoid activation function which makes our model output to lie between 0 and 1\n",
        "model.add(keras.layers.Dense(1,activation='sigmoid'))"
      ],
      "execution_count": 13,
      "outputs": []
    },
    {
      "cell_type": "code",
      "metadata": {
        "colab": {
          "base_uri": "https://localhost:8080/"
        },
        "id": "9hXH6LYVX5Td",
        "outputId": "8446d57f-1b67-4150-94a8-f24b7ab2facb"
      },
      "source": [
        "model.summary()"
      ],
      "execution_count": 14,
      "outputs": [
        {
          "output_type": "stream",
          "name": "stdout",
          "text": [
            "Model: \"sequential\"\n",
            "_________________________________________________________________\n",
            "Layer (type)                 Output Shape              Param #   \n",
            "=================================================================\n",
            "conv2d (Conv2D)              (None, 148, 148, 32)      896       \n",
            "_________________________________________________________________\n",
            "max_pooling2d (MaxPooling2D) (None, 74, 74, 32)        0         \n",
            "_________________________________________________________________\n",
            "conv2d_1 (Conv2D)            (None, 72, 72, 64)        18496     \n",
            "_________________________________________________________________\n",
            "max_pooling2d_1 (MaxPooling2 (None, 36, 36, 64)        0         \n",
            "_________________________________________________________________\n",
            "conv2d_2 (Conv2D)            (None, 34, 34, 128)       73856     \n",
            "_________________________________________________________________\n",
            "max_pooling2d_2 (MaxPooling2 (None, 17, 17, 128)       0         \n",
            "_________________________________________________________________\n",
            "conv2d_3 (Conv2D)            (None, 15, 15, 128)       147584    \n",
            "_________________________________________________________________\n",
            "max_pooling2d_3 (MaxPooling2 (None, 7, 7, 128)         0         \n",
            "_________________________________________________________________\n",
            "flatten (Flatten)            (None, 6272)              0         \n",
            "_________________________________________________________________\n",
            "dropout (Dropout)            (None, 6272)              0         \n",
            "_________________________________________________________________\n",
            "dense (Dense)                (None, 512)               3211776   \n",
            "_________________________________________________________________\n",
            "dense_1 (Dense)              (None, 1)                 513       \n",
            "=================================================================\n",
            "Total params: 3,453,121\n",
            "Trainable params: 3,453,121\n",
            "Non-trainable params: 0\n",
            "_________________________________________________________________\n"
          ]
        }
      ]
    },
    {
      "cell_type": "code",
      "metadata": {
        "id": "A1eWo5UgX6qg"
      },
      "source": [
        "# Optimizer: Measure how good our model predicted output when compared with true output\n",
        "# Helps change attributes such as weights to reduce losses\n",
        "# Loss function is binary_crossentropy since we are doing binary classiication\n",
        "\n",
        "# Adjust the learning rate of Adam optimizer\n",
        "opt = tf.keras.optimizers.RMSprop(learning_rate=1e-4)\n",
        "\n",
        "model.compile(optimizer=opt ,loss='binary_crossentropy',metrics=['accuracy'])"
      ],
      "execution_count": 15,
      "outputs": []
    },
    {
      "cell_type": "code",
      "metadata": {
        "colab": {
          "base_uri": "https://localhost:8080/"
        },
        "id": "yOB36fA8X8VO",
        "outputId": "30cb2e1f-4f26-45c9-930c-955a119be429"
      },
      "source": [
        "#steps_per_epoch = no. of train images/batch_size\n",
        "\n",
        "training = model.fit(train_dataset, steps_per_epoch = 100, epochs = 64, validation_data = val_dataset, validation_steps= 25)"
      ],
      "execution_count": 16,
      "outputs": [
        {
          "output_type": "stream",
          "name": "stdout",
          "text": [
            "Epoch 1/64\n",
            "100/100 [==============================] - 1069s 11s/step - loss: 0.6939 - accuracy: 0.5044 - val_loss: 0.6863 - val_accuracy: 0.5013\n",
            "Epoch 2/64\n",
            "100/100 [==============================] - 182s 2s/step - loss: 0.6846 - accuracy: 0.5472 - val_loss: 0.6881 - val_accuracy: 0.5525\n",
            "Epoch 3/64\n",
            "100/100 [==============================] - 186s 2s/step - loss: 0.6697 - accuracy: 0.5834 - val_loss: 0.6743 - val_accuracy: 0.5700\n",
            "Epoch 4/64\n",
            "100/100 [==============================] - 187s 2s/step - loss: 0.6578 - accuracy: 0.6028 - val_loss: 0.6871 - val_accuracy: 0.5587\n",
            "Epoch 5/64\n",
            "100/100 [==============================] - 184s 2s/step - loss: 0.6445 - accuracy: 0.6259 - val_loss: 0.6086 - val_accuracy: 0.6737\n",
            "Epoch 6/64\n",
            "100/100 [==============================] - 178s 2s/step - loss: 0.6331 - accuracy: 0.6363 - val_loss: 0.7031 - val_accuracy: 0.5763\n",
            "Epoch 7/64\n",
            "100/100 [==============================] - 176s 2s/step - loss: 0.6236 - accuracy: 0.6519 - val_loss: 0.5756 - val_accuracy: 0.6862\n",
            "Epoch 8/64\n",
            "100/100 [==============================] - 175s 2s/step - loss: 0.6171 - accuracy: 0.6603 - val_loss: 0.5621 - val_accuracy: 0.7075\n",
            "Epoch 9/64\n",
            "100/100 [==============================] - 177s 2s/step - loss: 0.6076 - accuracy: 0.6675 - val_loss: 0.5666 - val_accuracy: 0.6888\n",
            "Epoch 10/64\n",
            "100/100 [==============================] - 183s 2s/step - loss: 0.5944 - accuracy: 0.6816 - val_loss: 0.5425 - val_accuracy: 0.7275\n",
            "Epoch 11/64\n",
            "100/100 [==============================] - 178s 2s/step - loss: 0.5928 - accuracy: 0.6853 - val_loss: 0.5194 - val_accuracy: 0.7475\n",
            "Epoch 12/64\n",
            "100/100 [==============================] - 176s 2s/step - loss: 0.5923 - accuracy: 0.6797 - val_loss: 0.5285 - val_accuracy: 0.7237\n",
            "Epoch 13/64\n",
            "100/100 [==============================] - 176s 2s/step - loss: 0.5814 - accuracy: 0.7000 - val_loss: 0.5169 - val_accuracy: 0.7375\n",
            "Epoch 14/64\n",
            "100/100 [==============================] - 176s 2s/step - loss: 0.5731 - accuracy: 0.7025 - val_loss: 0.5136 - val_accuracy: 0.7550\n",
            "Epoch 15/64\n",
            "100/100 [==============================] - 176s 2s/step - loss: 0.5815 - accuracy: 0.6900 - val_loss: 0.5334 - val_accuracy: 0.7350\n",
            "Epoch 16/64\n",
            "100/100 [==============================] - 176s 2s/step - loss: 0.5619 - accuracy: 0.7134 - val_loss: 0.5074 - val_accuracy: 0.7400\n",
            "Epoch 17/64\n",
            "100/100 [==============================] - 176s 2s/step - loss: 0.5626 - accuracy: 0.6966 - val_loss: 0.5145 - val_accuracy: 0.7425\n",
            "Epoch 18/64\n",
            "100/100 [==============================] - 175s 2s/step - loss: 0.5501 - accuracy: 0.7184 - val_loss: 0.5551 - val_accuracy: 0.7262\n",
            "Epoch 19/64\n",
            "100/100 [==============================] - 176s 2s/step - loss: 0.5499 - accuracy: 0.7188 - val_loss: 0.5146 - val_accuracy: 0.7262\n",
            "Epoch 20/64\n",
            "100/100 [==============================] - 175s 2s/step - loss: 0.5491 - accuracy: 0.7200 - val_loss: 0.5127 - val_accuracy: 0.7437\n",
            "Epoch 21/64\n",
            "100/100 [==============================] - 176s 2s/step - loss: 0.5348 - accuracy: 0.7287 - val_loss: 0.5027 - val_accuracy: 0.7500\n",
            "Epoch 22/64\n",
            "100/100 [==============================] - 175s 2s/step - loss: 0.5257 - accuracy: 0.7344 - val_loss: 0.5102 - val_accuracy: 0.7412\n",
            "Epoch 23/64\n",
            "100/100 [==============================] - 175s 2s/step - loss: 0.5250 - accuracy: 0.7419 - val_loss: 0.4672 - val_accuracy: 0.7738\n",
            "Epoch 24/64\n",
            "100/100 [==============================] - 175s 2s/step - loss: 0.5368 - accuracy: 0.7275 - val_loss: 0.4683 - val_accuracy: 0.7837\n",
            "Epoch 25/64\n",
            "100/100 [==============================] - 176s 2s/step - loss: 0.5201 - accuracy: 0.7316 - val_loss: 0.5143 - val_accuracy: 0.7462\n",
            "Epoch 26/64\n",
            "100/100 [==============================] - 175s 2s/step - loss: 0.5174 - accuracy: 0.7459 - val_loss: 0.5062 - val_accuracy: 0.7550\n",
            "Epoch 27/64\n",
            "100/100 [==============================] - 176s 2s/step - loss: 0.5156 - accuracy: 0.7372 - val_loss: 0.4564 - val_accuracy: 0.7900\n",
            "Epoch 28/64\n",
            "100/100 [==============================] - 175s 2s/step - loss: 0.5121 - accuracy: 0.7447 - val_loss: 0.4712 - val_accuracy: 0.7750\n",
            "Epoch 29/64\n",
            "100/100 [==============================] - 176s 2s/step - loss: 0.5140 - accuracy: 0.7453 - val_loss: 0.5488 - val_accuracy: 0.7425\n",
            "Epoch 30/64\n",
            "100/100 [==============================] - 176s 2s/step - loss: 0.4984 - accuracy: 0.7487 - val_loss: 0.4636 - val_accuracy: 0.7825\n",
            "Epoch 31/64\n",
            "100/100 [==============================] - 175s 2s/step - loss: 0.5063 - accuracy: 0.7484 - val_loss: 0.5196 - val_accuracy: 0.7450\n",
            "Epoch 32/64\n",
            "100/100 [==============================] - 175s 2s/step - loss: 0.5043 - accuracy: 0.7534 - val_loss: 0.4691 - val_accuracy: 0.7887\n",
            "Epoch 33/64\n",
            "100/100 [==============================] - 175s 2s/step - loss: 0.4909 - accuracy: 0.7616 - val_loss: 0.4822 - val_accuracy: 0.7763\n",
            "Epoch 34/64\n",
            "100/100 [==============================] - 175s 2s/step - loss: 0.4860 - accuracy: 0.7659 - val_loss: 0.5059 - val_accuracy: 0.7575\n",
            "Epoch 35/64\n",
            "100/100 [==============================] - 175s 2s/step - loss: 0.4913 - accuracy: 0.7641 - val_loss: 0.4237 - val_accuracy: 0.8075\n",
            "Epoch 36/64\n",
            "100/100 [==============================] - 175s 2s/step - loss: 0.4836 - accuracy: 0.7663 - val_loss: 0.4359 - val_accuracy: 0.7887\n",
            "Epoch 37/64\n",
            "100/100 [==============================] - 175s 2s/step - loss: 0.4830 - accuracy: 0.7613 - val_loss: 0.4371 - val_accuracy: 0.8000\n",
            "Epoch 38/64\n",
            "100/100 [==============================] - 175s 2s/step - loss: 0.4769 - accuracy: 0.7713 - val_loss: 0.4675 - val_accuracy: 0.7750\n",
            "Epoch 39/64\n",
            "100/100 [==============================] - 175s 2s/step - loss: 0.4754 - accuracy: 0.7750 - val_loss: 0.4353 - val_accuracy: 0.7937\n",
            "Epoch 40/64\n",
            "100/100 [==============================] - 175s 2s/step - loss: 0.4725 - accuracy: 0.7788 - val_loss: 0.4578 - val_accuracy: 0.7750\n",
            "Epoch 41/64\n",
            "100/100 [==============================] - 175s 2s/step - loss: 0.4740 - accuracy: 0.7700 - val_loss: 0.4700 - val_accuracy: 0.7650\n",
            "Epoch 42/64\n",
            "100/100 [==============================] - 175s 2s/step - loss: 0.4735 - accuracy: 0.7700 - val_loss: 0.4345 - val_accuracy: 0.8100\n",
            "Epoch 43/64\n",
            "100/100 [==============================] - 175s 2s/step - loss: 0.4731 - accuracy: 0.7697 - val_loss: 0.4649 - val_accuracy: 0.7825\n",
            "Epoch 44/64\n",
            "100/100 [==============================] - 175s 2s/step - loss: 0.4592 - accuracy: 0.7816 - val_loss: 0.4747 - val_accuracy: 0.7887\n",
            "Epoch 45/64\n",
            "100/100 [==============================] - 175s 2s/step - loss: 0.4633 - accuracy: 0.7837 - val_loss: 0.4165 - val_accuracy: 0.8125\n",
            "Epoch 46/64\n",
            "100/100 [==============================] - 175s 2s/step - loss: 0.4587 - accuracy: 0.7903 - val_loss: 0.4202 - val_accuracy: 0.8150\n",
            "Epoch 47/64\n",
            "100/100 [==============================] - 175s 2s/step - loss: 0.4520 - accuracy: 0.7909 - val_loss: 0.4061 - val_accuracy: 0.8225\n",
            "Epoch 48/64\n",
            "100/100 [==============================] - 176s 2s/step - loss: 0.4546 - accuracy: 0.7828 - val_loss: 0.4297 - val_accuracy: 0.8125\n",
            "Epoch 49/64\n",
            "100/100 [==============================] - 176s 2s/step - loss: 0.4414 - accuracy: 0.7937 - val_loss: 0.4282 - val_accuracy: 0.8062\n",
            "Epoch 50/64\n",
            "100/100 [==============================] - 175s 2s/step - loss: 0.4486 - accuracy: 0.7856 - val_loss: 0.4384 - val_accuracy: 0.7950\n",
            "Epoch 51/64\n",
            "100/100 [==============================] - 175s 2s/step - loss: 0.4490 - accuracy: 0.7897 - val_loss: 0.4255 - val_accuracy: 0.8112\n",
            "Epoch 52/64\n",
            "100/100 [==============================] - 175s 2s/step - loss: 0.4465 - accuracy: 0.7900 - val_loss: 0.4777 - val_accuracy: 0.7700\n",
            "Epoch 53/64\n",
            "100/100 [==============================] - 175s 2s/step - loss: 0.4422 - accuracy: 0.7922 - val_loss: 0.4353 - val_accuracy: 0.8062\n",
            "Epoch 54/64\n",
            "100/100 [==============================] - 175s 2s/step - loss: 0.4366 - accuracy: 0.7978 - val_loss: 0.4739 - val_accuracy: 0.7738\n",
            "Epoch 55/64\n",
            "100/100 [==============================] - 175s 2s/step - loss: 0.4421 - accuracy: 0.7937 - val_loss: 0.4125 - val_accuracy: 0.8125\n",
            "Epoch 56/64\n",
            "100/100 [==============================] - 175s 2s/step - loss: 0.4399 - accuracy: 0.7925 - val_loss: 0.3961 - val_accuracy: 0.8300\n",
            "Epoch 57/64\n",
            "100/100 [==============================] - 175s 2s/step - loss: 0.4368 - accuracy: 0.8016 - val_loss: 0.4250 - val_accuracy: 0.8325\n",
            "Epoch 58/64\n",
            "100/100 [==============================] - 174s 2s/step - loss: 0.4225 - accuracy: 0.8100 - val_loss: 0.4037 - val_accuracy: 0.8012\n",
            "Epoch 59/64\n",
            "100/100 [==============================] - 174s 2s/step - loss: 0.4246 - accuracy: 0.8003 - val_loss: 0.4138 - val_accuracy: 0.8100\n",
            "Epoch 60/64\n",
            "100/100 [==============================] - 174s 2s/step - loss: 0.4213 - accuracy: 0.8003 - val_loss: 0.3844 - val_accuracy: 0.8163\n",
            "Epoch 61/64\n",
            "100/100 [==============================] - 175s 2s/step - loss: 0.4245 - accuracy: 0.8000 - val_loss: 0.4027 - val_accuracy: 0.8250\n",
            "Epoch 62/64\n",
            "100/100 [==============================] - 175s 2s/step - loss: 0.4325 - accuracy: 0.7931 - val_loss: 0.4908 - val_accuracy: 0.7663\n",
            "Epoch 63/64\n",
            "100/100 [==============================] - 175s 2s/step - loss: 0.4360 - accuracy: 0.7981 - val_loss: 0.4958 - val_accuracy: 0.7962\n",
            "Epoch 64/64\n",
            "100/100 [==============================] - 174s 2s/step - loss: 0.4292 - accuracy: 0.8016 - val_loss: 0.4057 - val_accuracy: 0.8213\n"
          ]
        }
      ]
    },
    {
      "cell_type": "code",
      "metadata": {
        "colab": {
          "base_uri": "https://localhost:8080/"
        },
        "id": "ne733b4QX9ez",
        "outputId": "ab36968c-fa4e-4134-b63f-251992bd632a"
      },
      "source": [
        "val_loss, val_acc = model.evaluate(val_dataset)\n",
        "\n",
        "print(\"Tested Acc:\", val_acc)"
      ],
      "execution_count": 17,
      "outputs": [
        {
          "output_type": "stream",
          "name": "stdout",
          "text": [
            "25/25 [==============================] - 12s 461ms/step - loss: 0.4057 - accuracy: 0.8213\n",
            "Tested Acc: 0.8212500214576721\n"
          ]
        }
      ]
    },
    {
      "cell_type": "code",
      "metadata": {
        "colab": {
          "base_uri": "https://localhost:8080/",
          "height": 295
        },
        "id": "IFjliJzmX-_r",
        "outputId": "2102f647-8b5d-422b-cb85-90bdb07d61f1"
      },
      "source": [
        "plt.plot(training.history['accuracy'])\n",
        "plt.plot(training.history['val_accuracy'])\n",
        "plt.title('Model Accuracy')\n",
        "plt.ylabel('Accuracy')\n",
        "plt.xlabel('Epoch')\n",
        "plt.legend(['train', 'val'], loc='upper left')\n",
        "plt.show()"
      ],
      "execution_count": 18,
      "outputs": [
        {
          "output_type": "display_data",
          "data": {
            "image/png": "[encoded data removed]",
            "text/plain": [
              "<Figure size 432x288 with 1 Axes>"
            ]
          },
          "metadata": {
            "needs_background": "light"
          }
        }
      ]
    },
    {
      "cell_type": "code",
      "metadata": {
        "colab": {
          "base_uri": "https://localhost:8080/",
          "height": 295
        },
        "id": "D8p42X9aYAIM",
        "outputId": "8420f13a-a941-4866-cf15-1f71a9bac62c"
      },
      "source": [
        "plt.plot(training.history['loss'])\n",
        "plt.plot(training.history['val_loss'])\n",
        "plt.title('Model Loss')\n",
        "plt.ylabel('Loss')\n",
        "plt.xlabel('Epoch')\n",
        "plt.legend(['train', 'val'], loc='upper left')\n",
        "plt.show()"
      ],
      "execution_count": 19,
      "outputs": [
        {
          "output_type": "display_data",
          "data": {
            "image/png": "[encoded data removed]",
            "text/plain": [
              "<Figure size 432x288 with 1 Axes>"
            ]
          },
          "metadata": {
            "needs_background": "light"
          }
        }
      ]
    },
    {
      "cell_type": "code",
      "metadata": {
        "colab": {
          "base_uri": "https://localhost:8080/",
          "height": 49
        },
        "id": "CZqT4kvkYGzp",
        "outputId": "2643bbe2-3907-428e-ca84-9089888fa4da"
      },
      "source": [
        "submission = pd.DataFrame(columns=['id','label'])\n",
        "submission"
      ],
      "execution_count": 20,
      "outputs": [
        {
          "output_type": "execute_result",
          "data": {
            "text/html": [
              "<div>\n",
              "<style scoped>\n",
              "    .dataframe tbody tr th:only-of-type {\n",
              "        vertical-align: middle;\n",
              "    }\n",
              "\n",
              "    .dataframe tbody tr th {\n",
              "        vertical-align: top;\n",
              "    }\n",
              "\n",
              "    .dataframe thead th {\n",
              "        text-align: right;\n",
              "    }\n",
              "</style>\n",
              "<table border=\"1\" class=\"dataframe\">\n",
              "  <thead>\n",
              "    <tr style=\"text-align: right;\">\n",
              "      <th></th>\n",
              "      <th>id</th>\n",
              "      <th>label</th>\n",
              "    </tr>\n",
              "  </thead>\n",
              "  <tbody>\n",
              "  </tbody>\n",
              "</table>\n",
              "</div>"
            ],
            "text/plain": [
              "Empty DataFrame\n",
              "Columns: [id, label]\n",
              "Index: []"
            ]
          },
          "metadata": {},
          "execution_count": 20
        }
      ]
    },
    {
      "cell_type": "code",
      "metadata": {
        "colab": {
          "base_uri": "https://localhost:8080/"
        },
        "id": "LUNVRkVSYBRq",
        "outputId": "d81cafd3-95c3-4a5c-8b70-4d41bacbfeba"
      },
      "source": [
        "test_label = []\n",
        "count = 0\n",
        "for filename in os.listdir(test_path):\n",
        "  first_word = filename.split('.')[0]\n",
        "  img = image.load_img(test_path + filename, target_size = (150,150)) # load and resize image as 150x150\n",
        "  Y = image.img_to_array(img) # convert image into a numpy array \n",
        "  X = np.expand_dims(Y,axis=0) # expand the dimension of that array\n",
        "  val = model.predict(X)\n",
        "  test_label.append(int(val))\n",
        "  submission = submission.append({'id': int(first_word),'label': int(val)}, ignore_index=True)\n",
        "  count += 1\n",
        "\n",
        "print(test_label)"
      ],
      "execution_count": 21,
      "outputs": [
        {
          "output_type": "stream",
          "name": "stdout",
          "text": [
            "[1, 1, 1, 1, 0, 0, 1, 1, 1, 1, 0, 1, 1, 1, 1, 1, 1, 1, 1, 1, 1, 1, 1, 1, 1, 1, 1, 1, 1, 1, 1, 1, 1, 1, 1, 1, 1, 1, 1, 1, 1, 1, 1, 1, 1, 1, 1, 1, 1, 1, 1, 1, 1, 1, 1, 1, 1, 1, 1, 1, 1, 1, 1, 1, 0, 1, 1, 1, 0, 1, 1, 1, 0, 1, 1, 1, 1, 1, 1, 1, 1, 1, 1, 1, 1, 1, 1, 1, 1, 1, 0, 1, 1, 1, 1, 1, 1, 1, 0, 1, 1, 1, 1, 1, 1, 1, 1, 1, 0, 1, 1, 1, 1, 0, 1, 1, 0, 1, 1, 1, 1, 1, 1, 1, 0, 1, 1, 0, 1, 1, 1, 0, 1, 1, 1, 1, 1, 1, 0, 1, 1, 1, 1, 0, 1, 1, 1, 1, 1, 1, 1, 1, 1, 1, 1, 1, 1, 1, 1, 1, 1, 1, 1, 1, 1, 1, 1, 1, 1, 1, 1, 1, 1, 0, 1, 1, 1, 1, 1, 1, 1, 1, 1, 1, 1, 1, 0, 1, 1, 1, 1, 1, 1, 1, 1, 1, 1, 1, 1, 0, 1, 1, 1, 1, 1, 1, 0, 1, 1, 1, 1, 1, 1, 0, 1, 1, 1, 1, 0, 1, 1, 1, 1, 1, 1, 1, 1, 1, 1, 1, 0, 1, 1, 1, 1, 1, 1, 1, 1, 0, 1, 1, 1, 1, 1, 1, 1, 1, 1, 1, 1, 1, 1, 1, 1, 1, 1, 1, 1, 1, 1, 1, 1, 1, 0, 1, 1, 1, 1, 1, 1, 1, 1, 1, 1, 1, 1, 0, 1, 1, 1, 1, 1, 1, 1, 1, 1, 1, 1, 1, 1, 1, 1, 0, 1, 1, 1, 1, 1, 1, 1, 1, 1, 1, 1, 0, 1, 1, 1, 1, 1, 1, 1, 1, 1, 0, 1, 1, 0, 1, 1, 0, 1, 1, 0, 0, 1, 1, 1, 1, 1, 1, 1, 1, 1, 1, 1, 1, 1, 0, 1, 1, 1, 1, 1, 1, 1, 1, 1, 1, 0, 1, 1, 1, 1, 1, 1, 1, 1, 1, 1, 1, 1, 0, 1, 1, 1, 1, 1, 1, 0, 1, 1, 1, 1, 1, 1, 1, 1, 1, 1, 1, 0, 1, 1, 1, 1, 1, 1, 1, 1, 1, 1, 1, 0, 1, 1, 1, 1, 1, 1, 1, 1, 1, 1, 1, 1, 1, 1, 1, 1, 1, 1, 1, 1, 1, 1, 1, 1, 1, 1, 1, 0, 1, 1, 1, 1, 1, 1, 1, 1, 1, 1, 1, 1, 1, 1, 1, 1, 1, 1, 1, 1, 1, 1, 1, 1, 1, 1, 1, 1, 1, 1, 0, 1, 1, 1, 1, 1, 1, 1, 1, 1, 1, 1, 1, 1, 1, 1, 1, 1, 1, 1, 1, 1, 1, 1, 1, 1, 1, 1, 1, 1, 1, 1, 1, 1, 1, 1, 1, 1, 1, 1, 1, 1, 1, 1, 1, 1, 1]\n"
          ]
        }
      ]
    },
    {
      "cell_type": "code",
      "metadata": {
        "colab": {
          "base_uri": "https://localhost:8080/"
        },
        "id": "3Kbmva-5YCf9",
        "outputId": "2ebe9a84-a996-4d48-9c24-0a31e33d4494"
      },
      "source": [
        "print(count)"
      ],
      "execution_count": 22,
      "outputs": [
        {
          "output_type": "stream",
          "name": "stdout",
          "text": [
            "500\n"
          ]
        }
      ]
    },
    {
      "cell_type": "code",
      "metadata": {
        "colab": {
          "base_uri": "https://localhost:8080/",
          "height": 419
        },
        "id": "hNuujHL-YJLk",
        "outputId": "6b3420c2-477d-41f2-b34a-f177f39caed2"
      },
      "source": [
        "sorted_submission = submission.sort_values('id')\n",
        "sorted_submission"
      ],
      "execution_count": 23,
      "outputs": [
        {
          "output_type": "execute_result",
          "data": {
            "text/html": [
              "<div>\n",
              "<style scoped>\n",
              "    .dataframe tbody tr th:only-of-type {\n",
              "        vertical-align: middle;\n",
              "    }\n",
              "\n",
              "    .dataframe tbody tr th {\n",
              "        vertical-align: top;\n",
              "    }\n",
              "\n",
              "    .dataframe thead th {\n",
              "        text-align: right;\n",
              "    }\n",
              "</style>\n",
              "<table border=\"1\" class=\"dataframe\">\n",
              "  <thead>\n",
              "    <tr style=\"text-align: right;\">\n",
              "      <th></th>\n",
              "      <th>id</th>\n",
              "      <th>label</th>\n",
              "    </tr>\n",
              "  </thead>\n",
              "  <tbody>\n",
              "    <tr>\n",
              "      <th>466</th>\n",
              "      <td>1</td>\n",
              "      <td>1</td>\n",
              "    </tr>\n",
              "    <tr>\n",
              "      <th>431</th>\n",
              "      <td>2</td>\n",
              "      <td>1</td>\n",
              "    </tr>\n",
              "    <tr>\n",
              "      <th>459</th>\n",
              "      <td>3</td>\n",
              "      <td>1</td>\n",
              "    </tr>\n",
              "    <tr>\n",
              "      <th>345</th>\n",
              "      <td>4</td>\n",
              "      <td>1</td>\n",
              "    </tr>\n",
              "    <tr>\n",
              "      <th>376</th>\n",
              "      <td>5</td>\n",
              "      <td>1</td>\n",
              "    </tr>\n",
              "    <tr>\n",
              "      <th>...</th>\n",
              "      <td>...</td>\n",
              "      <td>...</td>\n",
              "    </tr>\n",
              "    <tr>\n",
              "      <th>315</th>\n",
              "      <td>496</td>\n",
              "      <td>0</td>\n",
              "    </tr>\n",
              "    <tr>\n",
              "      <th>337</th>\n",
              "      <td>497</td>\n",
              "      <td>1</td>\n",
              "    </tr>\n",
              "    <tr>\n",
              "      <th>164</th>\n",
              "      <td>498</td>\n",
              "      <td>1</td>\n",
              "    </tr>\n",
              "    <tr>\n",
              "      <th>151</th>\n",
              "      <td>499</td>\n",
              "      <td>1</td>\n",
              "    </tr>\n",
              "    <tr>\n",
              "      <th>201</th>\n",
              "      <td>500</td>\n",
              "      <td>1</td>\n",
              "    </tr>\n",
              "  </tbody>\n",
              "</table>\n",
              "<p>500 rows × 2 columns</p>\n",
              "</div>"
            ],
            "text/plain": [
              "      id label\n",
              "466    1     1\n",
              "431    2     1\n",
              "459    3     1\n",
              "345    4     1\n",
              "376    5     1\n",
              "..   ...   ...\n",
              "315  496     0\n",
              "337  497     1\n",
              "164  498     1\n",
              "151  499     1\n",
              "201  500     1\n",
              "\n",
              "[500 rows x 2 columns]"
            ]
          },
          "metadata": {},
          "execution_count": 23
        }
      ]
    },
    {
      "cell_type": "code",
      "metadata": {
        "id": "a0-hh3pbBcHk"
      },
      "source": [
        ""
      ],
      "execution_count": 23,
      "outputs": []
    }
  ]
}