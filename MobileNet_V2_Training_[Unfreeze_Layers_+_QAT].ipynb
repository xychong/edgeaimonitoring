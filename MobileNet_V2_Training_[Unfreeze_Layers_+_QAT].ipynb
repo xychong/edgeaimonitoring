{
  "nbformat": 4,
  "nbformat_minor": 0,
  "metadata": {
    "colab": {
      "name": "MobileNet V2 Training [Unfreeze Layers + QAT].ipynb",
      "provenance": [],
      "collapsed_sections": [],
      "authorship_tag": "ABX9TyO0LDHCUHScJ0iRvSOSaVlO",
      "include_colab_link": true
    },
    "kernelspec": {
      "name": "python3",
      "display_name": "Python 3"
    },
    "language_info": {
      "name": "python"
    }
  },
  "cells": [
    {
      "cell_type": "markdown",
      "metadata": {
        "id": "view-in-github",
        "colab_type": "text"
      },
      "source": [
        "<a href=\"https://colab.research.google.com/github/xychong/edgeaimonitoring/blob/main/MobileNet_V2_Training_%5BUnfreeze_Layers_%2B_QAT%5D.ipynb\" target=\"_parent\"><img src=\"https://colab.research.google.com/assets/colab-badge.svg\" alt=\"Open In Colab\"/></a>"
      ]
    },
    {
      "cell_type": "code",
      "metadata": {
        "id": "Adr5RhEjScsN"
      },
      "source": [
        "import tensorflow.compat.v2 as tf\n",
        "import keras\n",
        "from keras.models import Sequential\n",
        "from keras.applications import mobilenet_v2\n",
        "\n",
        "import numpy as np\n",
        "import os\n",
        "import pandas as pd\n",
        "import matplotlib.pyplot as plt"
      ],
      "execution_count": 1,
      "outputs": []
    },
    {
      "cell_type": "code",
      "metadata": {
        "colab": {
          "base_uri": "https://localhost:8080/"
        },
        "id": "Ch43RAYjSvBg",
        "outputId": "f9a59b4a-119f-4458-fe64-6dacf0036985"
      },
      "source": [
        "print(tf.__version__)"
      ],
      "execution_count": 2,
      "outputs": [
        {
          "output_type": "stream",
          "name": "stdout",
          "text": [
            "2.6.0\n"
          ]
        }
      ]
    },
    {
      "cell_type": "code",
      "metadata": {
        "colab": {
          "base_uri": "https://localhost:8080/"
        },
        "id": "ia3qn0ELSwY1",
        "outputId": "6ea1e776-3c09-4496-a4c5-c42682160f35"
      },
      "source": [
        "from google.colab import drive\n",
        "drive.mount('/content/drive')"
      ],
      "execution_count": 3,
      "outputs": [
        {
          "output_type": "stream",
          "name": "stdout",
          "text": [
            "Mounted at /content/drive\n"
          ]
        }
      ]
    },
    {
      "cell_type": "code",
      "metadata": {
        "id": "xvsv3c-NSxqi"
      },
      "source": [
        "train_data = np.load(\"/content/drive/MyDrive/FYP Data/Train and Test/train_data.npy\", allow_pickle = True)\n",
        "test_data = np.load(\"/content/drive/MyDrive/FYP Data/Train and Test/test_data.npy\", allow_pickle = True)\n",
        "train_label = np.load(\"/content/drive/MyDrive/FYP Data/Train and Test/train_label.npy\", allow_pickle = True)\n",
        "test_label = np.load(\"/content/drive/MyDrive/FYP Data/Train and Test/test_label.npy\", allow_pickle = True)"
      ],
      "execution_count": 4,
      "outputs": []
    },
    {
      "cell_type": "code",
      "metadata": {
        "colab": {
          "base_uri": "https://localhost:8080/"
        },
        "id": "_HzMKWDYS49f",
        "outputId": "f4360044-76a6-433e-d6a0-8d16bf8da75e"
      },
      "source": [
        "print(train_data.shape)\n",
        "print(test_data.shape)\n",
        "print(train_label.shape)\n",
        "print(test_label.shape)"
      ],
      "execution_count": 5,
      "outputs": [
        {
          "output_type": "stream",
          "name": "stdout",
          "text": [
            "(1204, 224, 224, 3)\n",
            "(304, 224, 224, 3)\n",
            "(1204, 1)\n",
            "(304, 1)\n"
          ]
        }
      ]
    },
    {
      "cell_type": "code",
      "metadata": {
        "id": "uoFzVPFES7KP"
      },
      "source": [
        "from keras.applications.mobilenet_v2 import MobileNetV2\n",
        "from keras import optimizers\n",
        "from keras.models import Model\n",
        "from keras.layers import Input, Conv2D, GlobalAveragePooling2D, Dropout, Dense\n",
        "from keras.layers import Activation, BatchNormalization, Add, Reshape, DepthwiseConv2D"
      ],
      "execution_count": 6,
      "outputs": []
    },
    {
      "cell_type": "code",
      "metadata": {
        "colab": {
          "base_uri": "https://localhost:8080/"
        },
        "id": "o_JsFyLhS_Nk",
        "outputId": "7201e48e-14e8-40d2-b2c3-d99ceb6d0114"
      },
      "source": [
        "# Create base model from pre-trained model MobileNetV2\n",
        "base_model = MobileNetV2(input_shape=(224,224,3), include_top=False)\n",
        "\n",
        "# Unfreeze the base model\n",
        "base_model.trainable = True\n",
        "\n",
        "# Observe how many layers are in the base model\n",
        "# 154\n",
        "print(\"Number of layers in the base model: \", len(base_model.layers))\n",
        "\n",
        "# Fine-tune from this layer onwards\n",
        "fine_tune_at = 152\n",
        "\n",
        "# Freeze all layers before 'fine_tune_at' layer\n",
        "for layer in base_model.layers[:fine_tune_at]:\n",
        "  layer.trainable = False\n",
        "\n",
        "for layer in base_model.layers:\n",
        "  print(layer, layer.trainable)\n",
        "\n",
        "# Base model architecture\n",
        "# base_model.summary()"
      ],
      "execution_count": 7,
      "outputs": [
        {
          "output_type": "stream",
          "name": "stdout",
          "text": [
            "Downloading data from https://storage.googleapis.com/tensorflow/keras-applications/mobilenet_v2/mobilenet_v2_weights_tf_dim_ordering_tf_kernels_1.0_224_no_top.h5\n",
            "9412608/9406464 [==============================] - 0s 0us/step\n",
            "9420800/9406464 [==============================] - 0s 0us/step\n",
            "Number of layers in the base model:  154\n",
            "<keras.engine.input_layer.InputLayer object at 0x7fd1ade5a810> False\n",
            "<keras.layers.convolutional.Conv2D object at 0x7fd202e32fd0> False\n",
            "<keras.layers.normalization.batch_normalization.BatchNormalization object at 0x7fd1ad946350> False\n",
            "<keras.layers.advanced_activations.ReLU object at 0x7fd1ad929910> False\n",
            "<keras.layers.convolutional.DepthwiseConv2D object at 0x7fd1aa7bda50> False\n",
            "<keras.layers.normalization.batch_normalization.BatchNormalization object at 0x7fd1aa769790> False\n",
            "<keras.layers.advanced_activations.ReLU object at 0x7fd1aa789590> False\n",
            "<keras.layers.convolutional.Conv2D object at 0x7fd1aa78d3d0> False\n",
            "<keras.layers.normalization.batch_normalization.BatchNormalization object at 0x7fd1aa799dd0> False\n",
            "<keras.layers.convolutional.Conv2D object at 0x7fd1aa79a390> False\n",
            "<keras.layers.normalization.batch_normalization.BatchNormalization object at 0x7fd1aa724150> False\n",
            "<keras.layers.advanced_activations.ReLU object at 0x7fd1aa729c90> False\n",
            "<keras.layers.convolutional.ZeroPadding2D object at 0x7fd1aa724090> False\n",
            "<keras.layers.convolutional.DepthwiseConv2D object at 0x7fd1aa79ad50> False\n",
            "<keras.layers.normalization.batch_normalization.BatchNormalization object at 0x7fd1aa728d50> False\n",
            "<keras.layers.advanced_activations.ReLU object at 0x7fd1aa735950> False\n",
            "<keras.layers.convolutional.Conv2D object at 0x7fd1aa728950> False\n",
            "<keras.layers.normalization.batch_normalization.BatchNormalization object at 0x7fd1aa745790> False\n",
            "<keras.layers.convolutional.Conv2D object at 0x7fd1aa72dfd0> False\n",
            "<keras.layers.normalization.batch_normalization.BatchNormalization object at 0x7fd1aa728b10> False\n",
            "<keras.layers.advanced_activations.ReLU object at 0x7fd1ad9c4410> False\n",
            "<keras.layers.convolutional.DepthwiseConv2D object at 0x7fd1aa6e1650> False\n",
            "<keras.layers.normalization.batch_normalization.BatchNormalization object at 0x7fd1aa75a090> False\n",
            "<keras.layers.advanced_activations.ReLU object at 0x7fd1aa6edc10> False\n",
            "<keras.layers.convolutional.Conv2D object at 0x7fd1aa6f8d10> False\n",
            "<keras.layers.normalization.batch_normalization.BatchNormalization object at 0x7fd1aa6f8c10> False\n",
            "<keras.layers.merge.Add object at 0x7fd1aa6ed550> False\n",
            "<keras.layers.convolutional.Conv2D object at 0x7fd1aa704f50> False\n",
            "<keras.layers.normalization.batch_normalization.BatchNormalization object at 0x7fd1aa708ad0> False\n",
            "<keras.layers.advanced_activations.ReLU object at 0x7fd1aa6f3d10> False\n",
            "<keras.layers.convolutional.ZeroPadding2D object at 0x7fd1aa6e2190> False\n",
            "<keras.layers.convolutional.DepthwiseConv2D object at 0x7fd1aa750a90> False\n",
            "<keras.layers.normalization.batch_normalization.BatchNormalization object at 0x7fd1aa741090> False\n",
            "<keras.layers.advanced_activations.ReLU object at 0x7fd1aa6f84d0> False\n",
            "<keras.layers.convolutional.Conv2D object at 0x7fd1aa72df90> False\n",
            "<keras.layers.normalization.batch_normalization.BatchNormalization object at 0x7fd1aa772c10> False\n",
            "<keras.layers.convolutional.Conv2D object at 0x7fd1aa70b050> False\n",
            "<keras.layers.normalization.batch_normalization.BatchNormalization object at 0x7fd1aa785890> False\n",
            "<keras.layers.advanced_activations.ReLU object at 0x7fd1aa714150> False\n",
            "<keras.layers.convolutional.DepthwiseConv2D object at 0x7fd1aa769850> False\n",
            "<keras.layers.normalization.batch_normalization.BatchNormalization object at 0x7fd1aa71b3d0> False\n",
            "<keras.layers.advanced_activations.ReLU object at 0x7fd1aa6a6950> False\n",
            "<keras.layers.convolutional.Conv2D object at 0x7fd1aa6a1e10> False\n",
            "<keras.layers.normalization.batch_normalization.BatchNormalization object at 0x7fd1aa717e10> False\n",
            "<keras.layers.merge.Add object at 0x7fd1aa6b9790> False\n",
            "<keras.layers.convolutional.Conv2D object at 0x7fd1aa6c3e10> False\n",
            "<keras.layers.normalization.batch_normalization.BatchNormalization object at 0x7fd1aa6b4890> False\n",
            "<keras.layers.advanced_activations.ReLU object at 0x7fd1aa6bf7d0> False\n",
            "<keras.layers.convolutional.DepthwiseConv2D object at 0x7fd1aa6cb850> False\n",
            "<keras.layers.normalization.batch_normalization.BatchNormalization object at 0x7fd1aa6d2c10> False\n",
            "<keras.layers.advanced_activations.ReLU object at 0x7fd1aa6cb190> False\n",
            "<keras.layers.convolutional.Conv2D object at 0x7fd1aa6d6110> False\n",
            "<keras.layers.normalization.batch_normalization.BatchNormalization object at 0x7fd1aa662410> False\n",
            "<keras.layers.merge.Add object at 0x7fd1aa6d9c50> False\n",
            "<keras.layers.convolutional.Conv2D object at 0x7fd1aa66ef50> False\n",
            "<keras.layers.normalization.batch_normalization.BatchNormalization object at 0x7fd1aa674490> False\n",
            "<keras.layers.advanced_activations.ReLU object at 0x7fd1aa674750> False\n",
            "<keras.layers.convolutional.ZeroPadding2D object at 0x7fd1aa66e050> False\n",
            "<keras.layers.convolutional.DepthwiseConv2D object at 0x7fd1aa6807d0> False\n",
            "<keras.layers.normalization.batch_normalization.BatchNormalization object at 0x7fd1aa684e50> False\n",
            "<keras.layers.advanced_activations.ReLU object at 0x7fd1aa688c50> False\n",
            "<keras.layers.convolutional.Conv2D object at 0x7fd1aa680990> False\n",
            "<keras.layers.normalization.batch_normalization.BatchNormalization object at 0x7fd1aa690d90> False\n",
            "<keras.layers.convolutional.Conv2D object at 0x7fd1aa69a890> False\n",
            "<keras.layers.normalization.batch_normalization.BatchNormalization object at 0x7fd1aa69fa50> False\n",
            "<keras.layers.advanced_activations.ReLU object at 0x7fd1aa623d10> False\n",
            "<keras.layers.convolutional.DepthwiseConv2D object at 0x7fd1aa690ad0> False\n",
            "<keras.layers.normalization.batch_normalization.BatchNormalization object at 0x7fd1aa623a10> False\n",
            "<keras.layers.advanced_activations.ReLU object at 0x7fd1aa636250> False\n",
            "<keras.layers.convolutional.Conv2D object at 0x7fd1aa63dad0> False\n",
            "<keras.layers.normalization.batch_normalization.BatchNormalization object at 0x7fd1aa641250> False\n",
            "<keras.layers.merge.Add object at 0x7fd1aa632c10> False\n",
            "<keras.layers.convolutional.Conv2D object at 0x7fd1aa69f7d0> False\n",
            "<keras.layers.normalization.batch_normalization.BatchNormalization object at 0x7fd1aa680790> False\n",
            "<keras.layers.advanced_activations.ReLU object at 0x7fd1aa688990> False\n",
            "<keras.layers.convolutional.DepthwiseConv2D object at 0x7fd1aa69f2d0> False\n",
            "<keras.layers.normalization.batch_normalization.BatchNormalization object at 0x7fd1aa66bd50> False\n",
            "<keras.layers.advanced_activations.ReLU object at 0x7fd1aa636910> False\n",
            "<keras.layers.convolutional.Conv2D object at 0x7fd1aa674790> False\n",
            "<keras.layers.normalization.batch_normalization.BatchNormalization object at 0x7fd1aa7145d0> False\n",
            "<keras.layers.merge.Add object at 0x7fd1aa772a50> False\n",
            "<keras.layers.convolutional.Conv2D object at 0x7fd1aa741e10> False\n",
            "<keras.layers.normalization.batch_normalization.BatchNormalization object at 0x7fd1aa652490> False\n",
            "<keras.layers.advanced_activations.ReLU object at 0x7fd1aa6510d0> False\n",
            "<keras.layers.convolutional.DepthwiseConv2D object at 0x7fd1aa795a10> False\n",
            "<keras.layers.normalization.batch_normalization.BatchNormalization object at 0x7fd1aa6546d0> False\n",
            "<keras.layers.advanced_activations.ReLU object at 0x7fd1aa5e30d0> False\n",
            "<keras.layers.convolutional.Conv2D object at 0x7fd1aa65bcd0> False\n",
            "<keras.layers.normalization.batch_normalization.BatchNormalization object at 0x7fd1aa654850> False\n",
            "<keras.layers.merge.Add object at 0x7fd1aa5f2d50> False\n",
            "<keras.layers.convolutional.Conv2D object at 0x7fd1aa5fbe10> False\n",
            "<keras.layers.normalization.batch_normalization.BatchNormalization object at 0x7fd1aa5f2f50> False\n",
            "<keras.layers.advanced_activations.ReLU object at 0x7fd1aa5f7750> False\n",
            "<keras.layers.convolutional.DepthwiseConv2D object at 0x7fd1aa5ff790> False\n",
            "<keras.layers.normalization.batch_normalization.BatchNormalization object at 0x7fd1aa6094d0> False\n",
            "<keras.layers.advanced_activations.ReLU object at 0x7fd1aa5e9110> False\n",
            "<keras.layers.convolutional.Conv2D object at 0x7fd1aa606990> False\n",
            "<keras.layers.normalization.batch_normalization.BatchNormalization object at 0x7fd1aa61d410> False\n",
            "<keras.layers.convolutional.Conv2D object at 0x7fd1aa60fe50> False\n",
            "<keras.layers.normalization.batch_normalization.BatchNormalization object at 0x7fd1aa5a7b50> False\n",
            "<keras.layers.advanced_activations.ReLU object at 0x7fd1aa5ab410> False\n",
            "<keras.layers.convolutional.DepthwiseConv2D object at 0x7fd1aa5a4510> False\n",
            "<keras.layers.normalization.batch_normalization.BatchNormalization object at 0x7fd1aa5b0550> False\n",
            "<keras.layers.advanced_activations.ReLU object at 0x7fd1aa5be0d0> False\n",
            "<keras.layers.convolutional.Conv2D object at 0x7fd1aa5be750> False\n",
            "<keras.layers.normalization.batch_normalization.BatchNormalization object at 0x7fd1aa5c44d0> False\n",
            "<keras.layers.merge.Add object at 0x7fd1aa5d0790> False\n",
            "<keras.layers.convolutional.Conv2D object at 0x7fd1aa5c4550> False\n",
            "<keras.layers.normalization.batch_normalization.BatchNormalization object at 0x7fd1aa5da750> False\n",
            "<keras.layers.advanced_activations.ReLU object at 0x7fd1aa560d90> False\n",
            "<keras.layers.convolutional.DepthwiseConv2D object at 0x7fd1aa564650> False\n",
            "<keras.layers.normalization.batch_normalization.BatchNormalization object at 0x7fd1aa567a90> False\n",
            "<keras.layers.advanced_activations.ReLU object at 0x7fd1aa5b7d50> False\n",
            "<keras.layers.convolutional.Conv2D object at 0x7fd1aa614b90> False\n",
            "<keras.layers.normalization.batch_normalization.BatchNormalization object at 0x7fd1aa5ab7d0> False\n",
            "<keras.layers.merge.Add object at 0x7fd1aa5b0d50> False\n",
            "<keras.layers.convolutional.Conv2D object at 0x7fd1aa5f2d90> False\n",
            "<keras.layers.normalization.batch_normalization.BatchNormalization object at 0x7fd1aa647210> False\n",
            "<keras.layers.advanced_activations.ReLU object at 0x7fd1aa60f790> False\n",
            "<keras.layers.convolutional.ZeroPadding2D object at 0x7fd1aa651790> False\n",
            "<keras.layers.convolutional.DepthwiseConv2D object at 0x7fd1aa6521d0> False\n",
            "<keras.layers.normalization.batch_normalization.BatchNormalization object at 0x7fd1aa6b0f90> False\n",
            "<keras.layers.advanced_activations.ReLU object at 0x7fd1aa6517d0> False\n",
            "<keras.layers.convolutional.Conv2D object at 0x7fd1aa653950> False\n",
            "<keras.layers.normalization.batch_normalization.BatchNormalization object at 0x7fd1aa578610> False\n",
            "<keras.layers.convolutional.Conv2D object at 0x7fd1aa56eed0> False\n",
            "<keras.layers.normalization.batch_normalization.BatchNormalization object at 0x7fd1aa579050> False\n",
            "<keras.layers.advanced_activations.ReLU object at 0x7fd1aa583350> False\n",
            "<keras.layers.convolutional.DepthwiseConv2D object at 0x7fd1aa583950> False\n",
            "<keras.layers.normalization.batch_normalization.BatchNormalization object at 0x7fd1aa57b750> False\n",
            "<keras.layers.advanced_activations.ReLU object at 0x7fd1aa593290> False\n",
            "<keras.layers.convolutional.Conv2D object at 0x7fd1aa593350> False\n",
            "<keras.layers.normalization.batch_normalization.BatchNormalization object at 0x7fd1aa59d710> False\n",
            "<keras.layers.merge.Add object at 0x7fd1aa526f50> False\n",
            "<keras.layers.convolutional.Conv2D object at 0x7fd1aa522550> False\n",
            "<keras.layers.normalization.batch_normalization.BatchNormalization object at 0x7fd1aa531610> False\n",
            "<keras.layers.advanced_activations.ReLU object at 0x7fd1aa53aa50> False\n",
            "<keras.layers.convolutional.DepthwiseConv2D object at 0x7fd1aa53af10> False\n",
            "<keras.layers.normalization.batch_normalization.BatchNormalization object at 0x7fd1aa53f3d0> False\n",
            "<keras.layers.advanced_activations.ReLU object at 0x7fd1aa54dad0> False\n",
            "<keras.layers.convolutional.Conv2D object at 0x7fd1aa54ded0> False\n",
            "<keras.layers.normalization.batch_normalization.BatchNormalization object at 0x7fd1aa59d550> False\n",
            "<keras.layers.merge.Add object at 0x7fd1aa55c490> False\n",
            "<keras.layers.convolutional.Conv2D object at 0x7fd1aa55ca50> False\n",
            "<keras.layers.normalization.batch_normalization.BatchNormalization object at 0x7fd1aa4e12d0> False\n",
            "<keras.layers.advanced_activations.ReLU object at 0x7fd1aa4e6b50> False\n",
            "<keras.layers.convolutional.DepthwiseConv2D object at 0x7fd1aa4ee650> False\n",
            "<keras.layers.normalization.batch_normalization.BatchNormalization object at 0x7fd1aa4f5950> False\n",
            "<keras.layers.advanced_activations.ReLU object at 0x7fd1aa4ee810> False\n",
            "<keras.layers.convolutional.Conv2D object at 0x7fd1aa4e1c10> False\n",
            "<keras.layers.normalization.batch_normalization.BatchNormalization object at 0x7fd1aa503e10> False\n",
            "<keras.layers.convolutional.Conv2D object at 0x7fd1aa6324d0> False\n",
            "<keras.layers.normalization.batch_normalization.BatchNormalization object at 0x7fd1aa5562d0> True\n",
            "<keras.layers.advanced_activations.ReLU object at 0x7fd1aa53a510> True\n"
          ]
        }
      ]
    },
    {
      "cell_type": "code",
      "metadata": {
        "colab": {
          "base_uri": "https://localhost:8080/"
        },
        "id": "-xSynFN7TA4n",
        "outputId": "afa6eac0-55a0-4a2a-e6e8-fe86963fbcd5"
      },
      "source": [
        "base_model.output"
      ],
      "execution_count": 8,
      "outputs": [
        {
          "output_type": "execute_result",
          "data": {
            "text/plain": [
              "<KerasTensor: shape=(None, 7, 7, 1280) dtype=float32 (created by layer 'out_relu')>"
            ]
          },
          "metadata": {},
          "execution_count": 8
        }
      ]
    },
    {
      "cell_type": "code",
      "metadata": {
        "colab": {
          "base_uri": "https://localhost:8080/"
        },
        "id": "V3ExomrNTDKC",
        "outputId": "50234b02-f66e-4a90-accb-0fea6f42ee32"
      },
      "source": [
        "## Adding additional layers\n",
        "\n",
        "# Applies average pooling on spatial dimensions\n",
        "# shape (None, 1280)\n",
        "x = GlobalAveragePooling2D()(base_model.output) \n",
        "\n",
        "# Reshape (None, 1280) to (1, 1, 1280)\n",
        "x = Reshape((1, 1, 1280))(x)\n",
        "\n",
        "# Apply a Dropout\n",
        "# Randomly selected neurons are ignored during training; helps prevent overfitting\n",
        "# Dropout doesn't have any variables/weights that can be frozen during training\n",
        "x = Dropout(0.3, name='Dropout')(x) \n",
        "\n",
        "# 2D convolutional layer\n",
        "# Shape (1,1,5)\n",
        "x = Conv2D(5, (1, 1), padding='same', data_format = 'channels_last')(x)\n",
        "\n",
        "# Feeds all outputs from previous layers to all neurons\n",
        "x = Activation('softmax', name='softmax')(x)  \n",
        "\n",
        "# Reshape (1,1,5) to (,5)\n",
        "# 5 represents the 5 sound classes\n",
        "x = Reshape((5,))(x)\n",
        "\n",
        "model = Model(inputs = base_model.inputs, outputs = x)\n",
        "model.summary()"
      ],
      "execution_count": 9,
      "outputs": [
        {
          "output_type": "stream",
          "name": "stdout",
          "text": [
            "Model: \"model\"\n",
            "__________________________________________________________________________________________________\n",
            "Layer (type)                    Output Shape         Param #     Connected to                     \n",
            "==================================================================================================\n",
            "input_1 (InputLayer)            [(None, 224, 224, 3) 0                                            \n",
            "__________________________________________________________________________________________________\n",
            "Conv1 (Conv2D)                  (None, 112, 112, 32) 864         input_1[0][0]                    \n",
            "__________________________________________________________________________________________________\n",
            "bn_Conv1 (BatchNormalization)   (None, 112, 112, 32) 128         Conv1[0][0]                      \n",
            "__________________________________________________________________________________________________\n",
            "Conv1_relu (ReLU)               (None, 112, 112, 32) 0           bn_Conv1[0][0]                   \n",
            "__________________________________________________________________________________________________\n",
            "expanded_conv_depthwise (Depthw (None, 112, 112, 32) 288         Conv1_relu[0][0]                 \n",
            "__________________________________________________________________________________________________\n",
            "expanded_conv_depthwise_BN (Bat (None, 112, 112, 32) 128         expanded_conv_depthwise[0][0]    \n",
            "__________________________________________________________________________________________________\n",
            "expanded_conv_depthwise_relu (R (None, 112, 112, 32) 0           expanded_conv_depthwise_BN[0][0] \n",
            "__________________________________________________________________________________________________\n",
            "expanded_conv_project (Conv2D)  (None, 112, 112, 16) 512         expanded_conv_depthwise_relu[0][0\n",
            "__________________________________________________________________________________________________\n",
            "expanded_conv_project_BN (Batch (None, 112, 112, 16) 64          expanded_conv_project[0][0]      \n",
            "__________________________________________________________________________________________________\n",
            "block_1_expand (Conv2D)         (None, 112, 112, 96) 1536        expanded_conv_project_BN[0][0]   \n",
            "__________________________________________________________________________________________________\n",
            "block_1_expand_BN (BatchNormali (None, 112, 112, 96) 384         block_1_expand[0][0]             \n",
            "__________________________________________________________________________________________________\n",
            "block_1_expand_relu (ReLU)      (None, 112, 112, 96) 0           block_1_expand_BN[0][0]          \n",
            "__________________________________________________________________________________________________\n",
            "block_1_pad (ZeroPadding2D)     (None, 113, 113, 96) 0           block_1_expand_relu[0][0]        \n",
            "__________________________________________________________________________________________________\n",
            "block_1_depthwise (DepthwiseCon (None, 56, 56, 96)   864         block_1_pad[0][0]                \n",
            "__________________________________________________________________________________________________\n",
            "block_1_depthwise_BN (BatchNorm (None, 56, 56, 96)   384         block_1_depthwise[0][0]          \n",
            "__________________________________________________________________________________________________\n",
            "block_1_depthwise_relu (ReLU)   (None, 56, 56, 96)   0           block_1_depthwise_BN[0][0]       \n",
            "__________________________________________________________________________________________________\n",
            "block_1_project (Conv2D)        (None, 56, 56, 24)   2304        block_1_depthwise_relu[0][0]     \n",
            "__________________________________________________________________________________________________\n",
            "block_1_project_BN (BatchNormal (None, 56, 56, 24)   96          block_1_project[0][0]            \n",
            "__________________________________________________________________________________________________\n",
            "block_2_expand (Conv2D)         (None, 56, 56, 144)  3456        block_1_project_BN[0][0]         \n",
            "__________________________________________________________________________________________________\n",
            "block_2_expand_BN (BatchNormali (None, 56, 56, 144)  576         block_2_expand[0][0]             \n",
            "__________________________________________________________________________________________________\n",
            "block_2_expand_relu (ReLU)      (None, 56, 56, 144)  0           block_2_expand_BN[0][0]          \n",
            "__________________________________________________________________________________________________\n",
            "block_2_depthwise (DepthwiseCon (None, 56, 56, 144)  1296        block_2_expand_relu[0][0]        \n",
            "__________________________________________________________________________________________________\n",
            "block_2_depthwise_BN (BatchNorm (None, 56, 56, 144)  576         block_2_depthwise[0][0]          \n",
            "__________________________________________________________________________________________________\n",
            "block_2_depthwise_relu (ReLU)   (None, 56, 56, 144)  0           block_2_depthwise_BN[0][0]       \n",
            "__________________________________________________________________________________________________\n",
            "block_2_project (Conv2D)        (None, 56, 56, 24)   3456        block_2_depthwise_relu[0][0]     \n",
            "__________________________________________________________________________________________________\n",
            "block_2_project_BN (BatchNormal (None, 56, 56, 24)   96          block_2_project[0][0]            \n",
            "__________________________________________________________________________________________________\n",
            "block_2_add (Add)               (None, 56, 56, 24)   0           block_1_project_BN[0][0]         \n",
            "                                                                 block_2_project_BN[0][0]         \n",
            "__________________________________________________________________________________________________\n",
            "block_3_expand (Conv2D)         (None, 56, 56, 144)  3456        block_2_add[0][0]                \n",
            "__________________________________________________________________________________________________\n",
            "block_3_expand_BN (BatchNormali (None, 56, 56, 144)  576         block_3_expand[0][0]             \n",
            "__________________________________________________________________________________________________\n",
            "block_3_expand_relu (ReLU)      (None, 56, 56, 144)  0           block_3_expand_BN[0][0]          \n",
            "__________________________________________________________________________________________________\n",
            "block_3_pad (ZeroPadding2D)     (None, 57, 57, 144)  0           block_3_expand_relu[0][0]        \n",
            "__________________________________________________________________________________________________\n",
            "block_3_depthwise (DepthwiseCon (None, 28, 28, 144)  1296        block_3_pad[0][0]                \n",
            "__________________________________________________________________________________________________\n",
            "block_3_depthwise_BN (BatchNorm (None, 28, 28, 144)  576         block_3_depthwise[0][0]          \n",
            "__________________________________________________________________________________________________\n",
            "block_3_depthwise_relu (ReLU)   (None, 28, 28, 144)  0           block_3_depthwise_BN[0][0]       \n",
            "__________________________________________________________________________________________________\n",
            "block_3_project (Conv2D)        (None, 28, 28, 32)   4608        block_3_depthwise_relu[0][0]     \n",
            "__________________________________________________________________________________________________\n",
            "block_3_project_BN (BatchNormal (None, 28, 28, 32)   128         block_3_project[0][0]            \n",
            "__________________________________________________________________________________________________\n",
            "block_4_expand (Conv2D)         (None, 28, 28, 192)  6144        block_3_project_BN[0][0]         \n",
            "__________________________________________________________________________________________________\n",
            "block_4_expand_BN (BatchNormali (None, 28, 28, 192)  768         block_4_expand[0][0]             \n",
            "__________________________________________________________________________________________________\n",
            "block_4_expand_relu (ReLU)      (None, 28, 28, 192)  0           block_4_expand_BN[0][0]          \n",
            "__________________________________________________________________________________________________\n",
            "block_4_depthwise (DepthwiseCon (None, 28, 28, 192)  1728        block_4_expand_relu[0][0]        \n",
            "__________________________________________________________________________________________________\n",
            "block_4_depthwise_BN (BatchNorm (None, 28, 28, 192)  768         block_4_depthwise[0][0]          \n",
            "__________________________________________________________________________________________________\n",
            "block_4_depthwise_relu (ReLU)   (None, 28, 28, 192)  0           block_4_depthwise_BN[0][0]       \n",
            "__________________________________________________________________________________________________\n",
            "block_4_project (Conv2D)        (None, 28, 28, 32)   6144        block_4_depthwise_relu[0][0]     \n",
            "__________________________________________________________________________________________________\n",
            "block_4_project_BN (BatchNormal (None, 28, 28, 32)   128         block_4_project[0][0]            \n",
            "__________________________________________________________________________________________________\n",
            "block_4_add (Add)               (None, 28, 28, 32)   0           block_3_project_BN[0][0]         \n",
            "                                                                 block_4_project_BN[0][0]         \n",
            "__________________________________________________________________________________________________\n",
            "block_5_expand (Conv2D)         (None, 28, 28, 192)  6144        block_4_add[0][0]                \n",
            "__________________________________________________________________________________________________\n",
            "block_5_expand_BN (BatchNormali (None, 28, 28, 192)  768         block_5_expand[0][0]             \n",
            "__________________________________________________________________________________________________\n",
            "block_5_expand_relu (ReLU)      (None, 28, 28, 192)  0           block_5_expand_BN[0][0]          \n",
            "__________________________________________________________________________________________________\n",
            "block_5_depthwise (DepthwiseCon (None, 28, 28, 192)  1728        block_5_expand_relu[0][0]        \n",
            "__________________________________________________________________________________________________\n",
            "block_5_depthwise_BN (BatchNorm (None, 28, 28, 192)  768         block_5_depthwise[0][0]          \n",
            "__________________________________________________________________________________________________\n",
            "block_5_depthwise_relu (ReLU)   (None, 28, 28, 192)  0           block_5_depthwise_BN[0][0]       \n",
            "__________________________________________________________________________________________________\n",
            "block_5_project (Conv2D)        (None, 28, 28, 32)   6144        block_5_depthwise_relu[0][0]     \n",
            "__________________________________________________________________________________________________\n",
            "block_5_project_BN (BatchNormal (None, 28, 28, 32)   128         block_5_project[0][0]            \n",
            "__________________________________________________________________________________________________\n",
            "block_5_add (Add)               (None, 28, 28, 32)   0           block_4_add[0][0]                \n",
            "                                                                 block_5_project_BN[0][0]         \n",
            "__________________________________________________________________________________________________\n",
            "block_6_expand (Conv2D)         (None, 28, 28, 192)  6144        block_5_add[0][0]                \n",
            "__________________________________________________________________________________________________\n",
            "block_6_expand_BN (BatchNormali (None, 28, 28, 192)  768         block_6_expand[0][0]             \n",
            "__________________________________________________________________________________________________\n",
            "block_6_expand_relu (ReLU)      (None, 28, 28, 192)  0           block_6_expand_BN[0][0]          \n",
            "__________________________________________________________________________________________________\n",
            "block_6_pad (ZeroPadding2D)     (None, 29, 29, 192)  0           block_6_expand_relu[0][0]        \n",
            "__________________________________________________________________________________________________\n",
            "block_6_depthwise (DepthwiseCon (None, 14, 14, 192)  1728        block_6_pad[0][0]                \n",
            "__________________________________________________________________________________________________\n",
            "block_6_depthwise_BN (BatchNorm (None, 14, 14, 192)  768         block_6_depthwise[0][0]          \n",
            "__________________________________________________________________________________________________\n",
            "block_6_depthwise_relu (ReLU)   (None, 14, 14, 192)  0           block_6_depthwise_BN[0][0]       \n",
            "__________________________________________________________________________________________________\n",
            "block_6_project (Conv2D)        (None, 14, 14, 64)   12288       block_6_depthwise_relu[0][0]     \n",
            "__________________________________________________________________________________________________\n",
            "block_6_project_BN (BatchNormal (None, 14, 14, 64)   256         block_6_project[0][0]            \n",
            "__________________________________________________________________________________________________\n",
            "block_7_expand (Conv2D)         (None, 14, 14, 384)  24576       block_6_project_BN[0][0]         \n",
            "__________________________________________________________________________________________________\n",
            "block_7_expand_BN (BatchNormali (None, 14, 14, 384)  1536        block_7_expand[0][0]             \n",
            "__________________________________________________________________________________________________\n",
            "block_7_expand_relu (ReLU)      (None, 14, 14, 384)  0           block_7_expand_BN[0][0]          \n",
            "__________________________________________________________________________________________________\n",
            "block_7_depthwise (DepthwiseCon (None, 14, 14, 384)  3456        block_7_expand_relu[0][0]        \n",
            "__________________________________________________________________________________________________\n",
            "block_7_depthwise_BN (BatchNorm (None, 14, 14, 384)  1536        block_7_depthwise[0][0]          \n",
            "__________________________________________________________________________________________________\n",
            "block_7_depthwise_relu (ReLU)   (None, 14, 14, 384)  0           block_7_depthwise_BN[0][0]       \n",
            "__________________________________________________________________________________________________\n",
            "block_7_project (Conv2D)        (None, 14, 14, 64)   24576       block_7_depthwise_relu[0][0]     \n",
            "__________________________________________________________________________________________________\n",
            "block_7_project_BN (BatchNormal (None, 14, 14, 64)   256         block_7_project[0][0]            \n",
            "__________________________________________________________________________________________________\n",
            "block_7_add (Add)               (None, 14, 14, 64)   0           block_6_project_BN[0][0]         \n",
            "                                                                 block_7_project_BN[0][0]         \n",
            "__________________________________________________________________________________________________\n",
            "block_8_expand (Conv2D)         (None, 14, 14, 384)  24576       block_7_add[0][0]                \n",
            "__________________________________________________________________________________________________\n",
            "block_8_expand_BN (BatchNormali (None, 14, 14, 384)  1536        block_8_expand[0][0]             \n",
            "__________________________________________________________________________________________________\n",
            "block_8_expand_relu (ReLU)      (None, 14, 14, 384)  0           block_8_expand_BN[0][0]          \n",
            "__________________________________________________________________________________________________\n",
            "block_8_depthwise (DepthwiseCon (None, 14, 14, 384)  3456        block_8_expand_relu[0][0]        \n",
            "__________________________________________________________________________________________________\n",
            "block_8_depthwise_BN (BatchNorm (None, 14, 14, 384)  1536        block_8_depthwise[0][0]          \n",
            "__________________________________________________________________________________________________\n",
            "block_8_depthwise_relu (ReLU)   (None, 14, 14, 384)  0           block_8_depthwise_BN[0][0]       \n",
            "__________________________________________________________________________________________________\n",
            "block_8_project (Conv2D)        (None, 14, 14, 64)   24576       block_8_depthwise_relu[0][0]     \n",
            "__________________________________________________________________________________________________\n",
            "block_8_project_BN (BatchNormal (None, 14, 14, 64)   256         block_8_project[0][0]            \n",
            "__________________________________________________________________________________________________\n",
            "block_8_add (Add)               (None, 14, 14, 64)   0           block_7_add[0][0]                \n",
            "                                                                 block_8_project_BN[0][0]         \n",
            "__________________________________________________________________________________________________\n",
            "block_9_expand (Conv2D)         (None, 14, 14, 384)  24576       block_8_add[0][0]                \n",
            "__________________________________________________________________________________________________\n",
            "block_9_expand_BN (BatchNormali (None, 14, 14, 384)  1536        block_9_expand[0][0]             \n",
            "__________________________________________________________________________________________________\n",
            "block_9_expand_relu (ReLU)      (None, 14, 14, 384)  0           block_9_expand_BN[0][0]          \n",
            "__________________________________________________________________________________________________\n",
            "block_9_depthwise (DepthwiseCon (None, 14, 14, 384)  3456        block_9_expand_relu[0][0]        \n",
            "__________________________________________________________________________________________________\n",
            "block_9_depthwise_BN (BatchNorm (None, 14, 14, 384)  1536        block_9_depthwise[0][0]          \n",
            "__________________________________________________________________________________________________\n",
            "block_9_depthwise_relu (ReLU)   (None, 14, 14, 384)  0           block_9_depthwise_BN[0][0]       \n",
            "__________________________________________________________________________________________________\n",
            "block_9_project (Conv2D)        (None, 14, 14, 64)   24576       block_9_depthwise_relu[0][0]     \n",
            "__________________________________________________________________________________________________\n",
            "block_9_project_BN (BatchNormal (None, 14, 14, 64)   256         block_9_project[0][0]            \n",
            "__________________________________________________________________________________________________\n",
            "block_9_add (Add)               (None, 14, 14, 64)   0           block_8_add[0][0]                \n",
            "                                                                 block_9_project_BN[0][0]         \n",
            "__________________________________________________________________________________________________\n",
            "block_10_expand (Conv2D)        (None, 14, 14, 384)  24576       block_9_add[0][0]                \n",
            "__________________________________________________________________________________________________\n",
            "block_10_expand_BN (BatchNormal (None, 14, 14, 384)  1536        block_10_expand[0][0]            \n",
            "__________________________________________________________________________________________________\n",
            "block_10_expand_relu (ReLU)     (None, 14, 14, 384)  0           block_10_expand_BN[0][0]         \n",
            "__________________________________________________________________________________________________\n",
            "block_10_depthwise (DepthwiseCo (None, 14, 14, 384)  3456        block_10_expand_relu[0][0]       \n",
            "__________________________________________________________________________________________________\n",
            "block_10_depthwise_BN (BatchNor (None, 14, 14, 384)  1536        block_10_depthwise[0][0]         \n",
            "__________________________________________________________________________________________________\n",
            "block_10_depthwise_relu (ReLU)  (None, 14, 14, 384)  0           block_10_depthwise_BN[0][0]      \n",
            "__________________________________________________________________________________________________\n",
            "block_10_project (Conv2D)       (None, 14, 14, 96)   36864       block_10_depthwise_relu[0][0]    \n",
            "__________________________________________________________________________________________________\n",
            "block_10_project_BN (BatchNorma (None, 14, 14, 96)   384         block_10_project[0][0]           \n",
            "__________________________________________________________________________________________________\n",
            "block_11_expand (Conv2D)        (None, 14, 14, 576)  55296       block_10_project_BN[0][0]        \n",
            "__________________________________________________________________________________________________\n",
            "block_11_expand_BN (BatchNormal (None, 14, 14, 576)  2304        block_11_expand[0][0]            \n",
            "__________________________________________________________________________________________________\n",
            "block_11_expand_relu (ReLU)     (None, 14, 14, 576)  0           block_11_expand_BN[0][0]         \n",
            "__________________________________________________________________________________________________\n",
            "block_11_depthwise (DepthwiseCo (None, 14, 14, 576)  5184        block_11_expand_relu[0][0]       \n",
            "__________________________________________________________________________________________________\n",
            "block_11_depthwise_BN (BatchNor (None, 14, 14, 576)  2304        block_11_depthwise[0][0]         \n",
            "__________________________________________________________________________________________________\n",
            "block_11_depthwise_relu (ReLU)  (None, 14, 14, 576)  0           block_11_depthwise_BN[0][0]      \n",
            "__________________________________________________________________________________________________\n",
            "block_11_project (Conv2D)       (None, 14, 14, 96)   55296       block_11_depthwise_relu[0][0]    \n",
            "__________________________________________________________________________________________________\n",
            "block_11_project_BN (BatchNorma (None, 14, 14, 96)   384         block_11_project[0][0]           \n",
            "__________________________________________________________________________________________________\n",
            "block_11_add (Add)              (None, 14, 14, 96)   0           block_10_project_BN[0][0]        \n",
            "                                                                 block_11_project_BN[0][0]        \n",
            "__________________________________________________________________________________________________\n",
            "block_12_expand (Conv2D)        (None, 14, 14, 576)  55296       block_11_add[0][0]               \n",
            "__________________________________________________________________________________________________\n",
            "block_12_expand_BN (BatchNormal (None, 14, 14, 576)  2304        block_12_expand[0][0]            \n",
            "__________________________________________________________________________________________________\n",
            "block_12_expand_relu (ReLU)     (None, 14, 14, 576)  0           block_12_expand_BN[0][0]         \n",
            "__________________________________________________________________________________________________\n",
            "block_12_depthwise (DepthwiseCo (None, 14, 14, 576)  5184        block_12_expand_relu[0][0]       \n",
            "__________________________________________________________________________________________________\n",
            "block_12_depthwise_BN (BatchNor (None, 14, 14, 576)  2304        block_12_depthwise[0][0]         \n",
            "__________________________________________________________________________________________________\n",
            "block_12_depthwise_relu (ReLU)  (None, 14, 14, 576)  0           block_12_depthwise_BN[0][0]      \n",
            "__________________________________________________________________________________________________\n",
            "block_12_project (Conv2D)       (None, 14, 14, 96)   55296       block_12_depthwise_relu[0][0]    \n",
            "__________________________________________________________________________________________________\n",
            "block_12_project_BN (BatchNorma (None, 14, 14, 96)   384         block_12_project[0][0]           \n",
            "__________________________________________________________________________________________________\n",
            "block_12_add (Add)              (None, 14, 14, 96)   0           block_11_add[0][0]               \n",
            "                                                                 block_12_project_BN[0][0]        \n",
            "__________________________________________________________________________________________________\n",
            "block_13_expand (Conv2D)        (None, 14, 14, 576)  55296       block_12_add[0][0]               \n",
            "__________________________________________________________________________________________________\n",
            "block_13_expand_BN (BatchNormal (None, 14, 14, 576)  2304        block_13_expand[0][0]            \n",
            "__________________________________________________________________________________________________\n",
            "block_13_expand_relu (ReLU)     (None, 14, 14, 576)  0           block_13_expand_BN[0][0]         \n",
            "__________________________________________________________________________________________________\n",
            "block_13_pad (ZeroPadding2D)    (None, 15, 15, 576)  0           block_13_expand_relu[0][0]       \n",
            "__________________________________________________________________________________________________\n",
            "block_13_depthwise (DepthwiseCo (None, 7, 7, 576)    5184        block_13_pad[0][0]               \n",
            "__________________________________________________________________________________________________\n",
            "block_13_depthwise_BN (BatchNor (None, 7, 7, 576)    2304        block_13_depthwise[0][0]         \n",
            "__________________________________________________________________________________________________\n",
            "block_13_depthwise_relu (ReLU)  (None, 7, 7, 576)    0           block_13_depthwise_BN[0][0]      \n",
            "__________________________________________________________________________________________________\n",
            "block_13_project (Conv2D)       (None, 7, 7, 160)    92160       block_13_depthwise_relu[0][0]    \n",
            "__________________________________________________________________________________________________\n",
            "block_13_project_BN (BatchNorma (None, 7, 7, 160)    640         block_13_project[0][0]           \n",
            "__________________________________________________________________________________________________\n",
            "block_14_expand (Conv2D)        (None, 7, 7, 960)    153600      block_13_project_BN[0][0]        \n",
            "__________________________________________________________________________________________________\n",
            "block_14_expand_BN (BatchNormal (None, 7, 7, 960)    3840        block_14_expand[0][0]            \n",
            "__________________________________________________________________________________________________\n",
            "block_14_expand_relu (ReLU)     (None, 7, 7, 960)    0           block_14_expand_BN[0][0]         \n",
            "__________________________________________________________________________________________________\n",
            "block_14_depthwise (DepthwiseCo (None, 7, 7, 960)    8640        block_14_expand_relu[0][0]       \n",
            "__________________________________________________________________________________________________\n",
            "block_14_depthwise_BN (BatchNor (None, 7, 7, 960)    3840        block_14_depthwise[0][0]         \n",
            "__________________________________________________________________________________________________\n",
            "block_14_depthwise_relu (ReLU)  (None, 7, 7, 960)    0           block_14_depthwise_BN[0][0]      \n",
            "__________________________________________________________________________________________________\n",
            "block_14_project (Conv2D)       (None, 7, 7, 160)    153600      block_14_depthwise_relu[0][0]    \n",
            "__________________________________________________________________________________________________\n",
            "block_14_project_BN (BatchNorma (None, 7, 7, 160)    640         block_14_project[0][0]           \n",
            "__________________________________________________________________________________________________\n",
            "block_14_add (Add)              (None, 7, 7, 160)    0           block_13_project_BN[0][0]        \n",
            "                                                                 block_14_project_BN[0][0]        \n",
            "__________________________________________________________________________________________________\n",
            "block_15_expand (Conv2D)        (None, 7, 7, 960)    153600      block_14_add[0][0]               \n",
            "__________________________________________________________________________________________________\n",
            "block_15_expand_BN (BatchNormal (None, 7, 7, 960)    3840        block_15_expand[0][0]            \n",
            "__________________________________________________________________________________________________\n",
            "block_15_expand_relu (ReLU)     (None, 7, 7, 960)    0           block_15_expand_BN[0][0]         \n",
            "__________________________________________________________________________________________________\n",
            "block_15_depthwise (DepthwiseCo (None, 7, 7, 960)    8640        block_15_expand_relu[0][0]       \n",
            "__________________________________________________________________________________________________\n",
            "block_15_depthwise_BN (BatchNor (None, 7, 7, 960)    3840        block_15_depthwise[0][0]         \n",
            "__________________________________________________________________________________________________\n",
            "block_15_depthwise_relu (ReLU)  (None, 7, 7, 960)    0           block_15_depthwise_BN[0][0]      \n",
            "__________________________________________________________________________________________________\n",
            "block_15_project (Conv2D)       (None, 7, 7, 160)    153600      block_15_depthwise_relu[0][0]    \n",
            "__________________________________________________________________________________________________\n",
            "block_15_project_BN (BatchNorma (None, 7, 7, 160)    640         block_15_project[0][0]           \n",
            "__________________________________________________________________________________________________\n",
            "block_15_add (Add)              (None, 7, 7, 160)    0           block_14_add[0][0]               \n",
            "                                                                 block_15_project_BN[0][0]        \n",
            "__________________________________________________________________________________________________\n",
            "block_16_expand (Conv2D)        (None, 7, 7, 960)    153600      block_15_add[0][0]               \n",
            "__________________________________________________________________________________________________\n",
            "block_16_expand_BN (BatchNormal (None, 7, 7, 960)    3840        block_16_expand[0][0]            \n",
            "__________________________________________________________________________________________________\n",
            "block_16_expand_relu (ReLU)     (None, 7, 7, 960)    0           block_16_expand_BN[0][0]         \n",
            "__________________________________________________________________________________________________\n",
            "block_16_depthwise (DepthwiseCo (None, 7, 7, 960)    8640        block_16_expand_relu[0][0]       \n",
            "__________________________________________________________________________________________________\n",
            "block_16_depthwise_BN (BatchNor (None, 7, 7, 960)    3840        block_16_depthwise[0][0]         \n",
            "__________________________________________________________________________________________________\n",
            "block_16_depthwise_relu (ReLU)  (None, 7, 7, 960)    0           block_16_depthwise_BN[0][0]      \n",
            "__________________________________________________________________________________________________\n",
            "block_16_project (Conv2D)       (None, 7, 7, 320)    307200      block_16_depthwise_relu[0][0]    \n",
            "__________________________________________________________________________________________________\n",
            "block_16_project_BN (BatchNorma (None, 7, 7, 320)    1280        block_16_project[0][0]           \n",
            "__________________________________________________________________________________________________\n",
            "Conv_1 (Conv2D)                 (None, 7, 7, 1280)   409600      block_16_project_BN[0][0]        \n",
            "__________________________________________________________________________________________________\n",
            "Conv_1_bn (BatchNormalization)  (None, 7, 7, 1280)   5120        Conv_1[0][0]                     \n",
            "__________________________________________________________________________________________________\n",
            "out_relu (ReLU)                 (None, 7, 7, 1280)   0           Conv_1_bn[0][0]                  \n",
            "__________________________________________________________________________________________________\n",
            "global_average_pooling2d (Globa (None, 1280)         0           out_relu[0][0]                   \n",
            "__________________________________________________________________________________________________\n",
            "reshape (Reshape)               (None, 1, 1, 1280)   0           global_average_pooling2d[0][0]   \n",
            "__________________________________________________________________________________________________\n",
            "Dropout (Dropout)               (None, 1, 1, 1280)   0           reshape[0][0]                    \n",
            "__________________________________________________________________________________________________\n",
            "conv2d (Conv2D)                 (None, 1, 1, 5)      6405        Dropout[0][0]                    \n",
            "__________________________________________________________________________________________________\n",
            "softmax (Activation)            (None, 1, 1, 5)      0           conv2d[0][0]                     \n",
            "__________________________________________________________________________________________________\n",
            "reshape_1 (Reshape)             (None, 5)            0           softmax[0][0]                    \n",
            "==================================================================================================\n",
            "Total params: 2,264,389\n",
            "Trainable params: 8,965\n",
            "Non-trainable params: 2,255,424\n",
            "__________________________________________________________________________________________________\n"
          ]
        }
      ]
    },
    {
      "cell_type": "code",
      "metadata": {
        "colab": {
          "base_uri": "https://localhost:8080/"
        },
        "id": "nii9wTSbTFwQ",
        "outputId": "d74cc0a6-f849-4f4f-ec87-ca1a44d12cfa"
      },
      "source": [
        "model.output_shape"
      ],
      "execution_count": 10,
      "outputs": [
        {
          "output_type": "execute_result",
          "data": {
            "text/plain": [
              "(None, 5)"
            ]
          },
          "metadata": {},
          "execution_count": 10
        }
      ]
    },
    {
      "cell_type": "code",
      "metadata": {
        "id": "szNxIz6nTIko"
      },
      "source": [
        "# Configuring the model\n",
        "# Use crossentropy loss function when there are two or more label classes\n",
        "# Labels are provided as integers -> Use sparse_categorical_crossentropy\n",
        "# Adjust learning rate to reduce loss\n",
        "#model.compile(optimizer=\"Adam\", loss=\"sparse_categorical_crossentropy\", metrics=[\"accuracy\"])\n",
        "\n",
        "opt = tf.keras.optimizers.Adam(learning_rate=0.0003)\n",
        "model.compile(optimizer = opt, loss=\"sparse_categorical_crossentropy\", metrics=[\"accuracy\"])"
      ],
      "execution_count": 11,
      "outputs": []
    },
    {
      "cell_type": "code",
      "metadata": {
        "colab": {
          "base_uri": "https://localhost:8080/"
        },
        "id": "MhtEyj2lTKco",
        "outputId": "175e4d96-ad52-44e9-e176-2d7c858b6360"
      },
      "source": [
        "# Train the model\n",
        "initial_epochs = 20\n",
        "fine_tune_epochs = 10\n",
        "total_epochs = initial_epochs + fine_tune_epochs\n",
        "training = model.fit(train_data, train_label, epochs=total_epochs, validation_data=(test_data, test_label), verbose=1)"
      ],
      "execution_count": 12,
      "outputs": [
        {
          "output_type": "stream",
          "name": "stdout",
          "text": [
            "Epoch 1/30\n",
            "38/38 [==============================] - 45s 1s/step - loss: 1.2805 - accuracy: 0.4975 - val_loss: 1.3407 - val_accuracy: 0.4441\n",
            "Epoch 2/30\n",
            "38/38 [==============================] - 42s 1s/step - loss: 0.7738 - accuracy: 0.7425 - val_loss: 1.0828 - val_accuracy: 0.6349\n",
            "Epoch 3/30\n",
            "38/38 [==============================] - 41s 1s/step - loss: 0.5903 - accuracy: 0.8081 - val_loss: 0.9644 - val_accuracy: 0.6645\n",
            "Epoch 4/30\n",
            "38/38 [==============================] - 43s 1s/step - loss: 0.5035 - accuracy: 0.8389 - val_loss: 0.8972 - val_accuracy: 0.6645\n",
            "Epoch 5/30\n",
            "38/38 [==============================] - 42s 1s/step - loss: 0.4469 - accuracy: 0.8522 - val_loss: 0.8372 - val_accuracy: 0.6941\n",
            "Epoch 6/30\n",
            "38/38 [==============================] - 43s 1s/step - loss: 0.3919 - accuracy: 0.8679 - val_loss: 0.8352 - val_accuracy: 0.6809\n",
            "Epoch 7/30\n",
            "38/38 [==============================] - 43s 1s/step - loss: 0.3427 - accuracy: 0.9003 - val_loss: 0.7776 - val_accuracy: 0.7072\n",
            "Epoch 8/30\n",
            "38/38 [==============================] - 43s 1s/step - loss: 0.3116 - accuracy: 0.8995 - val_loss: 0.7324 - val_accuracy: 0.7303\n",
            "Epoch 9/30\n",
            "38/38 [==============================] - 44s 1s/step - loss: 0.2915 - accuracy: 0.9128 - val_loss: 0.7352 - val_accuracy: 0.7171\n",
            "Epoch 10/30\n",
            "38/38 [==============================] - 43s 1s/step - loss: 0.2804 - accuracy: 0.9153 - val_loss: 0.6836 - val_accuracy: 0.7566\n",
            "Epoch 11/30\n",
            "38/38 [==============================] - 43s 1s/step - loss: 0.2541 - accuracy: 0.9277 - val_loss: 0.6532 - val_accuracy: 0.7763\n",
            "Epoch 12/30\n",
            "38/38 [==============================] - 42s 1s/step - loss: 0.2444 - accuracy: 0.9261 - val_loss: 0.6359 - val_accuracy: 0.7862\n",
            "Epoch 13/30\n",
            "38/38 [==============================] - 43s 1s/step - loss: 0.2430 - accuracy: 0.9252 - val_loss: 0.5929 - val_accuracy: 0.8289\n",
            "Epoch 14/30\n",
            "38/38 [==============================] - 43s 1s/step - loss: 0.2247 - accuracy: 0.9286 - val_loss: 0.5694 - val_accuracy: 0.8421\n",
            "Epoch 15/30\n",
            "38/38 [==============================] - 43s 1s/step - loss: 0.2203 - accuracy: 0.9286 - val_loss: 0.5385 - val_accuracy: 0.8487\n",
            "Epoch 16/30\n",
            "38/38 [==============================] - 42s 1s/step - loss: 0.2079 - accuracy: 0.9369 - val_loss: 0.5188 - val_accuracy: 0.8717\n",
            "Epoch 17/30\n",
            "38/38 [==============================] - 43s 1s/step - loss: 0.1976 - accuracy: 0.9452 - val_loss: 0.5126 - val_accuracy: 0.8586\n",
            "Epoch 18/30\n",
            "38/38 [==============================] - 42s 1s/step - loss: 0.1999 - accuracy: 0.9385 - val_loss: 0.5025 - val_accuracy: 0.8618\n",
            "Epoch 19/30\n",
            "38/38 [==============================] - 42s 1s/step - loss: 0.1811 - accuracy: 0.9394 - val_loss: 0.4670 - val_accuracy: 0.8816\n",
            "Epoch 20/30\n",
            "38/38 [==============================] - 42s 1s/step - loss: 0.1746 - accuracy: 0.9460 - val_loss: 0.4566 - val_accuracy: 0.8816\n",
            "Epoch 21/30\n",
            "38/38 [==============================] - 43s 1s/step - loss: 0.1842 - accuracy: 0.9460 - val_loss: 0.4281 - val_accuracy: 0.9112\n",
            "Epoch 22/30\n",
            "38/38 [==============================] - 43s 1s/step - loss: 0.1686 - accuracy: 0.9485 - val_loss: 0.4203 - val_accuracy: 0.9112\n",
            "Epoch 23/30\n",
            "38/38 [==============================] - 44s 1s/step - loss: 0.1613 - accuracy: 0.9551 - val_loss: 0.4055 - val_accuracy: 0.9112\n",
            "Epoch 24/30\n",
            "38/38 [==============================] - 43s 1s/step - loss: 0.1516 - accuracy: 0.9535 - val_loss: 0.3929 - val_accuracy: 0.9178\n",
            "Epoch 25/30\n",
            "38/38 [==============================] - 43s 1s/step - loss: 0.1509 - accuracy: 0.9551 - val_loss: 0.3779 - val_accuracy: 0.9178\n",
            "Epoch 26/30\n",
            "38/38 [==============================] - 43s 1s/step - loss: 0.1436 - accuracy: 0.9601 - val_loss: 0.3697 - val_accuracy: 0.9145\n",
            "Epoch 27/30\n",
            "38/38 [==============================] - 43s 1s/step - loss: 0.1388 - accuracy: 0.9593 - val_loss: 0.3582 - val_accuracy: 0.9178\n",
            "Epoch 28/30\n",
            "38/38 [==============================] - 43s 1s/step - loss: 0.1418 - accuracy: 0.9635 - val_loss: 0.3464 - val_accuracy: 0.9276\n",
            "Epoch 29/30\n",
            "38/38 [==============================] - 42s 1s/step - loss: 0.1454 - accuracy: 0.9493 - val_loss: 0.3362 - val_accuracy: 0.9211\n",
            "Epoch 30/30\n",
            "38/38 [==============================] - 43s 1s/step - loss: 0.1341 - accuracy: 0.9643 - val_loss: 0.3181 - val_accuracy: 0.9309\n"
          ]
        }
      ]
    },
    {
      "cell_type": "markdown",
      "metadata": {
        "id": "tJBo9B59TR4o"
      },
      "source": [
        "### Perform quantization aware training"
      ]
    },
    {
      "cell_type": "markdown",
      "metadata": {
        "id": "tExk1hRSYpCb"
      },
      "source": [
        "#### Define the model\n",
        "Resulting model is quantization aware but not quantized (weights are float32 instead of int8)\n",
        "\n",
        "https://github.com/tensorflow/model-optimization/issues/368\n",
        "\n",
        "https://colab.research.google.com/github/tensorflow/model-optimization/blob/master/tensorflow_model_optimization/g3doc/guide/quantization/training_example.ipynb#scrollTo=_PHDGJryE31X "
      ]
    },
    {
      "cell_type": "code",
      "metadata": {
        "id": "acGutrEJXgpq",
        "colab": {
          "base_uri": "https://localhost:8080/"
        },
        "outputId": "7b1e5fbe-6dc7-4b9a-e976-6749ab133b9d"
      },
      "source": [
        "!pip uninstall tensorflow_model_optimization"
      ],
      "execution_count": 22,
      "outputs": [
        {
          "output_type": "stream",
          "name": "stdout",
          "text": [
            "Found existing installation: tensorflow-model-optimization 0.7.0\n",
            "Uninstalling tensorflow-model-optimization-0.7.0:\n",
            "  Would remove:\n",
            "    /root/.local/lib/python3.7/site-packages/tensorflow_model_optimization-0.7.0.dist-info/*\n",
            "    /root/.local/lib/python3.7/site-packages/tensorflow_model_optimization/*\n",
            "Proceed (y/n)? y\n",
            "  Successfully uninstalled tensorflow-model-optimization-0.7.0\n"
          ]
        }
      ]
    },
    {
      "cell_type": "code",
      "metadata": {
        "id": "BrPBYgcZX09o"
      },
      "source": [
        "! pip install -q tensorflow\n",
        "! pip install -q tensorflow-model-optimization\n",
        "#! pip install --user --upgrade tensorflow-model-optimization"
      ],
      "execution_count": 23,
      "outputs": []
    },
    {
      "cell_type": "code",
      "metadata": {
        "id": "bjtP42xnXhgB"
      },
      "source": [
        "import tensorflow_model_optimization as tfmot"
      ],
      "execution_count": 24,
      "outputs": []
    },
    {
      "cell_type": "code",
      "metadata": {
        "id": "UOvi3v3WTcGM"
      },
      "source": [
        "import tensorflow.compat.v2 as tf\n",
        "import tempfile"
      ],
      "execution_count": 25,
      "outputs": []
    },
    {
      "cell_type": "code",
      "metadata": {
        "id": "651HRHN1XfKL"
      },
      "source": [
        "quantize_model = tfmot.quantization.keras.quantize_model"
      ],
      "execution_count": 26,
      "outputs": []
    },
    {
      "cell_type": "code",
      "metadata": {
        "colab": {
          "base_uri": "https://localhost:8080/"
        },
        "id": "2iqvdf-BX1Ce",
        "outputId": "b0c5e7f9-85fd-4e6b-ce0a-7581e730f9aa"
      },
      "source": [
        "# q_aware stands for quantization aware\n",
        "q_aware_model = quantize_model(model)"
      ],
      "execution_count": 27,
      "outputs": [
        {
          "output_type": "stream",
          "name": "stderr",
          "text": [
            "/usr/local/lib/python3.7/dist-packages/keras/utils/generic_utils.py:497: CustomMaskWarning: Custom mask layers require a config and must override get_config. When loading, the custom mask layer must be passed to the custom_objects argument.\n",
            "  category=CustomMaskWarning)\n"
          ]
        }
      ]
    },
    {
      "cell_type": "code",
      "metadata": {
        "id": "FA3iDnFZXrpq"
      },
      "source": [
        "# 'quantize_model' requires recompile\n",
        "opt = tf.keras.optimizers.Adam(learning_rate=0.0003)\n",
        "q_aware_model.compile(optimizer = opt, loss=\"sparse_categorical_crossentropy\", metrics=[\"accuracy\"])"
      ],
      "execution_count": 28,
      "outputs": []
    },
    {
      "cell_type": "code",
      "metadata": {
        "colab": {
          "base_uri": "https://localhost:8080/"
        },
        "id": "GZoPI1_pYdp8",
        "outputId": "85613656-24cb-4aa4-c3b2-fa50776092b1"
      },
      "source": [
        "# All layers prefixed by \"quant\"\n",
        "q_aware_model.summary()"
      ],
      "execution_count": 29,
      "outputs": [
        {
          "output_type": "stream",
          "name": "stdout",
          "text": [
            "Model: \"model\"\n",
            "__________________________________________________________________________________________________\n",
            "Layer (type)                    Output Shape         Param #     Connected to                     \n",
            "==================================================================================================\n",
            "input_1 (InputLayer)            [(None, 224, 224, 3) 0                                            \n",
            "__________________________________________________________________________________________________\n",
            "quantize_layer (QuantizeLayer)  (None, 224, 224, 3)  3           input_1[0][0]                    \n",
            "__________________________________________________________________________________________________\n",
            "quant_Conv1 (QuantizeWrapperV2) (None, 112, 112, 32) 929         quantize_layer[1][0]             \n",
            "__________________________________________________________________________________________________\n",
            "quant_bn_Conv1 (QuantizeWrapper (None, 112, 112, 32) 129         quant_Conv1[0][0]                \n",
            "__________________________________________________________________________________________________\n",
            "quant_Conv1_relu (QuantizeWrapp (None, 112, 112, 32) 3           quant_bn_Conv1[0][0]             \n",
            "__________________________________________________________________________________________________\n",
            "quant_expanded_conv_depthwise ( (None, 112, 112, 32) 291         quant_Conv1_relu[0][0]           \n",
            "__________________________________________________________________________________________________\n",
            "quant_expanded_conv_depthwise_B (None, 112, 112, 32) 129         quant_expanded_conv_depthwise[0][\n",
            "__________________________________________________________________________________________________\n",
            "quant_expanded_conv_depthwise_r (None, 112, 112, 32) 3           quant_expanded_conv_depthwise_BN[\n",
            "__________________________________________________________________________________________________\n",
            "quant_expanded_conv_project (Qu (None, 112, 112, 16) 545         quant_expanded_conv_depthwise_rel\n",
            "__________________________________________________________________________________________________\n",
            "quant_expanded_conv_project_BN  (None, 112, 112, 16) 67          quant_expanded_conv_project[0][0]\n",
            "__________________________________________________________________________________________________\n",
            "quant_block_1_expand (QuantizeW (None, 112, 112, 96) 1729        quant_expanded_conv_project_BN[0]\n",
            "__________________________________________________________________________________________________\n",
            "quant_block_1_expand_BN (Quanti (None, 112, 112, 96) 385         quant_block_1_expand[0][0]       \n",
            "__________________________________________________________________________________________________\n",
            "quant_block_1_expand_relu (Quan (None, 112, 112, 96) 3           quant_block_1_expand_BN[0][0]    \n",
            "__________________________________________________________________________________________________\n",
            "quant_block_1_pad (QuantizeWrap (None, 113, 113, 96) 1           quant_block_1_expand_relu[0][0]  \n",
            "__________________________________________________________________________________________________\n",
            "quant_block_1_depthwise (Quanti (None, 56, 56, 96)   867         quant_block_1_pad[0][0]          \n",
            "__________________________________________________________________________________________________\n",
            "quant_block_1_depthwise_BN (Qua (None, 56, 56, 96)   385         quant_block_1_depthwise[0][0]    \n",
            "__________________________________________________________________________________________________\n",
            "quant_block_1_depthwise_relu (Q (None, 56, 56, 96)   3           quant_block_1_depthwise_BN[0][0] \n",
            "__________________________________________________________________________________________________\n",
            "quant_block_1_project (Quantize (None, 56, 56, 24)   2353        quant_block_1_depthwise_relu[0][0\n",
            "__________________________________________________________________________________________________\n",
            "quant_block_1_project_BN (Quant (None, 56, 56, 24)   99          quant_block_1_project[0][0]      \n",
            "__________________________________________________________________________________________________\n",
            "quant_block_2_expand (QuantizeW (None, 56, 56, 144)  3745        quant_block_1_project_BN[0][0]   \n",
            "__________________________________________________________________________________________________\n",
            "quant_block_2_expand_BN (Quanti (None, 56, 56, 144)  577         quant_block_2_expand[0][0]       \n",
            "__________________________________________________________________________________________________\n",
            "quant_block_2_expand_relu (Quan (None, 56, 56, 144)  3           quant_block_2_expand_BN[0][0]    \n",
            "__________________________________________________________________________________________________\n",
            "quant_block_2_depthwise (Quanti (None, 56, 56, 144)  1299        quant_block_2_expand_relu[0][0]  \n",
            "__________________________________________________________________________________________________\n",
            "quant_block_2_depthwise_BN (Qua (None, 56, 56, 144)  577         quant_block_2_depthwise[0][0]    \n",
            "__________________________________________________________________________________________________\n",
            "quant_block_2_depthwise_relu (Q (None, 56, 56, 144)  3           quant_block_2_depthwise_BN[0][0] \n",
            "__________________________________________________________________________________________________\n",
            "quant_block_2_project (Quantize (None, 56, 56, 24)   3505        quant_block_2_depthwise_relu[0][0\n",
            "__________________________________________________________________________________________________\n",
            "quant_block_2_project_BN (Quant (None, 56, 56, 24)   99          quant_block_2_project[0][0]      \n",
            "__________________________________________________________________________________________________\n",
            "quant_block_2_add (QuantizeWrap (None, 56, 56, 24)   3           quant_block_1_project_BN[0][0]   \n",
            "                                                                 quant_block_2_project_BN[0][0]   \n",
            "__________________________________________________________________________________________________\n",
            "quant_block_3_expand (QuantizeW (None, 56, 56, 144)  3745        quant_block_2_add[0][0]          \n",
            "__________________________________________________________________________________________________\n",
            "quant_block_3_expand_BN (Quanti (None, 56, 56, 144)  577         quant_block_3_expand[0][0]       \n",
            "__________________________________________________________________________________________________\n",
            "quant_block_3_expand_relu (Quan (None, 56, 56, 144)  3           quant_block_3_expand_BN[0][0]    \n",
            "__________________________________________________________________________________________________\n",
            "quant_block_3_pad (QuantizeWrap (None, 57, 57, 144)  1           quant_block_3_expand_relu[0][0]  \n",
            "__________________________________________________________________________________________________\n",
            "quant_block_3_depthwise (Quanti (None, 28, 28, 144)  1299        quant_block_3_pad[0][0]          \n",
            "__________________________________________________________________________________________________\n",
            "quant_block_3_depthwise_BN (Qua (None, 28, 28, 144)  577         quant_block_3_depthwise[0][0]    \n",
            "__________________________________________________________________________________________________\n",
            "quant_block_3_depthwise_relu (Q (None, 28, 28, 144)  3           quant_block_3_depthwise_BN[0][0] \n",
            "__________________________________________________________________________________________________\n",
            "quant_block_3_project (Quantize (None, 28, 28, 32)   4673        quant_block_3_depthwise_relu[0][0\n",
            "__________________________________________________________________________________________________\n",
            "quant_block_3_project_BN (Quant (None, 28, 28, 32)   131         quant_block_3_project[0][0]      \n",
            "__________________________________________________________________________________________________\n",
            "quant_block_4_expand (QuantizeW (None, 28, 28, 192)  6529        quant_block_3_project_BN[0][0]   \n",
            "__________________________________________________________________________________________________\n",
            "quant_block_4_expand_BN (Quanti (None, 28, 28, 192)  769         quant_block_4_expand[0][0]       \n",
            "__________________________________________________________________________________________________\n",
            "quant_block_4_expand_relu (Quan (None, 28, 28, 192)  3           quant_block_4_expand_BN[0][0]    \n",
            "__________________________________________________________________________________________________\n",
            "quant_block_4_depthwise (Quanti (None, 28, 28, 192)  1731        quant_block_4_expand_relu[0][0]  \n",
            "__________________________________________________________________________________________________\n",
            "quant_block_4_depthwise_BN (Qua (None, 28, 28, 192)  769         quant_block_4_depthwise[0][0]    \n",
            "__________________________________________________________________________________________________\n",
            "quant_block_4_depthwise_relu (Q (None, 28, 28, 192)  3           quant_block_4_depthwise_BN[0][0] \n",
            "__________________________________________________________________________________________________\n",
            "quant_block_4_project (Quantize (None, 28, 28, 32)   6209        quant_block_4_depthwise_relu[0][0\n",
            "__________________________________________________________________________________________________\n",
            "quant_block_4_project_BN (Quant (None, 28, 28, 32)   131         quant_block_4_project[0][0]      \n",
            "__________________________________________________________________________________________________\n",
            "quant_block_4_add (QuantizeWrap (None, 28, 28, 32)   3           quant_block_3_project_BN[0][0]   \n",
            "                                                                 quant_block_4_project_BN[0][0]   \n",
            "__________________________________________________________________________________________________\n",
            "quant_block_5_expand (QuantizeW (None, 28, 28, 192)  6529        quant_block_4_add[0][0]          \n",
            "__________________________________________________________________________________________________\n",
            "quant_block_5_expand_BN (Quanti (None, 28, 28, 192)  769         quant_block_5_expand[0][0]       \n",
            "__________________________________________________________________________________________________\n",
            "quant_block_5_expand_relu (Quan (None, 28, 28, 192)  3           quant_block_5_expand_BN[0][0]    \n",
            "__________________________________________________________________________________________________\n",
            "quant_block_5_depthwise (Quanti (None, 28, 28, 192)  1731        quant_block_5_expand_relu[0][0]  \n",
            "__________________________________________________________________________________________________\n",
            "quant_block_5_depthwise_BN (Qua (None, 28, 28, 192)  769         quant_block_5_depthwise[0][0]    \n",
            "__________________________________________________________________________________________________\n",
            "quant_block_5_depthwise_relu (Q (None, 28, 28, 192)  3           quant_block_5_depthwise_BN[0][0] \n",
            "__________________________________________________________________________________________________\n",
            "quant_block_5_project (Quantize (None, 28, 28, 32)   6209        quant_block_5_depthwise_relu[0][0\n",
            "__________________________________________________________________________________________________\n",
            "quant_block_5_project_BN (Quant (None, 28, 28, 32)   131         quant_block_5_project[0][0]      \n",
            "__________________________________________________________________________________________________\n",
            "quant_block_5_add (QuantizeWrap (None, 28, 28, 32)   3           quant_block_4_add[0][0]          \n",
            "                                                                 quant_block_5_project_BN[0][0]   \n",
            "__________________________________________________________________________________________________\n",
            "quant_block_6_expand (QuantizeW (None, 28, 28, 192)  6529        quant_block_5_add[0][0]          \n",
            "__________________________________________________________________________________________________\n",
            "quant_block_6_expand_BN (Quanti (None, 28, 28, 192)  769         quant_block_6_expand[0][0]       \n",
            "__________________________________________________________________________________________________\n",
            "quant_block_6_expand_relu (Quan (None, 28, 28, 192)  3           quant_block_6_expand_BN[0][0]    \n",
            "__________________________________________________________________________________________________\n",
            "quant_block_6_pad (QuantizeWrap (None, 29, 29, 192)  1           quant_block_6_expand_relu[0][0]  \n",
            "__________________________________________________________________________________________________\n",
            "quant_block_6_depthwise (Quanti (None, 14, 14, 192)  1731        quant_block_6_pad[0][0]          \n",
            "__________________________________________________________________________________________________\n",
            "quant_block_6_depthwise_BN (Qua (None, 14, 14, 192)  769         quant_block_6_depthwise[0][0]    \n",
            "__________________________________________________________________________________________________\n",
            "quant_block_6_depthwise_relu (Q (None, 14, 14, 192)  3           quant_block_6_depthwise_BN[0][0] \n",
            "__________________________________________________________________________________________________\n",
            "quant_block_6_project (Quantize (None, 14, 14, 64)   12417       quant_block_6_depthwise_relu[0][0\n",
            "__________________________________________________________________________________________________\n",
            "quant_block_6_project_BN (Quant (None, 14, 14, 64)   259         quant_block_6_project[0][0]      \n",
            "__________________________________________________________________________________________________\n",
            "quant_block_7_expand (QuantizeW (None, 14, 14, 384)  25345       quant_block_6_project_BN[0][0]   \n",
            "__________________________________________________________________________________________________\n",
            "quant_block_7_expand_BN (Quanti (None, 14, 14, 384)  1537        quant_block_7_expand[0][0]       \n",
            "__________________________________________________________________________________________________\n",
            "quant_block_7_expand_relu (Quan (None, 14, 14, 384)  3           quant_block_7_expand_BN[0][0]    \n",
            "__________________________________________________________________________________________________\n",
            "quant_block_7_depthwise (Quanti (None, 14, 14, 384)  3459        quant_block_7_expand_relu[0][0]  \n",
            "__________________________________________________________________________________________________\n",
            "quant_block_7_depthwise_BN (Qua (None, 14, 14, 384)  1537        quant_block_7_depthwise[0][0]    \n",
            "__________________________________________________________________________________________________\n",
            "quant_block_7_depthwise_relu (Q (None, 14, 14, 384)  3           quant_block_7_depthwise_BN[0][0] \n",
            "__________________________________________________________________________________________________\n",
            "quant_block_7_project (Quantize (None, 14, 14, 64)   24705       quant_block_7_depthwise_relu[0][0\n",
            "__________________________________________________________________________________________________\n",
            "quant_block_7_project_BN (Quant (None, 14, 14, 64)   259         quant_block_7_project[0][0]      \n",
            "__________________________________________________________________________________________________\n",
            "quant_block_7_add (QuantizeWrap (None, 14, 14, 64)   3           quant_block_6_project_BN[0][0]   \n",
            "                                                                 quant_block_7_project_BN[0][0]   \n",
            "__________________________________________________________________________________________________\n",
            "quant_block_8_expand (QuantizeW (None, 14, 14, 384)  25345       quant_block_7_add[0][0]          \n",
            "__________________________________________________________________________________________________\n",
            "quant_block_8_expand_BN (Quanti (None, 14, 14, 384)  1537        quant_block_8_expand[0][0]       \n",
            "__________________________________________________________________________________________________\n",
            "quant_block_8_expand_relu (Quan (None, 14, 14, 384)  3           quant_block_8_expand_BN[0][0]    \n",
            "__________________________________________________________________________________________________\n",
            "quant_block_8_depthwise (Quanti (None, 14, 14, 384)  3459        quant_block_8_expand_relu[0][0]  \n",
            "__________________________________________________________________________________________________\n",
            "quant_block_8_depthwise_BN (Qua (None, 14, 14, 384)  1537        quant_block_8_depthwise[0][0]    \n",
            "__________________________________________________________________________________________________\n",
            "quant_block_8_depthwise_relu (Q (None, 14, 14, 384)  3           quant_block_8_depthwise_BN[0][0] \n",
            "__________________________________________________________________________________________________\n",
            "quant_block_8_project (Quantize (None, 14, 14, 64)   24705       quant_block_8_depthwise_relu[0][0\n",
            "__________________________________________________________________________________________________\n",
            "quant_block_8_project_BN (Quant (None, 14, 14, 64)   259         quant_block_8_project[0][0]      \n",
            "__________________________________________________________________________________________________\n",
            "quant_block_8_add (QuantizeWrap (None, 14, 14, 64)   3           quant_block_7_add[0][0]          \n",
            "                                                                 quant_block_8_project_BN[0][0]   \n",
            "__________________________________________________________________________________________________\n",
            "quant_block_9_expand (QuantizeW (None, 14, 14, 384)  25345       quant_block_8_add[0][0]          \n",
            "__________________________________________________________________________________________________\n",
            "quant_block_9_expand_BN (Quanti (None, 14, 14, 384)  1537        quant_block_9_expand[0][0]       \n",
            "__________________________________________________________________________________________________\n",
            "quant_block_9_expand_relu (Quan (None, 14, 14, 384)  3           quant_block_9_expand_BN[0][0]    \n",
            "__________________________________________________________________________________________________\n",
            "quant_block_9_depthwise (Quanti (None, 14, 14, 384)  3459        quant_block_9_expand_relu[0][0]  \n",
            "__________________________________________________________________________________________________\n",
            "quant_block_9_depthwise_BN (Qua (None, 14, 14, 384)  1537        quant_block_9_depthwise[0][0]    \n",
            "__________________________________________________________________________________________________\n",
            "quant_block_9_depthwise_relu (Q (None, 14, 14, 384)  3           quant_block_9_depthwise_BN[0][0] \n",
            "__________________________________________________________________________________________________\n",
            "quant_block_9_project (Quantize (None, 14, 14, 64)   24705       quant_block_9_depthwise_relu[0][0\n",
            "__________________________________________________________________________________________________\n",
            "quant_block_9_project_BN (Quant (None, 14, 14, 64)   259         quant_block_9_project[0][0]      \n",
            "__________________________________________________________________________________________________\n",
            "quant_block_9_add (QuantizeWrap (None, 14, 14, 64)   3           quant_block_8_add[0][0]          \n",
            "                                                                 quant_block_9_project_BN[0][0]   \n",
            "__________________________________________________________________________________________________\n",
            "quant_block_10_expand (Quantize (None, 14, 14, 384)  25345       quant_block_9_add[0][0]          \n",
            "__________________________________________________________________________________________________\n",
            "quant_block_10_expand_BN (Quant (None, 14, 14, 384)  1537        quant_block_10_expand[0][0]      \n",
            "__________________________________________________________________________________________________\n",
            "quant_block_10_expand_relu (Qua (None, 14, 14, 384)  3           quant_block_10_expand_BN[0][0]   \n",
            "__________________________________________________________________________________________________\n",
            "quant_block_10_depthwise (Quant (None, 14, 14, 384)  3459        quant_block_10_expand_relu[0][0] \n",
            "__________________________________________________________________________________________________\n",
            "quant_block_10_depthwise_BN (Qu (None, 14, 14, 384)  1537        quant_block_10_depthwise[0][0]   \n",
            "__________________________________________________________________________________________________\n",
            "quant_block_10_depthwise_relu ( (None, 14, 14, 384)  3           quant_block_10_depthwise_BN[0][0]\n",
            "__________________________________________________________________________________________________\n",
            "quant_block_10_project (Quantiz (None, 14, 14, 96)   37057       quant_block_10_depthwise_relu[0][\n",
            "__________________________________________________________________________________________________\n",
            "quant_block_10_project_BN (Quan (None, 14, 14, 96)   387         quant_block_10_project[0][0]     \n",
            "__________________________________________________________________________________________________\n",
            "quant_block_11_expand (Quantize (None, 14, 14, 576)  56449       quant_block_10_project_BN[0][0]  \n",
            "__________________________________________________________________________________________________\n",
            "quant_block_11_expand_BN (Quant (None, 14, 14, 576)  2305        quant_block_11_expand[0][0]      \n",
            "__________________________________________________________________________________________________\n",
            "quant_block_11_expand_relu (Qua (None, 14, 14, 576)  3           quant_block_11_expand_BN[0][0]   \n",
            "__________________________________________________________________________________________________\n",
            "quant_block_11_depthwise (Quant (None, 14, 14, 576)  5187        quant_block_11_expand_relu[0][0] \n",
            "__________________________________________________________________________________________________\n",
            "quant_block_11_depthwise_BN (Qu (None, 14, 14, 576)  2305        quant_block_11_depthwise[0][0]   \n",
            "__________________________________________________________________________________________________\n",
            "quant_block_11_depthwise_relu ( (None, 14, 14, 576)  3           quant_block_11_depthwise_BN[0][0]\n",
            "__________________________________________________________________________________________________\n",
            "quant_block_11_project (Quantiz (None, 14, 14, 96)   55489       quant_block_11_depthwise_relu[0][\n",
            "__________________________________________________________________________________________________\n",
            "quant_block_11_project_BN (Quan (None, 14, 14, 96)   387         quant_block_11_project[0][0]     \n",
            "__________________________________________________________________________________________________\n",
            "quant_block_11_add (QuantizeWra (None, 14, 14, 96)   3           quant_block_10_project_BN[0][0]  \n",
            "                                                                 quant_block_11_project_BN[0][0]  \n",
            "__________________________________________________________________________________________________\n",
            "quant_block_12_expand (Quantize (None, 14, 14, 576)  56449       quant_block_11_add[0][0]         \n",
            "__________________________________________________________________________________________________\n",
            "quant_block_12_expand_BN (Quant (None, 14, 14, 576)  2305        quant_block_12_expand[0][0]      \n",
            "__________________________________________________________________________________________________\n",
            "quant_block_12_expand_relu (Qua (None, 14, 14, 576)  3           quant_block_12_expand_BN[0][0]   \n",
            "__________________________________________________________________________________________________\n",
            "quant_block_12_depthwise (Quant (None, 14, 14, 576)  5187        quant_block_12_expand_relu[0][0] \n",
            "__________________________________________________________________________________________________\n",
            "quant_block_12_depthwise_BN (Qu (None, 14, 14, 576)  2305        quant_block_12_depthwise[0][0]   \n",
            "__________________________________________________________________________________________________\n",
            "quant_block_12_depthwise_relu ( (None, 14, 14, 576)  3           quant_block_12_depthwise_BN[0][0]\n",
            "__________________________________________________________________________________________________\n",
            "quant_block_12_project (Quantiz (None, 14, 14, 96)   55489       quant_block_12_depthwise_relu[0][\n",
            "__________________________________________________________________________________________________\n",
            "quant_block_12_project_BN (Quan (None, 14, 14, 96)   387         quant_block_12_project[0][0]     \n",
            "__________________________________________________________________________________________________\n",
            "quant_block_12_add (QuantizeWra (None, 14, 14, 96)   3           quant_block_11_add[0][0]         \n",
            "                                                                 quant_block_12_project_BN[0][0]  \n",
            "__________________________________________________________________________________________________\n",
            "quant_block_13_expand (Quantize (None, 14, 14, 576)  56449       quant_block_12_add[0][0]         \n",
            "__________________________________________________________________________________________________\n",
            "quant_block_13_expand_BN (Quant (None, 14, 14, 576)  2305        quant_block_13_expand[0][0]      \n",
            "__________________________________________________________________________________________________\n",
            "quant_block_13_expand_relu (Qua (None, 14, 14, 576)  3           quant_block_13_expand_BN[0][0]   \n",
            "__________________________________________________________________________________________________\n",
            "quant_block_13_pad (QuantizeWra (None, 15, 15, 576)  1           quant_block_13_expand_relu[0][0] \n",
            "__________________________________________________________________________________________________\n",
            "quant_block_13_depthwise (Quant (None, 7, 7, 576)    5187        quant_block_13_pad[0][0]         \n",
            "__________________________________________________________________________________________________\n",
            "quant_block_13_depthwise_BN (Qu (None, 7, 7, 576)    2305        quant_block_13_depthwise[0][0]   \n",
            "__________________________________________________________________________________________________\n",
            "quant_block_13_depthwise_relu ( (None, 7, 7, 576)    3           quant_block_13_depthwise_BN[0][0]\n",
            "__________________________________________________________________________________________________\n",
            "quant_block_13_project (Quantiz (None, 7, 7, 160)    92481       quant_block_13_depthwise_relu[0][\n",
            "__________________________________________________________________________________________________\n",
            "quant_block_13_project_BN (Quan (None, 7, 7, 160)    643         quant_block_13_project[0][0]     \n",
            "__________________________________________________________________________________________________\n",
            "quant_block_14_expand (Quantize (None, 7, 7, 960)    155521      quant_block_13_project_BN[0][0]  \n",
            "__________________________________________________________________________________________________\n",
            "quant_block_14_expand_BN (Quant (None, 7, 7, 960)    3841        quant_block_14_expand[0][0]      \n",
            "__________________________________________________________________________________________________\n",
            "quant_block_14_expand_relu (Qua (None, 7, 7, 960)    3           quant_block_14_expand_BN[0][0]   \n",
            "__________________________________________________________________________________________________\n",
            "quant_block_14_depthwise (Quant (None, 7, 7, 960)    8643        quant_block_14_expand_relu[0][0] \n",
            "__________________________________________________________________________________________________\n",
            "quant_block_14_depthwise_BN (Qu (None, 7, 7, 960)    3841        quant_block_14_depthwise[0][0]   \n",
            "__________________________________________________________________________________________________\n",
            "quant_block_14_depthwise_relu ( (None, 7, 7, 960)    3           quant_block_14_depthwise_BN[0][0]\n",
            "__________________________________________________________________________________________________\n",
            "quant_block_14_project (Quantiz (None, 7, 7, 160)    153921      quant_block_14_depthwise_relu[0][\n",
            "__________________________________________________________________________________________________\n",
            "quant_block_14_project_BN (Quan (None, 7, 7, 160)    643         quant_block_14_project[0][0]     \n",
            "__________________________________________________________________________________________________\n",
            "quant_block_14_add (QuantizeWra (None, 7, 7, 160)    3           quant_block_13_project_BN[0][0]  \n",
            "                                                                 quant_block_14_project_BN[0][0]  \n",
            "__________________________________________________________________________________________________\n",
            "quant_block_15_expand (Quantize (None, 7, 7, 960)    155521      quant_block_14_add[0][0]         \n",
            "__________________________________________________________________________________________________\n",
            "quant_block_15_expand_BN (Quant (None, 7, 7, 960)    3841        quant_block_15_expand[0][0]      \n",
            "__________________________________________________________________________________________________\n",
            "quant_block_15_expand_relu (Qua (None, 7, 7, 960)    3           quant_block_15_expand_BN[0][0]   \n",
            "__________________________________________________________________________________________________\n",
            "quant_block_15_depthwise (Quant (None, 7, 7, 960)    8643        quant_block_15_expand_relu[0][0] \n",
            "__________________________________________________________________________________________________\n",
            "quant_block_15_depthwise_BN (Qu (None, 7, 7, 960)    3841        quant_block_15_depthwise[0][0]   \n",
            "__________________________________________________________________________________________________\n",
            "quant_block_15_depthwise_relu ( (None, 7, 7, 960)    3           quant_block_15_depthwise_BN[0][0]\n",
            "__________________________________________________________________________________________________\n",
            "quant_block_15_project (Quantiz (None, 7, 7, 160)    153921      quant_block_15_depthwise_relu[0][\n",
            "__________________________________________________________________________________________________\n",
            "quant_block_15_project_BN (Quan (None, 7, 7, 160)    643         quant_block_15_project[0][0]     \n",
            "__________________________________________________________________________________________________\n",
            "quant_block_15_add (QuantizeWra (None, 7, 7, 160)    3           quant_block_14_add[0][0]         \n",
            "                                                                 quant_block_15_project_BN[0][0]  \n",
            "__________________________________________________________________________________________________\n",
            "quant_block_16_expand (Quantize (None, 7, 7, 960)    155521      quant_block_15_add[0][0]         \n",
            "__________________________________________________________________________________________________\n",
            "quant_block_16_expand_BN (Quant (None, 7, 7, 960)    3841        quant_block_16_expand[0][0]      \n",
            "__________________________________________________________________________________________________\n",
            "quant_block_16_expand_relu (Qua (None, 7, 7, 960)    3           quant_block_16_expand_BN[0][0]   \n",
            "__________________________________________________________________________________________________\n",
            "quant_block_16_depthwise (Quant (None, 7, 7, 960)    8643        quant_block_16_expand_relu[0][0] \n",
            "__________________________________________________________________________________________________\n",
            "quant_block_16_depthwise_BN (Qu (None, 7, 7, 960)    3841        quant_block_16_depthwise[0][0]   \n",
            "__________________________________________________________________________________________________\n",
            "quant_block_16_depthwise_relu ( (None, 7, 7, 960)    3           quant_block_16_depthwise_BN[0][0]\n",
            "__________________________________________________________________________________________________\n",
            "quant_block_16_project (Quantiz (None, 7, 7, 320)    307841      quant_block_16_depthwise_relu[0][\n",
            "__________________________________________________________________________________________________\n",
            "quant_block_16_project_BN (Quan (None, 7, 7, 320)    1283        quant_block_16_project[0][0]     \n",
            "__________________________________________________________________________________________________\n",
            "quant_Conv_1 (QuantizeWrapperV2 (None, 7, 7, 1280)   412161      quant_block_16_project_BN[0][0]  \n",
            "__________________________________________________________________________________________________\n",
            "quant_Conv_1_bn (QuantizeWrappe (None, 7, 7, 1280)   5121        quant_Conv_1[0][0]               \n",
            "__________________________________________________________________________________________________\n",
            "quant_out_relu (QuantizeWrapper (None, 7, 7, 1280)   3           quant_Conv_1_bn[0][0]            \n",
            "__________________________________________________________________________________________________\n",
            "quant_global_average_pooling2d  (None, 1280)         3           quant_out_relu[0][0]             \n",
            "__________________________________________________________________________________________________\n",
            "quant_reshape (QuantizeWrapperV (None, 1, 1, 1280)   1           quant_global_average_pooling2d[0]\n",
            "__________________________________________________________________________________________________\n",
            "quant_Dropout (QuantizeWrapperV (None, 1, 1, 1280)   1           quant_reshape[0][0]              \n",
            "__________________________________________________________________________________________________\n",
            "quant_conv2d (QuantizeWrapperV2 (None, 1, 1, 5)      6418        quant_Dropout[0][0]              \n",
            "__________________________________________________________________________________________________\n",
            "quant_softmax (QuantizeWrapperV (None, 1, 1, 5)      1           quant_conv2d[0][0]               \n",
            "__________________________________________________________________________________________________\n",
            "quant_reshape_1 (QuantizeWrappe (None, 5)            1           quant_softmax[0][0]              \n",
            "==================================================================================================\n",
            "Total params: 2,284,563\n",
            "Trainable params: 2,198,725\n",
            "Non-trainable params: 85,838\n",
            "__________________________________________________________________________________________________\n"
          ]
        }
      ]
    },
    {
      "cell_type": "code",
      "metadata": {
        "colab": {
          "base_uri": "https://localhost:8080/"
        },
        "id": "SMD6OOF7ZtpL",
        "outputId": "6d22cdb0-4117-49c3-c357-76c775d9979d"
      },
      "source": [
        "initial_epochs = 20\n",
        "fine_tune_epochs = 10\n",
        "total_epochs = initial_epochs + fine_tune_epochs\n",
        "q_training = q_aware_model.fit(train_data, train_label, epochs=60, validation_data=(test_data, test_label), verbose=1)"
      ],
      "execution_count": 30,
      "outputs": [
        {
          "output_type": "stream",
          "name": "stdout",
          "text": [
            "Epoch 1/60\n",
            "38/38 [==============================] - 251s 6s/step - loss: 0.6460 - accuracy: 0.7591 - val_loss: 2.2205 - val_accuracy: 0.3947\n",
            "Epoch 2/60\n",
            "38/38 [==============================] - 234s 6s/step - loss: 0.3705 - accuracy: 0.8771 - val_loss: 1.6642 - val_accuracy: 0.5592\n",
            "Epoch 3/60\n",
            "38/38 [==============================] - 239s 6s/step - loss: 0.2360 - accuracy: 0.9161 - val_loss: 6.4417 - val_accuracy: 0.2138\n",
            "Epoch 4/60\n",
            "38/38 [==============================] - 239s 6s/step - loss: 0.1788 - accuracy: 0.9369 - val_loss: 8.6502 - val_accuracy: 0.2270\n",
            "Epoch 5/60\n",
            "38/38 [==============================] - 239s 6s/step - loss: 0.1719 - accuracy: 0.9394 - val_loss: 5.5577 - val_accuracy: 0.2138\n",
            "Epoch 6/60\n",
            "38/38 [==============================] - 240s 6s/step - loss: 0.0992 - accuracy: 0.9635 - val_loss: 5.0895 - val_accuracy: 0.2632\n",
            "Epoch 7/60\n",
            "38/38 [==============================] - 238s 6s/step - loss: 0.1798 - accuracy: 0.9377 - val_loss: 3.5102 - val_accuracy: 0.3980\n",
            "Epoch 8/60\n",
            "38/38 [==============================] - 239s 6s/step - loss: 0.1462 - accuracy: 0.9435 - val_loss: 7.1186 - val_accuracy: 0.2138\n",
            "Epoch 9/60\n",
            "38/38 [==============================] - 237s 6s/step - loss: 0.0870 - accuracy: 0.9668 - val_loss: 1.8722 - val_accuracy: 0.6020\n",
            "Epoch 10/60\n",
            "38/38 [==============================] - 238s 6s/step - loss: 0.1211 - accuracy: 0.9668 - val_loss: 2.3183 - val_accuracy: 0.6546\n",
            "Epoch 11/60\n",
            "38/38 [==============================] - 237s 6s/step - loss: 0.1139 - accuracy: 0.9626 - val_loss: 5.3719 - val_accuracy: 0.3618\n",
            "Epoch 12/60\n",
            "38/38 [==============================] - 242s 6s/step - loss: 0.0598 - accuracy: 0.9801 - val_loss: 9.5469 - val_accuracy: 0.2138\n",
            "Epoch 13/60\n",
            "38/38 [==============================] - 241s 6s/step - loss: 0.0546 - accuracy: 0.9809 - val_loss: 4.9768 - val_accuracy: 0.3849\n",
            "Epoch 14/60\n",
            "38/38 [==============================] - 237s 6s/step - loss: 0.0574 - accuracy: 0.9784 - val_loss: 8.2484 - val_accuracy: 0.1974\n",
            "Epoch 15/60\n",
            "38/38 [==============================] - 247s 6s/step - loss: 0.0941 - accuracy: 0.9668 - val_loss: 6.4189 - val_accuracy: 0.2566\n",
            "Epoch 16/60\n",
            "38/38 [==============================] - 243s 6s/step - loss: 0.0548 - accuracy: 0.9784 - val_loss: 10.6870 - val_accuracy: 0.1809\n",
            "Epoch 17/60\n",
            "38/38 [==============================] - 245s 6s/step - loss: 0.0447 - accuracy: 0.9875 - val_loss: 3.4855 - val_accuracy: 0.5329\n",
            "Epoch 18/60\n",
            "38/38 [==============================] - 246s 6s/step - loss: 0.0458 - accuracy: 0.9842 - val_loss: 0.1462 - val_accuracy: 0.9441\n",
            "Epoch 19/60\n",
            "38/38 [==============================] - 244s 6s/step - loss: 0.0284 - accuracy: 0.9892 - val_loss: 3.2497 - val_accuracy: 0.6184\n",
            "Epoch 20/60\n",
            "38/38 [==============================] - 245s 6s/step - loss: 0.0764 - accuracy: 0.9759 - val_loss: 9.4109 - val_accuracy: 0.1776\n",
            "Epoch 21/60\n",
            "38/38 [==============================] - 245s 6s/step - loss: 0.0410 - accuracy: 0.9867 - val_loss: 8.6940 - val_accuracy: 0.2467\n",
            "Epoch 22/60\n",
            "38/38 [==============================] - 244s 6s/step - loss: 0.0691 - accuracy: 0.9776 - val_loss: 4.6304 - val_accuracy: 0.4934\n",
            "Epoch 23/60\n",
            "38/38 [==============================] - 245s 6s/step - loss: 0.0349 - accuracy: 0.9925 - val_loss: 7.5256 - val_accuracy: 0.3454\n",
            "Epoch 24/60\n",
            "38/38 [==============================] - 245s 6s/step - loss: 0.0297 - accuracy: 0.9909 - val_loss: 6.6475 - val_accuracy: 0.3586\n",
            "Epoch 25/60\n",
            "38/38 [==============================] - 245s 6s/step - loss: 0.0535 - accuracy: 0.9834 - val_loss: 7.2144 - val_accuracy: 0.4178\n",
            "Epoch 26/60\n",
            "38/38 [==============================] - 244s 6s/step - loss: 0.0357 - accuracy: 0.9842 - val_loss: 6.5447 - val_accuracy: 0.3914\n",
            "Epoch 27/60\n",
            "38/38 [==============================] - 245s 6s/step - loss: 0.0347 - accuracy: 0.9909 - val_loss: 3.3507 - val_accuracy: 0.4803\n",
            "Epoch 28/60\n",
            "38/38 [==============================] - 244s 6s/step - loss: 0.0728 - accuracy: 0.9834 - val_loss: 2.0400 - val_accuracy: 0.6645\n",
            "Epoch 29/60\n",
            "38/38 [==============================] - 245s 6s/step - loss: 0.0295 - accuracy: 0.9917 - val_loss: 1.4267 - val_accuracy: 0.8191\n",
            "Epoch 30/60\n",
            "38/38 [==============================] - 243s 6s/step - loss: 0.0421 - accuracy: 0.9867 - val_loss: 11.0711 - val_accuracy: 0.2270\n",
            "Epoch 31/60\n",
            "38/38 [==============================] - 243s 6s/step - loss: 0.0202 - accuracy: 0.9917 - val_loss: 10.8933 - val_accuracy: 0.2270\n",
            "Epoch 32/60\n",
            "38/38 [==============================] - 243s 6s/step - loss: 0.0159 - accuracy: 0.9967 - val_loss: 9.6083 - val_accuracy: 0.2599\n",
            "Epoch 33/60\n",
            "38/38 [==============================] - 244s 6s/step - loss: 0.0565 - accuracy: 0.9801 - val_loss: 7.4486 - val_accuracy: 0.3783\n",
            "Epoch 34/60\n",
            "38/38 [==============================] - 243s 6s/step - loss: 0.0492 - accuracy: 0.9859 - val_loss: 3.4808 - val_accuracy: 0.6579\n",
            "Epoch 35/60\n",
            "38/38 [==============================] - 244s 6s/step - loss: 0.0088 - accuracy: 0.9975 - val_loss: 3.4042 - val_accuracy: 0.7171\n",
            "Epoch 36/60\n",
            "38/38 [==============================] - 244s 6s/step - loss: 0.0256 - accuracy: 0.9900 - val_loss: 7.5565 - val_accuracy: 0.1711\n",
            "Epoch 37/60\n",
            "38/38 [==============================] - 245s 6s/step - loss: 0.0099 - accuracy: 0.9975 - val_loss: 4.3015 - val_accuracy: 0.5132\n",
            "Epoch 38/60\n",
            "38/38 [==============================] - 245s 6s/step - loss: 0.0095 - accuracy: 0.9975 - val_loss: 4.7018 - val_accuracy: 0.4836\n",
            "Epoch 39/60\n",
            "38/38 [==============================] - 254s 7s/step - loss: 0.0268 - accuracy: 0.9900 - val_loss: 4.3338 - val_accuracy: 0.3421\n",
            "Epoch 40/60\n",
            "38/38 [==============================] - 254s 7s/step - loss: 0.0862 - accuracy: 0.9726 - val_loss: 12.1334 - val_accuracy: 0.2138\n",
            "Epoch 41/60\n",
            "38/38 [==============================] - 256s 7s/step - loss: 0.0255 - accuracy: 0.9958 - val_loss: 12.5460 - val_accuracy: 0.2138\n",
            "Epoch 42/60\n",
            "38/38 [==============================] - 256s 7s/step - loss: 0.0229 - accuracy: 0.9925 - val_loss: 10.8900 - val_accuracy: 0.2138\n",
            "Epoch 43/60\n",
            "38/38 [==============================] - 256s 7s/step - loss: 0.0252 - accuracy: 0.9925 - val_loss: 10.8464 - val_accuracy: 0.2138\n",
            "Epoch 44/60\n",
            "38/38 [==============================] - 255s 7s/step - loss: 0.0400 - accuracy: 0.9859 - val_loss: 6.8287 - val_accuracy: 0.4079\n",
            "Epoch 45/60\n",
            "38/38 [==============================] - 254s 7s/step - loss: 0.0276 - accuracy: 0.9917 - val_loss: 2.8418 - val_accuracy: 0.6743\n",
            "Epoch 46/60\n",
            "38/38 [==============================] - 254s 7s/step - loss: 0.0597 - accuracy: 0.9834 - val_loss: 3.4260 - val_accuracy: 0.5428\n",
            "Epoch 47/60\n",
            "38/38 [==============================] - 253s 7s/step - loss: 0.0262 - accuracy: 0.9917 - val_loss: 2.4963 - val_accuracy: 0.6184\n",
            "Epoch 48/60\n",
            "38/38 [==============================] - 253s 7s/step - loss: 0.0129 - accuracy: 0.9967 - val_loss: 4.8115 - val_accuracy: 0.4572\n",
            "Epoch 49/60\n",
            "38/38 [==============================] - 254s 7s/step - loss: 0.0120 - accuracy: 0.9958 - val_loss: 7.6869 - val_accuracy: 0.4375\n",
            "Epoch 50/60\n",
            "38/38 [==============================] - 254s 7s/step - loss: 0.0054 - accuracy: 0.9967 - val_loss: 5.4995 - val_accuracy: 0.5296\n",
            "Epoch 51/60\n",
            "38/38 [==============================] - 257s 7s/step - loss: 0.0205 - accuracy: 0.9909 - val_loss: 7.8063 - val_accuracy: 0.3980\n",
            "Epoch 52/60\n",
            "38/38 [==============================] - 258s 7s/step - loss: 0.0036 - accuracy: 0.9992 - val_loss: 4.2351 - val_accuracy: 0.5954\n",
            "Epoch 53/60\n",
            "38/38 [==============================] - 258s 7s/step - loss: 0.0052 - accuracy: 0.9983 - val_loss: 5.7387 - val_accuracy: 0.4145\n",
            "Epoch 54/60\n",
            "38/38 [==============================] - 260s 7s/step - loss: 0.0010 - accuracy: 1.0000 - val_loss: 4.1971 - val_accuracy: 0.4967\n",
            "Epoch 55/60\n",
            "38/38 [==============================] - 258s 7s/step - loss: 0.0069 - accuracy: 0.9975 - val_loss: 5.1834 - val_accuracy: 0.5822\n",
            "Epoch 56/60\n",
            "38/38 [==============================] - 259s 7s/step - loss: 0.0123 - accuracy: 0.9958 - val_loss: 6.7930 - val_accuracy: 0.3980\n",
            "Epoch 57/60\n",
            "38/38 [==============================] - 258s 7s/step - loss: 0.0434 - accuracy: 0.9884 - val_loss: 8.1131 - val_accuracy: 0.3816\n",
            "Epoch 58/60\n",
            "38/38 [==============================] - 259s 7s/step - loss: 0.0470 - accuracy: 0.9817 - val_loss: 11.4177 - val_accuracy: 0.2138\n",
            "Epoch 59/60\n",
            "38/38 [==============================] - 260s 7s/step - loss: 0.0838 - accuracy: 0.9759 - val_loss: 12.4592 - val_accuracy: 0.2138\n",
            "Epoch 60/60\n",
            "38/38 [==============================] - 258s 7s/step - loss: 0.0237 - accuracy: 0.9892 - val_loss: 9.9062 - val_accuracy: 0.3553\n"
          ]
        }
      ]
    },
    {
      "cell_type": "code",
      "metadata": {
        "id": "BSC0Vy6bYjjt",
        "colab": {
          "base_uri": "https://localhost:8080/"
        },
        "outputId": "f24784de-8fdf-4e69-922d-6db1ae4d55ea"
      },
      "source": [
        "_, baseline_model_accuracy = model.evaluate(test_data, test_label, verbose=1)\n",
        "\n",
        "_, q_aware_model_accuracy = q_aware_model.evaluate(test_data, test_label, verbose=1)"
      ],
      "execution_count": 31,
      "outputs": [
        {
          "output_type": "stream",
          "name": "stdout",
          "text": [
            "10/10 [==============================] - 9s 939ms/step - loss: 0.3181 - accuracy: 0.9309\n",
            "10/10 [==============================] - 12s 1s/step - loss: 9.9062 - accuracy: 0.3553\n"
          ]
        }
      ]
    },
    {
      "cell_type": "code",
      "metadata": {
        "id": "0iPI0yn1ZaNi"
      },
      "source": [
        "print('Baseline test accuracy:', baseline_model_accuracy)\n",
        "print('Quant test accuracy:', q_aware_model_accuracy)"
      ],
      "execution_count": null,
      "outputs": []
    },
    {
      "cell_type": "code",
      "metadata": {
        "id": "g-lJ7UsaZ5E3",
        "colab": {
          "base_uri": "https://localhost:8080/",
          "height": 295
        },
        "outputId": "e34babd4-db08-4e8e-c7d4-5993bf802d7f"
      },
      "source": [
        "# Original Model\n",
        "plt.plot(training.history['accuracy'])\n",
        "plt.plot(training.history['val_accuracy'])\n",
        "plt.title('Model Accuracy')\n",
        "plt.ylabel('Accuracy')\n",
        "plt.xlabel('Epoch')\n",
        "plt.legend(['train', 'val'], loc='upper left')\n",
        "plt.show()"
      ],
      "execution_count": 33,
      "outputs": [
        {
          "output_type": "display_data",
          "data": {
            "image/png": "[encoded data removed]",
            "text/plain": [
              "<Figure size 432x288 with 1 Axes>"
            ]
          },
          "metadata": {
            "needs_background": "light"
          }
        }
      ]
    },
    {
      "cell_type": "code",
      "metadata": {
        "id": "Rxa7SrQ1Lp8g",
        "colab": {
          "base_uri": "https://localhost:8080/",
          "height": 295
        },
        "outputId": "44a21746-34ec-45b3-8f55-855c6492514d"
      },
      "source": [
        "# Model after Quantization Aware Training\n",
        "plt.plot(q_training.history['accuracy'])\n",
        "plt.plot(q_training.history['val_accuracy'])\n",
        "plt.title('Model Accuracy')\n",
        "plt.ylabel('Accuracy')\n",
        "plt.xlabel('Epoch')\n",
        "plt.legend(['train', 'val'], loc='upper left')\n",
        "plt.show()"
      ],
      "execution_count": 34,
      "outputs": [
        {
          "output_type": "display_data",
          "data": {
            "image/png": "[encoded data removed]",
            "text/plain": [
              "<Figure size 432x288 with 1 Axes>"
            ]
          },
          "metadata": {
            "needs_background": "light"
          }
        }
      ]
    },
    {
      "cell_type": "code",
      "metadata": {
        "id": "U4wUT0gSL9h4",
        "colab": {
          "base_uri": "https://localhost:8080/",
          "height": 295
        },
        "outputId": "589a98de-188b-41f0-ee17-24cbab92e85d"
      },
      "source": [
        "# Original Model\n",
        "plt.plot(training.history['loss'])\n",
        "plt.plot(training.history['val_loss'])\n",
        "plt.title('Model Loss')\n",
        "plt.ylabel('Loss')\n",
        "plt.xlabel('Epoch')\n",
        "plt.legend(['train', 'val'], loc='upper left')\n",
        "plt.show()"
      ],
      "execution_count": 35,
      "outputs": [
        {
          "output_type": "display_data",
          "data": {
            "image/png": "[encoded data removed]",
            "text/plain": [
              "<Figure size 432x288 with 1 Axes>"
            ]
          },
          "metadata": {
            "needs_background": "light"
          }
        }
      ]
    },
    {
      "cell_type": "code",
      "metadata": {
        "id": "jIS8NJbUMBPD",
        "colab": {
          "base_uri": "https://localhost:8080/",
          "height": 295
        },
        "outputId": "ca334a5f-eafd-461d-83cc-d33c30e72aa8"
      },
      "source": [
        "# Model after Quantization Aware Training\n",
        "plt.plot(q_training.history['loss'])\n",
        "plt.plot(q_training.history['val_loss'])\n",
        "plt.title('Model Loss')\n",
        "plt.ylabel('Loss')\n",
        "plt.xlabel('Epoch')\n",
        "plt.legend(['train', 'val'], loc='upper left')\n",
        "plt.show()"
      ],
      "execution_count": 36,
      "outputs": [
        {
          "output_type": "display_data",
          "data": {
            "image/png": "[encoded data removed]",
            "text/plain": [
              "<Figure size 432x288 with 1 Axes>"
            ]
          },
          "metadata": {
            "needs_background": "light"
          }
        }
      ]
    },
    {
      "cell_type": "code",
      "metadata": {
        "id": "iyITSiv8xVCr"
      },
      "source": [
        ""
      ],
      "execution_count": 36,
      "outputs": []
    }
  ]
}