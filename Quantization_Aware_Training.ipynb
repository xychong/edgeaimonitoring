{
  "nbformat": 4,
  "nbformat_minor": 0,
  "metadata": {
    "colab": {
      "name": "Quantization Aware Training.ipynb",
      "provenance": [],
      "collapsed_sections": [],
      "authorship_tag": "ABX9TyP0PGFN1Kbn0RN2o32IjHOD",
      "include_colab_link": true
    },
    "kernelspec": {
      "name": "python3",
      "display_name": "Python 3"
    },
    "language_info": {
      "name": "python"
    }
  },
  "cells": [
    {
      "cell_type": "markdown",
      "metadata": {
        "id": "view-in-github",
        "colab_type": "text"
      },
      "source": [
        "<a href=\"https://colab.research.google.com/github/xychong/edgeaimonitoring/blob/main/Quantization_Aware_Training.ipynb\" target=\"_parent\"><img src=\"https://colab.research.google.com/assets/colab-badge.svg\" alt=\"Open In Colab\"/></a>"
      ]
    },
    {
      "cell_type": "markdown",
      "source": [
        "In this QAT, we are using uint8 input and output tensors. All operations are compiled to the Edge TPU. There are no operations running on the CPU."
      ],
      "metadata": {
        "id": "J196NJHQnRQv"
      }
    },
    {
      "cell_type": "code",
      "execution_count": null,
      "metadata": {
        "colab": {
          "base_uri": "https://localhost:8080/"
        },
        "id": "h1i-LA7hp-cZ",
        "outputId": "bef5f251-89e4-4e75-9700-b2eb1f068e34"
      },
      "outputs": [
        {
          "output_type": "stream",
          "name": "stdout",
          "text": [
            "Requirement already satisfied: tensorflow==2.6.0 in /usr/local/lib/python3.7/dist-packages (2.6.0)\n",
            "Requirement already satisfied: termcolor~=1.1.0 in /usr/local/lib/python3.7/dist-packages (from tensorflow==2.6.0) (1.1.0)\n",
            "Requirement already satisfied: tensorboard~=2.6 in /usr/local/lib/python3.7/dist-packages (from tensorflow==2.6.0) (2.7.0)\n",
            "Requirement already satisfied: keras~=2.6 in /usr/local/lib/python3.7/dist-packages (from tensorflow==2.6.0) (2.6.0)\n",
            "Requirement already satisfied: tensorflow-estimator~=2.6 in /usr/local/lib/python3.7/dist-packages (from tensorflow==2.6.0) (2.7.0)\n",
            "Requirement already satisfied: keras-preprocessing~=1.1.2 in /usr/local/lib/python3.7/dist-packages (from tensorflow==2.6.0) (1.1.2)\n",
            "Requirement already satisfied: wrapt~=1.12.1 in /usr/local/lib/python3.7/dist-packages (from tensorflow==2.6.0) (1.12.1)\n",
            "Requirement already satisfied: typing-extensions~=3.7.4 in /usr/local/lib/python3.7/dist-packages (from tensorflow==2.6.0) (3.7.4.3)\n",
            "Requirement already satisfied: six~=1.15.0 in /usr/local/lib/python3.7/dist-packages (from tensorflow==2.6.0) (1.15.0)\n",
            "Requirement already satisfied: clang~=5.0 in /usr/local/lib/python3.7/dist-packages (from tensorflow==2.6.0) (5.0)\n",
            "Requirement already satisfied: wheel~=0.35 in /usr/local/lib/python3.7/dist-packages (from tensorflow==2.6.0) (0.37.0)\n",
            "Requirement already satisfied: protobuf>=3.9.2 in /usr/local/lib/python3.7/dist-packages (from tensorflow==2.6.0) (3.17.3)\n",
            "Requirement already satisfied: grpcio<2.0,>=1.37.0 in /usr/local/lib/python3.7/dist-packages (from tensorflow==2.6.0) (1.42.0)\n",
            "Requirement already satisfied: h5py~=3.1.0 in /usr/local/lib/python3.7/dist-packages (from tensorflow==2.6.0) (3.1.0)\n",
            "Requirement already satisfied: numpy~=1.19.2 in /usr/local/lib/python3.7/dist-packages (from tensorflow==2.6.0) (1.19.5)\n",
            "Requirement already satisfied: opt-einsum~=3.3.0 in /usr/local/lib/python3.7/dist-packages (from tensorflow==2.6.0) (3.3.0)\n",
            "Requirement already satisfied: astunparse~=1.6.3 in /usr/local/lib/python3.7/dist-packages (from tensorflow==2.6.0) (1.6.3)\n",
            "Requirement already satisfied: gast==0.4.0 in /usr/local/lib/python3.7/dist-packages (from tensorflow==2.6.0) (0.4.0)\n",
            "Requirement already satisfied: flatbuffers~=1.12.0 in /usr/local/lib/python3.7/dist-packages (from tensorflow==2.6.0) (1.12)\n",
            "Requirement already satisfied: absl-py~=0.10 in /usr/local/lib/python3.7/dist-packages (from tensorflow==2.6.0) (0.12.0)\n",
            "Requirement already satisfied: google-pasta~=0.2 in /usr/local/lib/python3.7/dist-packages (from tensorflow==2.6.0) (0.2.0)\n",
            "Requirement already satisfied: cached-property in /usr/local/lib/python3.7/dist-packages (from h5py~=3.1.0->tensorflow==2.6.0) (1.5.2)\n",
            "Requirement already satisfied: werkzeug>=0.11.15 in /usr/local/lib/python3.7/dist-packages (from tensorboard~=2.6->tensorflow==2.6.0) (1.0.1)\n",
            "Requirement already satisfied: requests<3,>=2.21.0 in /usr/local/lib/python3.7/dist-packages (from tensorboard~=2.6->tensorflow==2.6.0) (2.23.0)\n",
            "Requirement already satisfied: google-auth<3,>=1.6.3 in /usr/local/lib/python3.7/dist-packages (from tensorboard~=2.6->tensorflow==2.6.0) (1.35.0)\n",
            "Requirement already satisfied: markdown>=2.6.8 in /usr/local/lib/python3.7/dist-packages (from tensorboard~=2.6->tensorflow==2.6.0) (3.3.6)\n",
            "Requirement already satisfied: google-auth-oauthlib<0.5,>=0.4.1 in /usr/local/lib/python3.7/dist-packages (from tensorboard~=2.6->tensorflow==2.6.0) (0.4.6)\n",
            "Requirement already satisfied: setuptools>=41.0.0 in /usr/local/lib/python3.7/dist-packages (from tensorboard~=2.6->tensorflow==2.6.0) (57.4.0)\n",
            "Requirement already satisfied: tensorboard-data-server<0.7.0,>=0.6.0 in /usr/local/lib/python3.7/dist-packages (from tensorboard~=2.6->tensorflow==2.6.0) (0.6.1)\n",
            "Requirement already satisfied: tensorboard-plugin-wit>=1.6.0 in /usr/local/lib/python3.7/dist-packages (from tensorboard~=2.6->tensorflow==2.6.0) (1.8.0)\n",
            "Requirement already satisfied: pyasn1-modules>=0.2.1 in /usr/local/lib/python3.7/dist-packages (from google-auth<3,>=1.6.3->tensorboard~=2.6->tensorflow==2.6.0) (0.2.8)\n",
            "Requirement already satisfied: rsa<5,>=3.1.4 in /usr/local/lib/python3.7/dist-packages (from google-auth<3,>=1.6.3->tensorboard~=2.6->tensorflow==2.6.0) (4.8)\n",
            "Requirement already satisfied: cachetools<5.0,>=2.0.0 in /usr/local/lib/python3.7/dist-packages (from google-auth<3,>=1.6.3->tensorboard~=2.6->tensorflow==2.6.0) (4.2.4)\n",
            "Requirement already satisfied: requests-oauthlib>=0.7.0 in /usr/local/lib/python3.7/dist-packages (from google-auth-oauthlib<0.5,>=0.4.1->tensorboard~=2.6->tensorflow==2.6.0) (1.3.0)\n",
            "Requirement already satisfied: importlib-metadata>=4.4 in /usr/local/lib/python3.7/dist-packages (from markdown>=2.6.8->tensorboard~=2.6->tensorflow==2.6.0) (4.8.2)\n",
            "Requirement already satisfied: zipp>=0.5 in /usr/local/lib/python3.7/dist-packages (from importlib-metadata>=4.4->markdown>=2.6.8->tensorboard~=2.6->tensorflow==2.6.0) (3.6.0)\n",
            "Requirement already satisfied: pyasn1<0.5.0,>=0.4.6 in /usr/local/lib/python3.7/dist-packages (from pyasn1-modules>=0.2.1->google-auth<3,>=1.6.3->tensorboard~=2.6->tensorflow==2.6.0) (0.4.8)\n",
            "Requirement already satisfied: idna<3,>=2.5 in /usr/local/lib/python3.7/dist-packages (from requests<3,>=2.21.0->tensorboard~=2.6->tensorflow==2.6.0) (2.10)\n",
            "Requirement already satisfied: urllib3!=1.25.0,!=1.25.1,<1.26,>=1.21.1 in /usr/local/lib/python3.7/dist-packages (from requests<3,>=2.21.0->tensorboard~=2.6->tensorflow==2.6.0) (1.24.3)\n",
            "Requirement already satisfied: chardet<4,>=3.0.2 in /usr/local/lib/python3.7/dist-packages (from requests<3,>=2.21.0->tensorboard~=2.6->tensorflow==2.6.0) (3.0.4)\n",
            "Requirement already satisfied: certifi>=2017.4.17 in /usr/local/lib/python3.7/dist-packages (from requests<3,>=2.21.0->tensorboard~=2.6->tensorflow==2.6.0) (2021.10.8)\n",
            "Requirement already satisfied: oauthlib>=3.0.0 in /usr/local/lib/python3.7/dist-packages (from requests-oauthlib>=0.7.0->google-auth-oauthlib<0.5,>=0.4.1->tensorboard~=2.6->tensorflow==2.6.0) (3.1.1)\n",
            "Requirement already satisfied: keras==2.6.0 in /usr/local/lib/python3.7/dist-packages (2.6.0)\n"
          ]
        }
      ],
      "source": [
        "#! pip uninstall -q -y tensorflow\n",
        "! pip install tensorflow==2.6.0\n",
        "! pip install keras==2.6.0\n",
        "#! pip install -q tf-nightly\n",
        "! pip install -q tensorflow-model-optimization\n",
        "#! pip install numpy --upgrade"
      ]
    },
    {
      "cell_type": "code",
      "source": [
        "import tensorflow as tf\n",
        "assert float(tf.__version__[:3]) >= 2.3\n",
        "import os\n",
        "import tempfile\n",
        "from tensorflow import keras\n",
        "import numpy as np\n",
        "import matplotlib.pyplot as plt\n",
        "import tensorflow_model_optimization as tfmot\n",
        "from google.colab import files\n",
        "\n",
        "# Keras imports \n",
        "from tensorflow.keras.models import Sequential\n",
        "from tensorflow.keras.applications.mobilenet_v2 import MobileNetV2\n",
        "from tensorflow.keras.models import Model\n",
        "from tensorflow.keras.layers import (Input, Conv2D, GlobalAveragePooling2D, Dense, Dropout,\n",
        "                                     Activation, BatchNormalization, Add, Reshape, DepthwiseConv2D)\n",
        "from tensorflow.keras.optimizers import Adam\n",
        "from keras.utils.vis_utils import plot_model\n",
        "from tensorflow.keras.models import save_model\n",
        "from tensorflow.keras.models import load_model\n",
        "from tensorflow.keras.metrics import Accuracy"
      ],
      "metadata": {
        "id": "guJSyPRLqKT4"
      },
      "execution_count": null,
      "outputs": []
    },
    {
      "cell_type": "code",
      "source": [
        "print(tf.__version__)"
      ],
      "metadata": {
        "colab": {
          "base_uri": "https://localhost:8080/"
        },
        "id": "wgbsUW55zNHF",
        "outputId": "1a06dbb9-5337-4ccd-83f6-1bbce178c279"
      },
      "execution_count": null,
      "outputs": [
        {
          "output_type": "stream",
          "name": "stdout",
          "text": [
            "2.6.0\n"
          ]
        }
      ]
    },
    {
      "cell_type": "code",
      "source": [
        "from google.colab import drive\n",
        "drive.mount('/content/drive')"
      ],
      "metadata": {
        "colab": {
          "base_uri": "https://localhost:8080/"
        },
        "id": "Khui0WmLqU5Q",
        "outputId": "ffb41b42-2fa8-4e69-80b3-e7ce3a3b1636"
      },
      "execution_count": null,
      "outputs": [
        {
          "output_type": "stream",
          "name": "stdout",
          "text": [
            "Drive already mounted at /content/drive; to attempt to forcibly remount, call drive.mount(\"/content/drive\", force_remount=True).\n"
          ]
        }
      ]
    },
    {
      "cell_type": "code",
      "source": [
        "train_data = np.load(\"/content/drive/MyDrive/FYP Data/Train and Test/train_data.npy\", allow_pickle = True)\n",
        "test_data = np.load(\"/content/drive/MyDrive/FYP Data/Train and Test/test_data.npy\", allow_pickle = True)\n",
        "train_label = np.load(\"/content/drive/MyDrive/FYP Data/Train and Test/train_label.npy\", allow_pickle = True)\n",
        "test_label = np.load(\"/content/drive/MyDrive/FYP Data/Train and Test/test_label.npy\", allow_pickle = True)"
      ],
      "metadata": {
        "id": "5ePW_kuaqV-H"
      },
      "execution_count": null,
      "outputs": []
    },
    {
      "cell_type": "code",
      "source": [
        "#model = tf.keras.models.load_model('/content/drive/MyDrive/FYP/mobilenetv2.h5')\n",
        "#model = tf.keras.models.load_model('/content/drive/MyDrive/FYP/mobilenetv2_NEW.h5')\n",
        "#model = tf.keras.models.load_model('/content/drive/MyDrive/FYP/mobilenetv2_NEW1.h5')\n",
        "#model = tf.keras.models.load_model('/content/drive/MyDrive/FYP/mobilenetv2_NEW2.h5')\n",
        "model = tf.keras.models.load_model('/content/drive/MyDrive/FYP/mobilenetv2_NEW3.h5')"
      ],
      "metadata": {
        "id": "xCaUT9jmqdb4"
      },
      "execution_count": null,
      "outputs": []
    },
    {
      "cell_type": "code",
      "source": [
        "model.summary()"
      ],
      "metadata": {
        "id": "9Ngw3MqWrdG5",
        "colab": {
          "base_uri": "https://localhost:8080/"
        },
        "outputId": "763ecd4a-db76-42c1-f476-0dbe3bb4afcd"
      },
      "execution_count": null,
      "outputs": [
        {
          "output_type": "stream",
          "name": "stdout",
          "text": [
            "Model: \"model\"\n",
            "__________________________________________________________________________________________________\n",
            "Layer (type)                    Output Shape         Param #     Connected to                     \n",
            "==================================================================================================\n",
            "input_1 (InputLayer)            [(None, 224, 224, 3) 0                                            \n",
            "__________________________________________________________________________________________________\n",
            "Conv1 (Conv2D)                  (None, 112, 112, 32) 864         input_1[0][0]                    \n",
            "__________________________________________________________________________________________________\n",
            "bn_Conv1 (BatchNormalization)   (None, 112, 112, 32) 128         Conv1[0][0]                      \n",
            "__________________________________________________________________________________________________\n",
            "Conv1_relu (ReLU)               (None, 112, 112, 32) 0           bn_Conv1[0][0]                   \n",
            "__________________________________________________________________________________________________\n",
            "expanded_conv_depthwise (Depthw (None, 112, 112, 32) 288         Conv1_relu[0][0]                 \n",
            "__________________________________________________________________________________________________\n",
            "expanded_conv_depthwise_BN (Bat (None, 112, 112, 32) 128         expanded_conv_depthwise[0][0]    \n",
            "__________________________________________________________________________________________________\n",
            "expanded_conv_depthwise_relu (R (None, 112, 112, 32) 0           expanded_conv_depthwise_BN[0][0] \n",
            "__________________________________________________________________________________________________\n",
            "expanded_conv_project (Conv2D)  (None, 112, 112, 16) 512         expanded_conv_depthwise_relu[0][0\n",
            "__________________________________________________________________________________________________\n",
            "expanded_conv_project_BN (Batch (None, 112, 112, 16) 64          expanded_conv_project[0][0]      \n",
            "__________________________________________________________________________________________________\n",
            "block_1_expand (Conv2D)         (None, 112, 112, 96) 1536        expanded_conv_project_BN[0][0]   \n",
            "__________________________________________________________________________________________________\n",
            "block_1_expand_BN (BatchNormali (None, 112, 112, 96) 384         block_1_expand[0][0]             \n",
            "__________________________________________________________________________________________________\n",
            "block_1_expand_relu (ReLU)      (None, 112, 112, 96) 0           block_1_expand_BN[0][0]          \n",
            "__________________________________________________________________________________________________\n",
            "block_1_pad (ZeroPadding2D)     (None, 113, 113, 96) 0           block_1_expand_relu[0][0]        \n",
            "__________________________________________________________________________________________________\n",
            "block_1_depthwise (DepthwiseCon (None, 56, 56, 96)   864         block_1_pad[0][0]                \n",
            "__________________________________________________________________________________________________\n",
            "block_1_depthwise_BN (BatchNorm (None, 56, 56, 96)   384         block_1_depthwise[0][0]          \n",
            "__________________________________________________________________________________________________\n",
            "block_1_depthwise_relu (ReLU)   (None, 56, 56, 96)   0           block_1_depthwise_BN[0][0]       \n",
            "__________________________________________________________________________________________________\n",
            "block_1_project (Conv2D)        (None, 56, 56, 24)   2304        block_1_depthwise_relu[0][0]     \n",
            "__________________________________________________________________________________________________\n",
            "block_1_project_BN (BatchNormal (None, 56, 56, 24)   96          block_1_project[0][0]            \n",
            "__________________________________________________________________________________________________\n",
            "block_2_expand (Conv2D)         (None, 56, 56, 144)  3456        block_1_project_BN[0][0]         \n",
            "__________________________________________________________________________________________________\n",
            "block_2_expand_BN (BatchNormali (None, 56, 56, 144)  576         block_2_expand[0][0]             \n",
            "__________________________________________________________________________________________________\n",
            "block_2_expand_relu (ReLU)      (None, 56, 56, 144)  0           block_2_expand_BN[0][0]          \n",
            "__________________________________________________________________________________________________\n",
            "block_2_depthwise (DepthwiseCon (None, 56, 56, 144)  1296        block_2_expand_relu[0][0]        \n",
            "__________________________________________________________________________________________________\n",
            "block_2_depthwise_BN (BatchNorm (None, 56, 56, 144)  576         block_2_depthwise[0][0]          \n",
            "__________________________________________________________________________________________________\n",
            "block_2_depthwise_relu (ReLU)   (None, 56, 56, 144)  0           block_2_depthwise_BN[0][0]       \n",
            "__________________________________________________________________________________________________\n",
            "block_2_project (Conv2D)        (None, 56, 56, 24)   3456        block_2_depthwise_relu[0][0]     \n",
            "__________________________________________________________________________________________________\n",
            "block_2_project_BN (BatchNormal (None, 56, 56, 24)   96          block_2_project[0][0]            \n",
            "__________________________________________________________________________________________________\n",
            "block_2_add (Add)               (None, 56, 56, 24)   0           block_1_project_BN[0][0]         \n",
            "                                                                 block_2_project_BN[0][0]         \n",
            "__________________________________________________________________________________________________\n",
            "block_3_expand (Conv2D)         (None, 56, 56, 144)  3456        block_2_add[0][0]                \n",
            "__________________________________________________________________________________________________\n",
            "block_3_expand_BN (BatchNormali (None, 56, 56, 144)  576         block_3_expand[0][0]             \n",
            "__________________________________________________________________________________________________\n",
            "block_3_expand_relu (ReLU)      (None, 56, 56, 144)  0           block_3_expand_BN[0][0]          \n",
            "__________________________________________________________________________________________________\n",
            "block_3_pad (ZeroPadding2D)     (None, 57, 57, 144)  0           block_3_expand_relu[0][0]        \n",
            "__________________________________________________________________________________________________\n",
            "block_3_depthwise (DepthwiseCon (None, 28, 28, 144)  1296        block_3_pad[0][0]                \n",
            "__________________________________________________________________________________________________\n",
            "block_3_depthwise_BN (BatchNorm (None, 28, 28, 144)  576         block_3_depthwise[0][0]          \n",
            "__________________________________________________________________________________________________\n",
            "block_3_depthwise_relu (ReLU)   (None, 28, 28, 144)  0           block_3_depthwise_BN[0][0]       \n",
            "__________________________________________________________________________________________________\n",
            "block_3_project (Conv2D)        (None, 28, 28, 32)   4608        block_3_depthwise_relu[0][0]     \n",
            "__________________________________________________________________________________________________\n",
            "block_3_project_BN (BatchNormal (None, 28, 28, 32)   128         block_3_project[0][0]            \n",
            "__________________________________________________________________________________________________\n",
            "block_4_expand (Conv2D)         (None, 28, 28, 192)  6144        block_3_project_BN[0][0]         \n",
            "__________________________________________________________________________________________________\n",
            "block_4_expand_BN (BatchNormali (None, 28, 28, 192)  768         block_4_expand[0][0]             \n",
            "__________________________________________________________________________________________________\n",
            "block_4_expand_relu (ReLU)      (None, 28, 28, 192)  0           block_4_expand_BN[0][0]          \n",
            "__________________________________________________________________________________________________\n",
            "block_4_depthwise (DepthwiseCon (None, 28, 28, 192)  1728        block_4_expand_relu[0][0]        \n",
            "__________________________________________________________________________________________________\n",
            "block_4_depthwise_BN (BatchNorm (None, 28, 28, 192)  768         block_4_depthwise[0][0]          \n",
            "__________________________________________________________________________________________________\n",
            "block_4_depthwise_relu (ReLU)   (None, 28, 28, 192)  0           block_4_depthwise_BN[0][0]       \n",
            "__________________________________________________________________________________________________\n",
            "block_4_project (Conv2D)        (None, 28, 28, 32)   6144        block_4_depthwise_relu[0][0]     \n",
            "__________________________________________________________________________________________________\n",
            "block_4_project_BN (BatchNormal (None, 28, 28, 32)   128         block_4_project[0][0]            \n",
            "__________________________________________________________________________________________________\n",
            "block_4_add (Add)               (None, 28, 28, 32)   0           block_3_project_BN[0][0]         \n",
            "                                                                 block_4_project_BN[0][0]         \n",
            "__________________________________________________________________________________________________\n",
            "block_5_expand (Conv2D)         (None, 28, 28, 192)  6144        block_4_add[0][0]                \n",
            "__________________________________________________________________________________________________\n",
            "block_5_expand_BN (BatchNormali (None, 28, 28, 192)  768         block_5_expand[0][0]             \n",
            "__________________________________________________________________________________________________\n",
            "block_5_expand_relu (ReLU)      (None, 28, 28, 192)  0           block_5_expand_BN[0][0]          \n",
            "__________________________________________________________________________________________________\n",
            "block_5_depthwise (DepthwiseCon (None, 28, 28, 192)  1728        block_5_expand_relu[0][0]        \n",
            "__________________________________________________________________________________________________\n",
            "block_5_depthwise_BN (BatchNorm (None, 28, 28, 192)  768         block_5_depthwise[0][0]          \n",
            "__________________________________________________________________________________________________\n",
            "block_5_depthwise_relu (ReLU)   (None, 28, 28, 192)  0           block_5_depthwise_BN[0][0]       \n",
            "__________________________________________________________________________________________________\n",
            "block_5_project (Conv2D)        (None, 28, 28, 32)   6144        block_5_depthwise_relu[0][0]     \n",
            "__________________________________________________________________________________________________\n",
            "block_5_project_BN (BatchNormal (None, 28, 28, 32)   128         block_5_project[0][0]            \n",
            "__________________________________________________________________________________________________\n",
            "block_5_add (Add)               (None, 28, 28, 32)   0           block_4_add[0][0]                \n",
            "                                                                 block_5_project_BN[0][0]         \n",
            "__________________________________________________________________________________________________\n",
            "block_6_expand (Conv2D)         (None, 28, 28, 192)  6144        block_5_add[0][0]                \n",
            "__________________________________________________________________________________________________\n",
            "block_6_expand_BN (BatchNormali (None, 28, 28, 192)  768         block_6_expand[0][0]             \n",
            "__________________________________________________________________________________________________\n",
            "block_6_expand_relu (ReLU)      (None, 28, 28, 192)  0           block_6_expand_BN[0][0]          \n",
            "__________________________________________________________________________________________________\n",
            "block_6_pad (ZeroPadding2D)     (None, 29, 29, 192)  0           block_6_expand_relu[0][0]        \n",
            "__________________________________________________________________________________________________\n",
            "block_6_depthwise (DepthwiseCon (None, 14, 14, 192)  1728        block_6_pad[0][0]                \n",
            "__________________________________________________________________________________________________\n",
            "block_6_depthwise_BN (BatchNorm (None, 14, 14, 192)  768         block_6_depthwise[0][0]          \n",
            "__________________________________________________________________________________________________\n",
            "block_6_depthwise_relu (ReLU)   (None, 14, 14, 192)  0           block_6_depthwise_BN[0][0]       \n",
            "__________________________________________________________________________________________________\n",
            "block_6_project (Conv2D)        (None, 14, 14, 64)   12288       block_6_depthwise_relu[0][0]     \n",
            "__________________________________________________________________________________________________\n",
            "block_6_project_BN (BatchNormal (None, 14, 14, 64)   256         block_6_project[0][0]            \n",
            "__________________________________________________________________________________________________\n",
            "block_7_expand (Conv2D)         (None, 14, 14, 384)  24576       block_6_project_BN[0][0]         \n",
            "__________________________________________________________________________________________________\n",
            "block_7_expand_BN (BatchNormali (None, 14, 14, 384)  1536        block_7_expand[0][0]             \n",
            "__________________________________________________________________________________________________\n",
            "block_7_expand_relu (ReLU)      (None, 14, 14, 384)  0           block_7_expand_BN[0][0]          \n",
            "__________________________________________________________________________________________________\n",
            "block_7_depthwise (DepthwiseCon (None, 14, 14, 384)  3456        block_7_expand_relu[0][0]        \n",
            "__________________________________________________________________________________________________\n",
            "block_7_depthwise_BN (BatchNorm (None, 14, 14, 384)  1536        block_7_depthwise[0][0]          \n",
            "__________________________________________________________________________________________________\n",
            "block_7_depthwise_relu (ReLU)   (None, 14, 14, 384)  0           block_7_depthwise_BN[0][0]       \n",
            "__________________________________________________________________________________________________\n",
            "block_7_project (Conv2D)        (None, 14, 14, 64)   24576       block_7_depthwise_relu[0][0]     \n",
            "__________________________________________________________________________________________________\n",
            "block_7_project_BN (BatchNormal (None, 14, 14, 64)   256         block_7_project[0][0]            \n",
            "__________________________________________________________________________________________________\n",
            "block_7_add (Add)               (None, 14, 14, 64)   0           block_6_project_BN[0][0]         \n",
            "                                                                 block_7_project_BN[0][0]         \n",
            "__________________________________________________________________________________________________\n",
            "block_8_expand (Conv2D)         (None, 14, 14, 384)  24576       block_7_add[0][0]                \n",
            "__________________________________________________________________________________________________\n",
            "block_8_expand_BN (BatchNormali (None, 14, 14, 384)  1536        block_8_expand[0][0]             \n",
            "__________________________________________________________________________________________________\n",
            "block_8_expand_relu (ReLU)      (None, 14, 14, 384)  0           block_8_expand_BN[0][0]          \n",
            "__________________________________________________________________________________________________\n",
            "block_8_depthwise (DepthwiseCon (None, 14, 14, 384)  3456        block_8_expand_relu[0][0]        \n",
            "__________________________________________________________________________________________________\n",
            "block_8_depthwise_BN (BatchNorm (None, 14, 14, 384)  1536        block_8_depthwise[0][0]          \n",
            "__________________________________________________________________________________________________\n",
            "block_8_depthwise_relu (ReLU)   (None, 14, 14, 384)  0           block_8_depthwise_BN[0][0]       \n",
            "__________________________________________________________________________________________________\n",
            "block_8_project (Conv2D)        (None, 14, 14, 64)   24576       block_8_depthwise_relu[0][0]     \n",
            "__________________________________________________________________________________________________\n",
            "block_8_project_BN (BatchNormal (None, 14, 14, 64)   256         block_8_project[0][0]            \n",
            "__________________________________________________________________________________________________\n",
            "block_8_add (Add)               (None, 14, 14, 64)   0           block_7_add[0][0]                \n",
            "                                                                 block_8_project_BN[0][0]         \n",
            "__________________________________________________________________________________________________\n",
            "block_9_expand (Conv2D)         (None, 14, 14, 384)  24576       block_8_add[0][0]                \n",
            "__________________________________________________________________________________________________\n",
            "block_9_expand_BN (BatchNormali (None, 14, 14, 384)  1536        block_9_expand[0][0]             \n",
            "__________________________________________________________________________________________________\n",
            "block_9_expand_relu (ReLU)      (None, 14, 14, 384)  0           block_9_expand_BN[0][0]          \n",
            "__________________________________________________________________________________________________\n",
            "block_9_depthwise (DepthwiseCon (None, 14, 14, 384)  3456        block_9_expand_relu[0][0]        \n",
            "__________________________________________________________________________________________________\n",
            "block_9_depthwise_BN (BatchNorm (None, 14, 14, 384)  1536        block_9_depthwise[0][0]          \n",
            "__________________________________________________________________________________________________\n",
            "block_9_depthwise_relu (ReLU)   (None, 14, 14, 384)  0           block_9_depthwise_BN[0][0]       \n",
            "__________________________________________________________________________________________________\n",
            "block_9_project (Conv2D)        (None, 14, 14, 64)   24576       block_9_depthwise_relu[0][0]     \n",
            "__________________________________________________________________________________________________\n",
            "block_9_project_BN (BatchNormal (None, 14, 14, 64)   256         block_9_project[0][0]            \n",
            "__________________________________________________________________________________________________\n",
            "block_9_add (Add)               (None, 14, 14, 64)   0           block_8_add[0][0]                \n",
            "                                                                 block_9_project_BN[0][0]         \n",
            "__________________________________________________________________________________________________\n",
            "block_10_expand (Conv2D)        (None, 14, 14, 384)  24576       block_9_add[0][0]                \n",
            "__________________________________________________________________________________________________\n",
            "block_10_expand_BN (BatchNormal (None, 14, 14, 384)  1536        block_10_expand[0][0]            \n",
            "__________________________________________________________________________________________________\n",
            "block_10_expand_relu (ReLU)     (None, 14, 14, 384)  0           block_10_expand_BN[0][0]         \n",
            "__________________________________________________________________________________________________\n",
            "block_10_depthwise (DepthwiseCo (None, 14, 14, 384)  3456        block_10_expand_relu[0][0]       \n",
            "__________________________________________________________________________________________________\n",
            "block_10_depthwise_BN (BatchNor (None, 14, 14, 384)  1536        block_10_depthwise[0][0]         \n",
            "__________________________________________________________________________________________________\n",
            "block_10_depthwise_relu (ReLU)  (None, 14, 14, 384)  0           block_10_depthwise_BN[0][0]      \n",
            "__________________________________________________________________________________________________\n",
            "block_10_project (Conv2D)       (None, 14, 14, 96)   36864       block_10_depthwise_relu[0][0]    \n",
            "__________________________________________________________________________________________________\n",
            "block_10_project_BN (BatchNorma (None, 14, 14, 96)   384         block_10_project[0][0]           \n",
            "__________________________________________________________________________________________________\n",
            "block_11_expand (Conv2D)        (None, 14, 14, 576)  55296       block_10_project_BN[0][0]        \n",
            "__________________________________________________________________________________________________\n",
            "block_11_expand_BN (BatchNormal (None, 14, 14, 576)  2304        block_11_expand[0][0]            \n",
            "__________________________________________________________________________________________________\n",
            "block_11_expand_relu (ReLU)     (None, 14, 14, 576)  0           block_11_expand_BN[0][0]         \n",
            "__________________________________________________________________________________________________\n",
            "block_11_depthwise (DepthwiseCo (None, 14, 14, 576)  5184        block_11_expand_relu[0][0]       \n",
            "__________________________________________________________________________________________________\n",
            "block_11_depthwise_BN (BatchNor (None, 14, 14, 576)  2304        block_11_depthwise[0][0]         \n",
            "__________________________________________________________________________________________________\n",
            "block_11_depthwise_relu (ReLU)  (None, 14, 14, 576)  0           block_11_depthwise_BN[0][0]      \n",
            "__________________________________________________________________________________________________\n",
            "block_11_project (Conv2D)       (None, 14, 14, 96)   55296       block_11_depthwise_relu[0][0]    \n",
            "__________________________________________________________________________________________________\n",
            "block_11_project_BN (BatchNorma (None, 14, 14, 96)   384         block_11_project[0][0]           \n",
            "__________________________________________________________________________________________________\n",
            "block_11_add (Add)              (None, 14, 14, 96)   0           block_10_project_BN[0][0]        \n",
            "                                                                 block_11_project_BN[0][0]        \n",
            "__________________________________________________________________________________________________\n",
            "block_12_expand (Conv2D)        (None, 14, 14, 576)  55296       block_11_add[0][0]               \n",
            "__________________________________________________________________________________________________\n",
            "block_12_expand_BN (BatchNormal (None, 14, 14, 576)  2304        block_12_expand[0][0]            \n",
            "__________________________________________________________________________________________________\n",
            "block_12_expand_relu (ReLU)     (None, 14, 14, 576)  0           block_12_expand_BN[0][0]         \n",
            "__________________________________________________________________________________________________\n",
            "block_12_depthwise (DepthwiseCo (None, 14, 14, 576)  5184        block_12_expand_relu[0][0]       \n",
            "__________________________________________________________________________________________________\n",
            "block_12_depthwise_BN (BatchNor (None, 14, 14, 576)  2304        block_12_depthwise[0][0]         \n",
            "__________________________________________________________________________________________________\n",
            "block_12_depthwise_relu (ReLU)  (None, 14, 14, 576)  0           block_12_depthwise_BN[0][0]      \n",
            "__________________________________________________________________________________________________\n",
            "block_12_project (Conv2D)       (None, 14, 14, 96)   55296       block_12_depthwise_relu[0][0]    \n",
            "__________________________________________________________________________________________________\n",
            "block_12_project_BN (BatchNorma (None, 14, 14, 96)   384         block_12_project[0][0]           \n",
            "__________________________________________________________________________________________________\n",
            "block_12_add (Add)              (None, 14, 14, 96)   0           block_11_add[0][0]               \n",
            "                                                                 block_12_project_BN[0][0]        \n",
            "__________________________________________________________________________________________________\n",
            "block_13_expand (Conv2D)        (None, 14, 14, 576)  55296       block_12_add[0][0]               \n",
            "__________________________________________________________________________________________________\n",
            "block_13_expand_BN (BatchNormal (None, 14, 14, 576)  2304        block_13_expand[0][0]            \n",
            "__________________________________________________________________________________________________\n",
            "block_13_expand_relu (ReLU)     (None, 14, 14, 576)  0           block_13_expand_BN[0][0]         \n",
            "__________________________________________________________________________________________________\n",
            "block_13_pad (ZeroPadding2D)    (None, 15, 15, 576)  0           block_13_expand_relu[0][0]       \n",
            "__________________________________________________________________________________________________\n",
            "block_13_depthwise (DepthwiseCo (None, 7, 7, 576)    5184        block_13_pad[0][0]               \n",
            "__________________________________________________________________________________________________\n",
            "block_13_depthwise_BN (BatchNor (None, 7, 7, 576)    2304        block_13_depthwise[0][0]         \n",
            "__________________________________________________________________________________________________\n",
            "block_13_depthwise_relu (ReLU)  (None, 7, 7, 576)    0           block_13_depthwise_BN[0][0]      \n",
            "__________________________________________________________________________________________________\n",
            "block_13_project (Conv2D)       (None, 7, 7, 160)    92160       block_13_depthwise_relu[0][0]    \n",
            "__________________________________________________________________________________________________\n",
            "block_13_project_BN (BatchNorma (None, 7, 7, 160)    640         block_13_project[0][0]           \n",
            "__________________________________________________________________________________________________\n",
            "block_14_expand (Conv2D)        (None, 7, 7, 960)    153600      block_13_project_BN[0][0]        \n",
            "__________________________________________________________________________________________________\n",
            "block_14_expand_BN (BatchNormal (None, 7, 7, 960)    3840        block_14_expand[0][0]            \n",
            "__________________________________________________________________________________________________\n",
            "block_14_expand_relu (ReLU)     (None, 7, 7, 960)    0           block_14_expand_BN[0][0]         \n",
            "__________________________________________________________________________________________________\n",
            "block_14_depthwise (DepthwiseCo (None, 7, 7, 960)    8640        block_14_expand_relu[0][0]       \n",
            "__________________________________________________________________________________________________\n",
            "block_14_depthwise_BN (BatchNor (None, 7, 7, 960)    3840        block_14_depthwise[0][0]         \n",
            "__________________________________________________________________________________________________\n",
            "block_14_depthwise_relu (ReLU)  (None, 7, 7, 960)    0           block_14_depthwise_BN[0][0]      \n",
            "__________________________________________________________________________________________________\n",
            "block_14_project (Conv2D)       (None, 7, 7, 160)    153600      block_14_depthwise_relu[0][0]    \n",
            "__________________________________________________________________________________________________\n",
            "block_14_project_BN (BatchNorma (None, 7, 7, 160)    640         block_14_project[0][0]           \n",
            "__________________________________________________________________________________________________\n",
            "block_14_add (Add)              (None, 7, 7, 160)    0           block_13_project_BN[0][0]        \n",
            "                                                                 block_14_project_BN[0][0]        \n",
            "__________________________________________________________________________________________________\n",
            "block_15_expand (Conv2D)        (None, 7, 7, 960)    153600      block_14_add[0][0]               \n",
            "__________________________________________________________________________________________________\n",
            "block_15_expand_BN (BatchNormal (None, 7, 7, 960)    3840        block_15_expand[0][0]            \n",
            "__________________________________________________________________________________________________\n",
            "block_15_expand_relu (ReLU)     (None, 7, 7, 960)    0           block_15_expand_BN[0][0]         \n",
            "__________________________________________________________________________________________________\n",
            "block_15_depthwise (DepthwiseCo (None, 7, 7, 960)    8640        block_15_expand_relu[0][0]       \n",
            "__________________________________________________________________________________________________\n",
            "block_15_depthwise_BN (BatchNor (None, 7, 7, 960)    3840        block_15_depthwise[0][0]         \n",
            "__________________________________________________________________________________________________\n",
            "block_15_depthwise_relu (ReLU)  (None, 7, 7, 960)    0           block_15_depthwise_BN[0][0]      \n",
            "__________________________________________________________________________________________________\n",
            "block_15_project (Conv2D)       (None, 7, 7, 160)    153600      block_15_depthwise_relu[0][0]    \n",
            "__________________________________________________________________________________________________\n",
            "block_15_project_BN (BatchNorma (None, 7, 7, 160)    640         block_15_project[0][0]           \n",
            "__________________________________________________________________________________________________\n",
            "block_15_add (Add)              (None, 7, 7, 160)    0           block_14_add[0][0]               \n",
            "                                                                 block_15_project_BN[0][0]        \n",
            "__________________________________________________________________________________________________\n",
            "block_16_expand (Conv2D)        (None, 7, 7, 960)    153600      block_15_add[0][0]               \n",
            "__________________________________________________________________________________________________\n",
            "block_16_expand_BN (BatchNormal (None, 7, 7, 960)    3840        block_16_expand[0][0]            \n",
            "__________________________________________________________________________________________________\n",
            "block_16_expand_relu (ReLU)     (None, 7, 7, 960)    0           block_16_expand_BN[0][0]         \n",
            "__________________________________________________________________________________________________\n",
            "block_16_depthwise (DepthwiseCo (None, 7, 7, 960)    8640        block_16_expand_relu[0][0]       \n",
            "__________________________________________________________________________________________________\n",
            "block_16_depthwise_BN (BatchNor (None, 7, 7, 960)    3840        block_16_depthwise[0][0]         \n",
            "__________________________________________________________________________________________________\n",
            "block_16_depthwise_relu (ReLU)  (None, 7, 7, 960)    0           block_16_depthwise_BN[0][0]      \n",
            "__________________________________________________________________________________________________\n",
            "block_16_project (Conv2D)       (None, 7, 7, 320)    307200      block_16_depthwise_relu[0][0]    \n",
            "__________________________________________________________________________________________________\n",
            "block_16_project_BN (BatchNorma (None, 7, 7, 320)    1280        block_16_project[0][0]           \n",
            "__________________________________________________________________________________________________\n",
            "Conv_1 (Conv2D)                 (None, 7, 7, 1280)   409600      block_16_project_BN[0][0]        \n",
            "__________________________________________________________________________________________________\n",
            "Conv_1_bn (BatchNormalization)  (None, 7, 7, 1280)   5120        Conv_1[0][0]                     \n",
            "__________________________________________________________________________________________________\n",
            "out_relu (ReLU)                 (None, 7, 7, 1280)   0           Conv_1_bn[0][0]                  \n",
            "__________________________________________________________________________________________________\n",
            "conv2d (Conv2D)                 (None, 7, 7, 16)     20496       out_relu[0][0]                   \n",
            "__________________________________________________________________________________________________\n",
            "dropout (Dropout)               (None, 7, 7, 16)     0           conv2d[0][0]                     \n",
            "__________________________________________________________________________________________________\n",
            "global_average_pooling2d (Globa (None, 16)           0           dropout[0][0]                    \n",
            "__________________________________________________________________________________________________\n",
            "dense (Dense)                   (None, 5)            85          global_average_pooling2d[0][0]   \n",
            "==================================================================================================\n",
            "Total params: 2,278,565\n",
            "Trainable params: 20,581\n",
            "Non-trainable params: 2,257,984\n",
            "__________________________________________________________________________________________________\n"
          ]
        }
      ]
    },
    {
      "cell_type": "code",
      "source": [
        "test_loss, test_acc = model.evaluate(test_data, test_label)\n",
        "\n",
        "print(\"Tested Acc:\", test_acc)"
      ],
      "metadata": {
        "id": "Pp13fZxorrJv",
        "colab": {
          "base_uri": "https://localhost:8080/"
        },
        "outputId": "6aeb96f7-0a67-40b9-aa3a-d1ef631a5442"
      },
      "execution_count": null,
      "outputs": [
        {
          "output_type": "stream",
          "name": "stdout",
          "text": [
            "16/16 [==============================] - 16s 932ms/step - loss: 0.1552 - accuracy: 0.9440\n",
            "Tested Acc: 0.9440000057220459\n"
          ]
        }
      ]
    },
    {
      "cell_type": "markdown",
      "source": [
        "### Clone and fine-tune pre-trained model with quantization aware training"
      ],
      "metadata": {
        "id": "2nZyBz_pVrAi"
      }
    },
    {
      "cell_type": "code",
      "source": [
        "quantize_model = tfmot.quantization.keras.quantize_model\n",
        "\n",
        "# q_aware stands for for quantization aware.\n",
        "q_aware_model = quantize_model(model)\n",
        "\n",
        "opt = Adam(learning_rate=0.00001) # use a lower learning rate to prevent overfitting quickly\n",
        "q_aware_model.compile(optimizer = opt, loss=\"sparse_categorical_crossentropy\", metrics=[\"accuracy\"])\n",
        "\n",
        "q_aware_model.summary()"
      ],
      "metadata": {
        "colab": {
          "base_uri": "https://localhost:8080/"
        },
        "id": "BMFH3X0AqhDf",
        "outputId": "837c25d9-e40a-4272-e46a-e6402ce0e4bb"
      },
      "execution_count": null,
      "outputs": [
        {
          "output_type": "stream",
          "name": "stderr",
          "text": [
            "/usr/local/lib/python3.7/dist-packages/keras/utils/generic_utils.py:497: CustomMaskWarning: Custom mask layers require a config and must override get_config. When loading, the custom mask layer must be passed to the custom_objects argument.\n",
            "  category=CustomMaskWarning)\n"
          ]
        },
        {
          "output_type": "stream",
          "name": "stdout",
          "text": [
            "Model: \"model\"\n",
            "__________________________________________________________________________________________________\n",
            "Layer (type)                    Output Shape         Param #     Connected to                     \n",
            "==================================================================================================\n",
            "input_1 (InputLayer)            [(None, 224, 224, 3) 0                                            \n",
            "__________________________________________________________________________________________________\n",
            "quantize_layer (QuantizeLayer)  (None, 224, 224, 3)  3           input_1[0][0]                    \n",
            "__________________________________________________________________________________________________\n",
            "quant_Conv1 (QuantizeWrapperV2) (None, 112, 112, 32) 929         quantize_layer[1][0]             \n",
            "__________________________________________________________________________________________________\n",
            "quant_bn_Conv1 (QuantizeWrapper (None, 112, 112, 32) 129         quant_Conv1[0][0]                \n",
            "__________________________________________________________________________________________________\n",
            "quant_Conv1_relu (QuantizeWrapp (None, 112, 112, 32) 3           quant_bn_Conv1[0][0]             \n",
            "__________________________________________________________________________________________________\n",
            "quant_expanded_conv_depthwise ( (None, 112, 112, 32) 291         quant_Conv1_relu[0][0]           \n",
            "__________________________________________________________________________________________________\n",
            "quant_expanded_conv_depthwise_B (None, 112, 112, 32) 129         quant_expanded_conv_depthwise[0][\n",
            "__________________________________________________________________________________________________\n",
            "quant_expanded_conv_depthwise_r (None, 112, 112, 32) 3           quant_expanded_conv_depthwise_BN[\n",
            "__________________________________________________________________________________________________\n",
            "quant_expanded_conv_project (Qu (None, 112, 112, 16) 545         quant_expanded_conv_depthwise_rel\n",
            "__________________________________________________________________________________________________\n",
            "quant_expanded_conv_project_BN  (None, 112, 112, 16) 67          quant_expanded_conv_project[0][0]\n",
            "__________________________________________________________________________________________________\n",
            "quant_block_1_expand (QuantizeW (None, 112, 112, 96) 1729        quant_expanded_conv_project_BN[0]\n",
            "__________________________________________________________________________________________________\n",
            "quant_block_1_expand_BN (Quanti (None, 112, 112, 96) 385         quant_block_1_expand[0][0]       \n",
            "__________________________________________________________________________________________________\n",
            "quant_block_1_expand_relu (Quan (None, 112, 112, 96) 3           quant_block_1_expand_BN[0][0]    \n",
            "__________________________________________________________________________________________________\n",
            "quant_block_1_pad (QuantizeWrap (None, 113, 113, 96) 1           quant_block_1_expand_relu[0][0]  \n",
            "__________________________________________________________________________________________________\n",
            "quant_block_1_depthwise (Quanti (None, 56, 56, 96)   867         quant_block_1_pad[0][0]          \n",
            "__________________________________________________________________________________________________\n",
            "quant_block_1_depthwise_BN (Qua (None, 56, 56, 96)   385         quant_block_1_depthwise[0][0]    \n",
            "__________________________________________________________________________________________________\n",
            "quant_block_1_depthwise_relu (Q (None, 56, 56, 96)   3           quant_block_1_depthwise_BN[0][0] \n",
            "__________________________________________________________________________________________________\n",
            "quant_block_1_project (Quantize (None, 56, 56, 24)   2353        quant_block_1_depthwise_relu[0][0\n",
            "__________________________________________________________________________________________________\n",
            "quant_block_1_project_BN (Quant (None, 56, 56, 24)   99          quant_block_1_project[0][0]      \n",
            "__________________________________________________________________________________________________\n",
            "quant_block_2_expand (QuantizeW (None, 56, 56, 144)  3745        quant_block_1_project_BN[0][0]   \n",
            "__________________________________________________________________________________________________\n",
            "quant_block_2_expand_BN (Quanti (None, 56, 56, 144)  577         quant_block_2_expand[0][0]       \n",
            "__________________________________________________________________________________________________\n",
            "quant_block_2_expand_relu (Quan (None, 56, 56, 144)  3           quant_block_2_expand_BN[0][0]    \n",
            "__________________________________________________________________________________________________\n",
            "quant_block_2_depthwise (Quanti (None, 56, 56, 144)  1299        quant_block_2_expand_relu[0][0]  \n",
            "__________________________________________________________________________________________________\n",
            "quant_block_2_depthwise_BN (Qua (None, 56, 56, 144)  577         quant_block_2_depthwise[0][0]    \n",
            "__________________________________________________________________________________________________\n",
            "quant_block_2_depthwise_relu (Q (None, 56, 56, 144)  3           quant_block_2_depthwise_BN[0][0] \n",
            "__________________________________________________________________________________________________\n",
            "quant_block_2_project (Quantize (None, 56, 56, 24)   3505        quant_block_2_depthwise_relu[0][0\n",
            "__________________________________________________________________________________________________\n",
            "quant_block_2_project_BN (Quant (None, 56, 56, 24)   99          quant_block_2_project[0][0]      \n",
            "__________________________________________________________________________________________________\n",
            "quant_block_2_add (QuantizeWrap (None, 56, 56, 24)   3           quant_block_1_project_BN[0][0]   \n",
            "                                                                 quant_block_2_project_BN[0][0]   \n",
            "__________________________________________________________________________________________________\n",
            "quant_block_3_expand (QuantizeW (None, 56, 56, 144)  3745        quant_block_2_add[0][0]          \n",
            "__________________________________________________________________________________________________\n",
            "quant_block_3_expand_BN (Quanti (None, 56, 56, 144)  577         quant_block_3_expand[0][0]       \n",
            "__________________________________________________________________________________________________\n",
            "quant_block_3_expand_relu (Quan (None, 56, 56, 144)  3           quant_block_3_expand_BN[0][0]    \n",
            "__________________________________________________________________________________________________\n",
            "quant_block_3_pad (QuantizeWrap (None, 57, 57, 144)  1           quant_block_3_expand_relu[0][0]  \n",
            "__________________________________________________________________________________________________\n",
            "quant_block_3_depthwise (Quanti (None, 28, 28, 144)  1299        quant_block_3_pad[0][0]          \n",
            "__________________________________________________________________________________________________\n",
            "quant_block_3_depthwise_BN (Qua (None, 28, 28, 144)  577         quant_block_3_depthwise[0][0]    \n",
            "__________________________________________________________________________________________________\n",
            "quant_block_3_depthwise_relu (Q (None, 28, 28, 144)  3           quant_block_3_depthwise_BN[0][0] \n",
            "__________________________________________________________________________________________________\n",
            "quant_block_3_project (Quantize (None, 28, 28, 32)   4673        quant_block_3_depthwise_relu[0][0\n",
            "__________________________________________________________________________________________________\n",
            "quant_block_3_project_BN (Quant (None, 28, 28, 32)   131         quant_block_3_project[0][0]      \n",
            "__________________________________________________________________________________________________\n",
            "quant_block_4_expand (QuantizeW (None, 28, 28, 192)  6529        quant_block_3_project_BN[0][0]   \n",
            "__________________________________________________________________________________________________\n",
            "quant_block_4_expand_BN (Quanti (None, 28, 28, 192)  769         quant_block_4_expand[0][0]       \n",
            "__________________________________________________________________________________________________\n",
            "quant_block_4_expand_relu (Quan (None, 28, 28, 192)  3           quant_block_4_expand_BN[0][0]    \n",
            "__________________________________________________________________________________________________\n",
            "quant_block_4_depthwise (Quanti (None, 28, 28, 192)  1731        quant_block_4_expand_relu[0][0]  \n",
            "__________________________________________________________________________________________________\n",
            "quant_block_4_depthwise_BN (Qua (None, 28, 28, 192)  769         quant_block_4_depthwise[0][0]    \n",
            "__________________________________________________________________________________________________\n",
            "quant_block_4_depthwise_relu (Q (None, 28, 28, 192)  3           quant_block_4_depthwise_BN[0][0] \n",
            "__________________________________________________________________________________________________\n",
            "quant_block_4_project (Quantize (None, 28, 28, 32)   6209        quant_block_4_depthwise_relu[0][0\n",
            "__________________________________________________________________________________________________\n",
            "quant_block_4_project_BN (Quant (None, 28, 28, 32)   131         quant_block_4_project[0][0]      \n",
            "__________________________________________________________________________________________________\n",
            "quant_block_4_add (QuantizeWrap (None, 28, 28, 32)   3           quant_block_3_project_BN[0][0]   \n",
            "                                                                 quant_block_4_project_BN[0][0]   \n",
            "__________________________________________________________________________________________________\n",
            "quant_block_5_expand (QuantizeW (None, 28, 28, 192)  6529        quant_block_4_add[0][0]          \n",
            "__________________________________________________________________________________________________\n",
            "quant_block_5_expand_BN (Quanti (None, 28, 28, 192)  769         quant_block_5_expand[0][0]       \n",
            "__________________________________________________________________________________________________\n",
            "quant_block_5_expand_relu (Quan (None, 28, 28, 192)  3           quant_block_5_expand_BN[0][0]    \n",
            "__________________________________________________________________________________________________\n",
            "quant_block_5_depthwise (Quanti (None, 28, 28, 192)  1731        quant_block_5_expand_relu[0][0]  \n",
            "__________________________________________________________________________________________________\n",
            "quant_block_5_depthwise_BN (Qua (None, 28, 28, 192)  769         quant_block_5_depthwise[0][0]    \n",
            "__________________________________________________________________________________________________\n",
            "quant_block_5_depthwise_relu (Q (None, 28, 28, 192)  3           quant_block_5_depthwise_BN[0][0] \n",
            "__________________________________________________________________________________________________\n",
            "quant_block_5_project (Quantize (None, 28, 28, 32)   6209        quant_block_5_depthwise_relu[0][0\n",
            "__________________________________________________________________________________________________\n",
            "quant_block_5_project_BN (Quant (None, 28, 28, 32)   131         quant_block_5_project[0][0]      \n",
            "__________________________________________________________________________________________________\n",
            "quant_block_5_add (QuantizeWrap (None, 28, 28, 32)   3           quant_block_4_add[0][0]          \n",
            "                                                                 quant_block_5_project_BN[0][0]   \n",
            "__________________________________________________________________________________________________\n",
            "quant_block_6_expand (QuantizeW (None, 28, 28, 192)  6529        quant_block_5_add[0][0]          \n",
            "__________________________________________________________________________________________________\n",
            "quant_block_6_expand_BN (Quanti (None, 28, 28, 192)  769         quant_block_6_expand[0][0]       \n",
            "__________________________________________________________________________________________________\n",
            "quant_block_6_expand_relu (Quan (None, 28, 28, 192)  3           quant_block_6_expand_BN[0][0]    \n",
            "__________________________________________________________________________________________________\n",
            "quant_block_6_pad (QuantizeWrap (None, 29, 29, 192)  1           quant_block_6_expand_relu[0][0]  \n",
            "__________________________________________________________________________________________________\n",
            "quant_block_6_depthwise (Quanti (None, 14, 14, 192)  1731        quant_block_6_pad[0][0]          \n",
            "__________________________________________________________________________________________________\n",
            "quant_block_6_depthwise_BN (Qua (None, 14, 14, 192)  769         quant_block_6_depthwise[0][0]    \n",
            "__________________________________________________________________________________________________\n",
            "quant_block_6_depthwise_relu (Q (None, 14, 14, 192)  3           quant_block_6_depthwise_BN[0][0] \n",
            "__________________________________________________________________________________________________\n",
            "quant_block_6_project (Quantize (None, 14, 14, 64)   12417       quant_block_6_depthwise_relu[0][0\n",
            "__________________________________________________________________________________________________\n",
            "quant_block_6_project_BN (Quant (None, 14, 14, 64)   259         quant_block_6_project[0][0]      \n",
            "__________________________________________________________________________________________________\n",
            "quant_block_7_expand (QuantizeW (None, 14, 14, 384)  25345       quant_block_6_project_BN[0][0]   \n",
            "__________________________________________________________________________________________________\n",
            "quant_block_7_expand_BN (Quanti (None, 14, 14, 384)  1537        quant_block_7_expand[0][0]       \n",
            "__________________________________________________________________________________________________\n",
            "quant_block_7_expand_relu (Quan (None, 14, 14, 384)  3           quant_block_7_expand_BN[0][0]    \n",
            "__________________________________________________________________________________________________\n",
            "quant_block_7_depthwise (Quanti (None, 14, 14, 384)  3459        quant_block_7_expand_relu[0][0]  \n",
            "__________________________________________________________________________________________________\n",
            "quant_block_7_depthwise_BN (Qua (None, 14, 14, 384)  1537        quant_block_7_depthwise[0][0]    \n",
            "__________________________________________________________________________________________________\n",
            "quant_block_7_depthwise_relu (Q (None, 14, 14, 384)  3           quant_block_7_depthwise_BN[0][0] \n",
            "__________________________________________________________________________________________________\n",
            "quant_block_7_project (Quantize (None, 14, 14, 64)   24705       quant_block_7_depthwise_relu[0][0\n",
            "__________________________________________________________________________________________________\n",
            "quant_block_7_project_BN (Quant (None, 14, 14, 64)   259         quant_block_7_project[0][0]      \n",
            "__________________________________________________________________________________________________\n",
            "quant_block_7_add (QuantizeWrap (None, 14, 14, 64)   3           quant_block_6_project_BN[0][0]   \n",
            "                                                                 quant_block_7_project_BN[0][0]   \n",
            "__________________________________________________________________________________________________\n",
            "quant_block_8_expand (QuantizeW (None, 14, 14, 384)  25345       quant_block_7_add[0][0]          \n",
            "__________________________________________________________________________________________________\n",
            "quant_block_8_expand_BN (Quanti (None, 14, 14, 384)  1537        quant_block_8_expand[0][0]       \n",
            "__________________________________________________________________________________________________\n",
            "quant_block_8_expand_relu (Quan (None, 14, 14, 384)  3           quant_block_8_expand_BN[0][0]    \n",
            "__________________________________________________________________________________________________\n",
            "quant_block_8_depthwise (Quanti (None, 14, 14, 384)  3459        quant_block_8_expand_relu[0][0]  \n",
            "__________________________________________________________________________________________________\n",
            "quant_block_8_depthwise_BN (Qua (None, 14, 14, 384)  1537        quant_block_8_depthwise[0][0]    \n",
            "__________________________________________________________________________________________________\n",
            "quant_block_8_depthwise_relu (Q (None, 14, 14, 384)  3           quant_block_8_depthwise_BN[0][0] \n",
            "__________________________________________________________________________________________________\n",
            "quant_block_8_project (Quantize (None, 14, 14, 64)   24705       quant_block_8_depthwise_relu[0][0\n",
            "__________________________________________________________________________________________________\n",
            "quant_block_8_project_BN (Quant (None, 14, 14, 64)   259         quant_block_8_project[0][0]      \n",
            "__________________________________________________________________________________________________\n",
            "quant_block_8_add (QuantizeWrap (None, 14, 14, 64)   3           quant_block_7_add[0][0]          \n",
            "                                                                 quant_block_8_project_BN[0][0]   \n",
            "__________________________________________________________________________________________________\n",
            "quant_block_9_expand (QuantizeW (None, 14, 14, 384)  25345       quant_block_8_add[0][0]          \n",
            "__________________________________________________________________________________________________\n",
            "quant_block_9_expand_BN (Quanti (None, 14, 14, 384)  1537        quant_block_9_expand[0][0]       \n",
            "__________________________________________________________________________________________________\n",
            "quant_block_9_expand_relu (Quan (None, 14, 14, 384)  3           quant_block_9_expand_BN[0][0]    \n",
            "__________________________________________________________________________________________________\n",
            "quant_block_9_depthwise (Quanti (None, 14, 14, 384)  3459        quant_block_9_expand_relu[0][0]  \n",
            "__________________________________________________________________________________________________\n",
            "quant_block_9_depthwise_BN (Qua (None, 14, 14, 384)  1537        quant_block_9_depthwise[0][0]    \n",
            "__________________________________________________________________________________________________\n",
            "quant_block_9_depthwise_relu (Q (None, 14, 14, 384)  3           quant_block_9_depthwise_BN[0][0] \n",
            "__________________________________________________________________________________________________\n",
            "quant_block_9_project (Quantize (None, 14, 14, 64)   24705       quant_block_9_depthwise_relu[0][0\n",
            "__________________________________________________________________________________________________\n",
            "quant_block_9_project_BN (Quant (None, 14, 14, 64)   259         quant_block_9_project[0][0]      \n",
            "__________________________________________________________________________________________________\n",
            "quant_block_9_add (QuantizeWrap (None, 14, 14, 64)   3           quant_block_8_add[0][0]          \n",
            "                                                                 quant_block_9_project_BN[0][0]   \n",
            "__________________________________________________________________________________________________\n",
            "quant_block_10_expand (Quantize (None, 14, 14, 384)  25345       quant_block_9_add[0][0]          \n",
            "__________________________________________________________________________________________________\n",
            "quant_block_10_expand_BN (Quant (None, 14, 14, 384)  1537        quant_block_10_expand[0][0]      \n",
            "__________________________________________________________________________________________________\n",
            "quant_block_10_expand_relu (Qua (None, 14, 14, 384)  3           quant_block_10_expand_BN[0][0]   \n",
            "__________________________________________________________________________________________________\n",
            "quant_block_10_depthwise (Quant (None, 14, 14, 384)  3459        quant_block_10_expand_relu[0][0] \n",
            "__________________________________________________________________________________________________\n",
            "quant_block_10_depthwise_BN (Qu (None, 14, 14, 384)  1537        quant_block_10_depthwise[0][0]   \n",
            "__________________________________________________________________________________________________\n",
            "quant_block_10_depthwise_relu ( (None, 14, 14, 384)  3           quant_block_10_depthwise_BN[0][0]\n",
            "__________________________________________________________________________________________________\n",
            "quant_block_10_project (Quantiz (None, 14, 14, 96)   37057       quant_block_10_depthwise_relu[0][\n",
            "__________________________________________________________________________________________________\n",
            "quant_block_10_project_BN (Quan (None, 14, 14, 96)   387         quant_block_10_project[0][0]     \n",
            "__________________________________________________________________________________________________\n",
            "quant_block_11_expand (Quantize (None, 14, 14, 576)  56449       quant_block_10_project_BN[0][0]  \n",
            "__________________________________________________________________________________________________\n",
            "quant_block_11_expand_BN (Quant (None, 14, 14, 576)  2305        quant_block_11_expand[0][0]      \n",
            "__________________________________________________________________________________________________\n",
            "quant_block_11_expand_relu (Qua (None, 14, 14, 576)  3           quant_block_11_expand_BN[0][0]   \n",
            "__________________________________________________________________________________________________\n",
            "quant_block_11_depthwise (Quant (None, 14, 14, 576)  5187        quant_block_11_expand_relu[0][0] \n",
            "__________________________________________________________________________________________________\n",
            "quant_block_11_depthwise_BN (Qu (None, 14, 14, 576)  2305        quant_block_11_depthwise[0][0]   \n",
            "__________________________________________________________________________________________________\n",
            "quant_block_11_depthwise_relu ( (None, 14, 14, 576)  3           quant_block_11_depthwise_BN[0][0]\n",
            "__________________________________________________________________________________________________\n",
            "quant_block_11_project (Quantiz (None, 14, 14, 96)   55489       quant_block_11_depthwise_relu[0][\n",
            "__________________________________________________________________________________________________\n",
            "quant_block_11_project_BN (Quan (None, 14, 14, 96)   387         quant_block_11_project[0][0]     \n",
            "__________________________________________________________________________________________________\n",
            "quant_block_11_add (QuantizeWra (None, 14, 14, 96)   3           quant_block_10_project_BN[0][0]  \n",
            "                                                                 quant_block_11_project_BN[0][0]  \n",
            "__________________________________________________________________________________________________\n",
            "quant_block_12_expand (Quantize (None, 14, 14, 576)  56449       quant_block_11_add[0][0]         \n",
            "__________________________________________________________________________________________________\n",
            "quant_block_12_expand_BN (Quant (None, 14, 14, 576)  2305        quant_block_12_expand[0][0]      \n",
            "__________________________________________________________________________________________________\n",
            "quant_block_12_expand_relu (Qua (None, 14, 14, 576)  3           quant_block_12_expand_BN[0][0]   \n",
            "__________________________________________________________________________________________________\n",
            "quant_block_12_depthwise (Quant (None, 14, 14, 576)  5187        quant_block_12_expand_relu[0][0] \n",
            "__________________________________________________________________________________________________\n",
            "quant_block_12_depthwise_BN (Qu (None, 14, 14, 576)  2305        quant_block_12_depthwise[0][0]   \n",
            "__________________________________________________________________________________________________\n",
            "quant_block_12_depthwise_relu ( (None, 14, 14, 576)  3           quant_block_12_depthwise_BN[0][0]\n",
            "__________________________________________________________________________________________________\n",
            "quant_block_12_project (Quantiz (None, 14, 14, 96)   55489       quant_block_12_depthwise_relu[0][\n",
            "__________________________________________________________________________________________________\n",
            "quant_block_12_project_BN (Quan (None, 14, 14, 96)   387         quant_block_12_project[0][0]     \n",
            "__________________________________________________________________________________________________\n",
            "quant_block_12_add (QuantizeWra (None, 14, 14, 96)   3           quant_block_11_add[0][0]         \n",
            "                                                                 quant_block_12_project_BN[0][0]  \n",
            "__________________________________________________________________________________________________\n",
            "quant_block_13_expand (Quantize (None, 14, 14, 576)  56449       quant_block_12_add[0][0]         \n",
            "__________________________________________________________________________________________________\n",
            "quant_block_13_expand_BN (Quant (None, 14, 14, 576)  2305        quant_block_13_expand[0][0]      \n",
            "__________________________________________________________________________________________________\n",
            "quant_block_13_expand_relu (Qua (None, 14, 14, 576)  3           quant_block_13_expand_BN[0][0]   \n",
            "__________________________________________________________________________________________________\n",
            "quant_block_13_pad (QuantizeWra (None, 15, 15, 576)  1           quant_block_13_expand_relu[0][0] \n",
            "__________________________________________________________________________________________________\n",
            "quant_block_13_depthwise (Quant (None, 7, 7, 576)    5187        quant_block_13_pad[0][0]         \n",
            "__________________________________________________________________________________________________\n",
            "quant_block_13_depthwise_BN (Qu (None, 7, 7, 576)    2305        quant_block_13_depthwise[0][0]   \n",
            "__________________________________________________________________________________________________\n",
            "quant_block_13_depthwise_relu ( (None, 7, 7, 576)    3           quant_block_13_depthwise_BN[0][0]\n",
            "__________________________________________________________________________________________________\n",
            "quant_block_13_project (Quantiz (None, 7, 7, 160)    92481       quant_block_13_depthwise_relu[0][\n",
            "__________________________________________________________________________________________________\n",
            "quant_block_13_project_BN (Quan (None, 7, 7, 160)    643         quant_block_13_project[0][0]     \n",
            "__________________________________________________________________________________________________\n",
            "quant_block_14_expand (Quantize (None, 7, 7, 960)    155521      quant_block_13_project_BN[0][0]  \n",
            "__________________________________________________________________________________________________\n",
            "quant_block_14_expand_BN (Quant (None, 7, 7, 960)    3841        quant_block_14_expand[0][0]      \n",
            "__________________________________________________________________________________________________\n",
            "quant_block_14_expand_relu (Qua (None, 7, 7, 960)    3           quant_block_14_expand_BN[0][0]   \n",
            "__________________________________________________________________________________________________\n",
            "quant_block_14_depthwise (Quant (None, 7, 7, 960)    8643        quant_block_14_expand_relu[0][0] \n",
            "__________________________________________________________________________________________________\n",
            "quant_block_14_depthwise_BN (Qu (None, 7, 7, 960)    3841        quant_block_14_depthwise[0][0]   \n",
            "__________________________________________________________________________________________________\n",
            "quant_block_14_depthwise_relu ( (None, 7, 7, 960)    3           quant_block_14_depthwise_BN[0][0]\n",
            "__________________________________________________________________________________________________\n",
            "quant_block_14_project (Quantiz (None, 7, 7, 160)    153921      quant_block_14_depthwise_relu[0][\n",
            "__________________________________________________________________________________________________\n",
            "quant_block_14_project_BN (Quan (None, 7, 7, 160)    643         quant_block_14_project[0][0]     \n",
            "__________________________________________________________________________________________________\n",
            "quant_block_14_add (QuantizeWra (None, 7, 7, 160)    3           quant_block_13_project_BN[0][0]  \n",
            "                                                                 quant_block_14_project_BN[0][0]  \n",
            "__________________________________________________________________________________________________\n",
            "quant_block_15_expand (Quantize (None, 7, 7, 960)    155521      quant_block_14_add[0][0]         \n",
            "__________________________________________________________________________________________________\n",
            "quant_block_15_expand_BN (Quant (None, 7, 7, 960)    3841        quant_block_15_expand[0][0]      \n",
            "__________________________________________________________________________________________________\n",
            "quant_block_15_expand_relu (Qua (None, 7, 7, 960)    3           quant_block_15_expand_BN[0][0]   \n",
            "__________________________________________________________________________________________________\n",
            "quant_block_15_depthwise (Quant (None, 7, 7, 960)    8643        quant_block_15_expand_relu[0][0] \n",
            "__________________________________________________________________________________________________\n",
            "quant_block_15_depthwise_BN (Qu (None, 7, 7, 960)    3841        quant_block_15_depthwise[0][0]   \n",
            "__________________________________________________________________________________________________\n",
            "quant_block_15_depthwise_relu ( (None, 7, 7, 960)    3           quant_block_15_depthwise_BN[0][0]\n",
            "__________________________________________________________________________________________________\n",
            "quant_block_15_project (Quantiz (None, 7, 7, 160)    153921      quant_block_15_depthwise_relu[0][\n",
            "__________________________________________________________________________________________________\n",
            "quant_block_15_project_BN (Quan (None, 7, 7, 160)    643         quant_block_15_project[0][0]     \n",
            "__________________________________________________________________________________________________\n",
            "quant_block_15_add (QuantizeWra (None, 7, 7, 160)    3           quant_block_14_add[0][0]         \n",
            "                                                                 quant_block_15_project_BN[0][0]  \n",
            "__________________________________________________________________________________________________\n",
            "quant_block_16_expand (Quantize (None, 7, 7, 960)    155521      quant_block_15_add[0][0]         \n",
            "__________________________________________________________________________________________________\n",
            "quant_block_16_expand_BN (Quant (None, 7, 7, 960)    3841        quant_block_16_expand[0][0]      \n",
            "__________________________________________________________________________________________________\n",
            "quant_block_16_expand_relu (Qua (None, 7, 7, 960)    3           quant_block_16_expand_BN[0][0]   \n",
            "__________________________________________________________________________________________________\n",
            "quant_block_16_depthwise (Quant (None, 7, 7, 960)    8643        quant_block_16_expand_relu[0][0] \n",
            "__________________________________________________________________________________________________\n",
            "quant_block_16_depthwise_BN (Qu (None, 7, 7, 960)    3841        quant_block_16_depthwise[0][0]   \n",
            "__________________________________________________________________________________________________\n",
            "quant_block_16_depthwise_relu ( (None, 7, 7, 960)    3           quant_block_16_depthwise_BN[0][0]\n",
            "__________________________________________________________________________________________________\n",
            "quant_block_16_project (Quantiz (None, 7, 7, 320)    307841      quant_block_16_depthwise_relu[0][\n",
            "__________________________________________________________________________________________________\n",
            "quant_block_16_project_BN (Quan (None, 7, 7, 320)    1283        quant_block_16_project[0][0]     \n",
            "__________________________________________________________________________________________________\n",
            "quant_Conv_1 (QuantizeWrapperV2 (None, 7, 7, 1280)   412161      quant_block_16_project_BN[0][0]  \n",
            "__________________________________________________________________________________________________\n",
            "quant_Conv_1_bn (QuantizeWrappe (None, 7, 7, 1280)   5121        quant_Conv_1[0][0]               \n",
            "__________________________________________________________________________________________________\n",
            "quant_out_relu (QuantizeWrapper (None, 7, 7, 1280)   3           quant_Conv_1_bn[0][0]            \n",
            "__________________________________________________________________________________________________\n",
            "quant_conv2d (QuantizeWrapperV2 (None, 7, 7, 16)     20531       quant_out_relu[0][0]             \n",
            "__________________________________________________________________________________________________\n",
            "quant_dropout (QuantizeWrapperV (None, 7, 7, 16)     1           quant_conv2d[0][0]               \n",
            "__________________________________________________________________________________________________\n",
            "quant_global_average_pooling2d  (None, 16)           3           quant_dropout[0][0]              \n",
            "__________________________________________________________________________________________________\n",
            "quant_dense (QuantizeWrapperV2) (None, 5)            90          quant_global_average_pooling2d[0]\n",
            "==================================================================================================\n",
            "Total params: 2,298,763\n",
            "Trainable params: 2,210,341\n",
            "Non-trainable params: 88,422\n",
            "__________________________________________________________________________________________________\n"
          ]
        }
      ]
    },
    {
      "cell_type": "code",
      "source": [
        "q_training = q_aware_model.fit(train_data, train_label, epochs= 10, validation_data=(test_data, test_label), verbose=1)"
      ],
      "metadata": {
        "colab": {
          "base_uri": "https://localhost:8080/"
        },
        "id": "We5Zjy7aq5r_",
        "outputId": "30ac5a4c-dc6e-481f-fc0c-7c3c17453fec"
      },
      "execution_count": null,
      "outputs": [
        {
          "output_type": "stream",
          "name": "stdout",
          "text": [
            "Epoch 1/10\n",
            "63/63 [==============================] - 419s 6s/step - loss: 0.6823 - accuracy: 0.7710 - val_loss: 0.3788 - val_accuracy: 0.8540\n",
            "Epoch 2/10\n",
            "63/63 [==============================] - 411s 7s/step - loss: 0.3518 - accuracy: 0.8725 - val_loss: 0.2690 - val_accuracy: 0.9020\n",
            "Epoch 3/10\n",
            "63/63 [==============================] - 415s 7s/step - loss: 0.2329 - accuracy: 0.9180 - val_loss: 0.1986 - val_accuracy: 0.9340\n",
            "Epoch 4/10\n",
            "63/63 [==============================] - 418s 7s/step - loss: 0.1641 - accuracy: 0.9455 - val_loss: 0.1886 - val_accuracy: 0.9260\n",
            "Epoch 5/10\n",
            "63/63 [==============================] - 444s 7s/step - loss: 0.1315 - accuracy: 0.9555 - val_loss: 0.1678 - val_accuracy: 0.9260\n",
            "Epoch 6/10\n",
            "63/63 [==============================] - 434s 7s/step - loss: 0.1079 - accuracy: 0.9655 - val_loss: 0.1969 - val_accuracy: 0.9100\n",
            "Epoch 7/10\n",
            "63/63 [==============================] - 431s 7s/step - loss: 0.0867 - accuracy: 0.9715 - val_loss: 0.1546 - val_accuracy: 0.9400\n",
            "Epoch 8/10\n",
            "63/63 [==============================] - 429s 7s/step - loss: 0.0747 - accuracy: 0.9770 - val_loss: 0.1421 - val_accuracy: 0.9300\n",
            "Epoch 9/10\n",
            "63/63 [==============================] - 438s 7s/step - loss: 0.0619 - accuracy: 0.9790 - val_loss: 0.1152 - val_accuracy: 0.9480\n",
            "Epoch 10/10\n",
            "63/63 [==============================] - 433s 7s/step - loss: 0.0471 - accuracy: 0.9845 - val_loss: 0.0825 - val_accuracy: 0.9720\n"
          ]
        }
      ]
    },
    {
      "cell_type": "code",
      "source": [
        "plt.plot(q_training.history['accuracy'])\n",
        "plt.plot(q_training.history['val_accuracy'])\n",
        "plt.title('Model Accuracy')\n",
        "plt.ylabel('Accuracy')\n",
        "plt.xlabel('Epoch')\n",
        "plt.legend(['train', 'val'], loc='upper left')\n",
        "plt.show()"
      ],
      "metadata": {
        "id": "yI59ViU6p4oW",
        "colab": {
          "base_uri": "https://localhost:8080/",
          "height": 295
        },
        "outputId": "b88d125a-6620-40b0-8b31-0161d73bcab9"
      },
      "execution_count": null,
      "outputs": [
        {
          "output_type": "display_data",
          "data": {
            "image/png": "[encoded data removed]",
            "text/plain": [
              "<Figure size 432x288 with 1 Axes>"
            ]
          },
          "metadata": {
            "needs_background": "light"
          }
        }
      ]
    },
    {
      "cell_type": "code",
      "source": [
        "plt.plot(q_training.history['loss'])\n",
        "plt.plot(q_training.history['val_loss'])\n",
        "plt.title('Model Loss')\n",
        "plt.ylabel('Loss')\n",
        "plt.xlabel('Epoch')\n",
        "plt.legend(['train', 'val'], loc='upper left')\n",
        "plt.show()"
      ],
      "metadata": {
        "id": "8_--TId5p7Z6",
        "colab": {
          "base_uri": "https://localhost:8080/",
          "height": 295
        },
        "outputId": "8f6ad998-98e7-4653-adb9-8b89def7e339"
      },
      "execution_count": null,
      "outputs": [
        {
          "output_type": "display_data",
          "data": {
            "image/png": "[encoded data removed]",
            "text/plain": [
              "<Figure size 432x288 with 1 Axes>"
            ]
          },
          "metadata": {
            "needs_background": "light"
          }
        }
      ]
    },
    {
      "cell_type": "code",
      "source": [
        "_, baseline_model_accuracy = model.evaluate(\n",
        "    test_data, test_label, verbose=0)\n",
        "\n",
        "_, q_aware_model_accuracy = q_aware_model.evaluate(\n",
        "   test_data, test_label, verbose=0)\n",
        "\n",
        "print('Baseline test accuracy:', baseline_model_accuracy)\n",
        "print('Quant test accuracy:', q_aware_model_accuracy)"
      ],
      "metadata": {
        "id": "WAdQziMgxAjK",
        "colab": {
          "base_uri": "https://localhost:8080/"
        },
        "outputId": "28be8b08-96ea-4216-b3e4-381d842a7a11"
      },
      "execution_count": null,
      "outputs": [
        {
          "output_type": "stream",
          "name": "stdout",
          "text": [
            "Baseline test accuracy: 0.9440000057220459\n",
            "Quant test accuracy: 0.972000002861023\n"
          ]
        }
      ]
    },
    {
      "cell_type": "markdown",
      "source": [
        "### Create Quantized model for TFLite Backend"
      ],
      "metadata": {
        "id": "cJfNjnaDVicn"
      }
    },
    {
      "cell_type": "code",
      "source": [
        "converter = tf.lite.TFLiteConverter.from_keras_model(q_aware_model)\n",
        "converter.optimizations = [tf.lite.Optimize.DEFAULT]\n",
        "\n",
        "# Set the input and output tensors to uint8 (added in r2.3)\n",
        "converter.inference_input_type = tf.uint8\n",
        "converter.inference_output_type = tf.uint8\n",
        "\n",
        "quantized_tflite_model = converter.convert()"
      ],
      "metadata": {
        "id": "ZjBeaFp0xd1l",
        "colab": {
          "base_uri": "https://localhost:8080/"
        },
        "outputId": "21252b58-366c-49d8-86e6-e94bb19f77c8"
      },
      "execution_count": null,
      "outputs": [
        {
          "output_type": "stream",
          "name": "stderr",
          "text": [
            "WARNING:absl:Found untraced functions such as Conv1_layer_call_and_return_conditional_losses, Conv1_layer_call_fn, Conv1_relu_layer_call_and_return_conditional_losses, Conv1_relu_layer_call_fn, expanded_conv_depthwise_relu_layer_call_and_return_conditional_losses while saving (showing 5 of 415). These functions will not be directly callable after loading.\n"
          ]
        }
      ]
    },
    {
      "cell_type": "code",
      "source": [
        "# 'wb': file is opened for writing in binary mode\n",
        "with open('mobilenet_v2_sound_classification_qat.tflite', 'wb') as f:\n",
        "  f.write(quantized_tflite_model)"
      ],
      "metadata": {
        "id": "lYYTjxaLuSBt"
      },
      "execution_count": null,
      "outputs": []
    },
    {
      "cell_type": "markdown",
      "source": [
        "### Compare accuracy"
      ],
      "metadata": {
        "id": "uDNBNzCDVzEv"
      }
    },
    {
      "cell_type": "code",
      "source": [
        "def set_input_tensor(interpreter, input):\n",
        "  input_details = interpreter.get_input_details()[0] # for one input data\n",
        "  tensor_index = input_details['index'] # tensor index in the interpreter\n",
        "  input_tensor = interpreter.tensor(tensor_index)()[0]\n",
        "  input_tensor[:, :] = input\n",
        "\n",
        "def classify_audio(interpreter, input):\n",
        "  set_input_tensor(interpreter, input)\n",
        "  interpreter.invoke() # invoke the interpreter; must set input size, allocate tensor and fill values before calling this\n",
        "  output_details = interpreter.get_output_details()[0] # for one output data\n",
        "  output = interpreter.get_tensor(output_details['index']) # obtains output tensor in numpy array\n",
        "  top_1 = np.argmax(output) # obtain most probable output\n",
        "  return top_1"
      ],
      "metadata": {
        "id": "aV1zpFxQxn9T"
      },
      "execution_count": null,
      "outputs": []
    },
    {
      "cell_type": "code",
      "source": [
        "interpreter = tf.lite.Interpreter('mobilenet_v2_sound_classification_qat.tflite')\n",
        "interpreter.allocate_tensors() # tflite pre-plans tensor allocations to optimize inference"
      ],
      "metadata": {
        "id": "M0nZCj_gWvm4"
      },
      "execution_count": null,
      "outputs": []
    },
    {
      "cell_type": "code",
      "source": [
        "# Obtain tflite prediction outputs\n",
        "\n",
        "tflite_pred = []\n",
        "ground_truth = test_label\n",
        "\n",
        "for i in range(len(test_data)):\n",
        "  prediction = classify_audio(interpreter, test_data[i])\n",
        "  tflite_pred.append(prediction)\n",
        "\n",
        "print(tflite_pred)"
      ],
      "metadata": {
        "id": "xkgv5mOCXBZb",
        "colab": {
          "base_uri": "https://localhost:8080/"
        },
        "outputId": "b34d4f9a-7646-4c6f-8293-b39ba8cf5114"
      },
      "execution_count": null,
      "outputs": [
        {
          "output_type": "stream",
          "name": "stdout",
          "text": [
            "[0, 0, 0, 0, 0, 0, 0, 0, 0, 0, 0, 0, 0, 0, 0, 0, 0, 0, 0, 0, 0, 0, 0, 0, 0, 0, 0, 0, 0, 0, 0, 0, 0, 0, 0, 0, 0, 0, 0, 0, 0, 0, 0, 0, 0, 0, 0, 0, 0, 0, 0, 0, 0, 0, 0, 0, 0, 0, 0, 0, 0, 0, 0, 0, 0, 0, 0, 0, 0, 0, 0, 0, 0, 0, 0, 0, 0, 0, 0, 0, 0, 0, 0, 0, 0, 0, 0, 0, 0, 0, 0, 0, 0, 0, 0, 0, 0, 0, 0, 0, 1, 1, 1, 1, 1, 1, 1, 0, 1, 1, 1, 1, 1, 1, 1, 1, 0, 1, 1, 1, 1, 1, 1, 1, 1, 1, 1, 1, 1, 1, 1, 1, 1, 1, 1, 1, 1, 1, 1, 1, 1, 1, 1, 1, 1, 1, 1, 1, 1, 1, 1, 1, 1, 1, 1, 1, 1, 1, 1, 1, 1, 1, 1, 1, 0, 1, 1, 1, 1, 0, 1, 1, 1, 1, 1, 1, 1, 1, 1, 1, 1, 1, 1, 1, 1, 1, 1, 1, 1, 1, 1, 1, 1, 1, 1, 1, 1, 1, 1, 1, 2, 2, 2, 2, 3, 2, 2, 2, 2, 2, 2, 2, 2, 2, 2, 2, 2, 2, 2, 2, 2, 2, 2, 2, 2, 2, 2, 2, 2, 2, 2, 2, 2, 2, 2, 3, 2, 2, 2, 2, 2, 2, 3, 2, 2, 2, 2, 2, 2, 2, 2, 2, 2, 2, 2, 2, 2, 2, 3, 2, 3, 2, 2, 2, 2, 2, 2, 2, 2, 2, 2, 2, 2, 2, 2, 3, 2, 2, 2, 2, 2, 2, 2, 2, 2, 2, 2, 2, 2, 3, 2, 2, 2, 2, 2, 2, 2, 2, 2, 2, 3, 3, 0, 4, 3, 3, 3, 3, 3, 3, 0, 0, 3, 1, 2, 3, 3, 3, 3, 3, 0, 3, 3, 3, 3, 0, 0, 3, 3, 3, 3, 3, 3, 3, 2, 3, 3, 4, 0, 2, 0, 3, 0, 0, 3, 3, 3, 3, 2, 3, 3, 3, 3, 3, 3, 1, 0, 3, 3, 3, 3, 3, 3, 3, 0, 3, 3, 0, 1, 3, 3, 3, 0, 3, 3, 3, 0, 3, 0, 2, 3, 3, 0, 3, 3, 3, 3, 2, 2, 3, 0, 2, 3, 3, 3, 3, 3, 3, 3, 3, 4, 3, 4, 4, 4, 4, 4, 4, 2, 4, 4, 4, 4, 4, 4, 4, 4, 4, 4, 4, 4, 4, 4, 3, 4, 4, 1, 4, 4, 4, 4, 3, 4, 3, 4, 4, 3, 4, 4, 0, 4, 3, 0, 4, 3, 4, 4, 4, 4, 4, 4, 4, 4, 4, 4, 4, 4, 4, 4, 0, 4, 4, 4, 0, 0, 4, 4, 4, 4, 4, 4, 4, 4, 4, 4, 4, 4, 4, 4, 0, 4, 4, 4, 0, 0, 4, 4, 4, 4, 4, 3, 3, 4, 1, 1, 4, 4, 4, 4, 4]\n"
          ]
        }
      ]
    },
    {
      "cell_type": "code",
      "source": [
        "# Computes the frequency with which prediction matches ground truth\n",
        "tflite_acc = Accuracy()\n",
        "tflite_acc(ground_truth, tflite_pred)"
      ],
      "metadata": {
        "id": "AndAuWAaXbPc",
        "colab": {
          "base_uri": "https://localhost:8080/"
        },
        "outputId": "af7868de-a415-43dc-a6f1-b00c72097742"
      },
      "execution_count": null,
      "outputs": [
        {
          "output_type": "execute_result",
          "data": {
            "text/plain": [
              "<tf.Tensor: shape=(), dtype=float32, numpy=0.874>"
            ]
          },
          "metadata": {},
          "execution_count": 29
        }
      ]
    },
    {
      "cell_type": "code",
      "source": [
        "print(\"Quant TF Lite accuracy: {:.5%}\".format(tflite_acc.result().numpy()))"
      ],
      "metadata": {
        "id": "qPWXuSHHXe1x",
        "colab": {
          "base_uri": "https://localhost:8080/"
        },
        "outputId": "60d6bdec-74af-49b8-f3ab-b51dc95dfb8a"
      },
      "execution_count": null,
      "outputs": [
        {
          "output_type": "stream",
          "name": "stdout",
          "text": [
            "Quant TF Lite accuracy: 87.40000%\n"
          ]
        }
      ]
    },
    {
      "cell_type": "code",
      "source": [
        "print('Quant TF test accuracy: {:.5%}'.format(q_aware_model_accuracy))"
      ],
      "metadata": {
        "id": "6_15S2E2XkJC",
        "colab": {
          "base_uri": "https://localhost:8080/"
        },
        "outputId": "979d34d8-c019-4b16-ee29-3f174142a228"
      },
      "execution_count": null,
      "outputs": [
        {
          "output_type": "stream",
          "name": "stdout",
          "text": [
            "Quant TF test accuracy: 97.20000%\n"
          ]
        }
      ]
    },
    {
      "cell_type": "markdown",
      "source": [
        "### Compare size of float TFLite model and quantized TFLite model"
      ],
      "metadata": {
        "id": "sG6v0Kr9vX39"
      }
    },
    {
      "cell_type": "code",
      "source": [
        "# Create float TFLite model.\n",
        "float_converter = tf.lite.TFLiteConverter.from_keras_model(model)\n",
        "float_tflite_model = float_converter.convert()\n",
        "\n",
        "# Measure sizes of models.\n",
        "_, float_file = tempfile.mkstemp('.tflite')\n",
        "_, quant_file = tempfile.mkstemp('.tflite')\n",
        "\n",
        "with open(quant_file, 'wb') as f:\n",
        "  f.write(quantized_tflite_model)\n",
        "\n",
        "with open(float_file, 'wb') as f:\n",
        "  f.write(float_tflite_model)\n",
        "\n",
        "print(\"Float model in Mb:\", os.path.getsize(float_file) / float(2**20))\n",
        "print(\"Quantized model in Mb:\", os.path.getsize(quant_file) / float(2**20))"
      ],
      "metadata": {
        "colab": {
          "base_uri": "https://localhost:8080/"
        },
        "id": "QpON7oxXvSIN",
        "outputId": "bb4bf64f-a344-4d14-ae6e-656ee682e871"
      },
      "execution_count": null,
      "outputs": [
        {
          "output_type": "stream",
          "name": "stdout",
          "text": [
            "INFO:tensorflow:Assets written to: /tmp/tmprh3t6tnp/assets\n"
          ]
        },
        {
          "output_type": "stream",
          "name": "stderr",
          "text": [
            "INFO:tensorflow:Assets written to: /tmp/tmprh3t6tnp/assets\n",
            "/usr/local/lib/python3.7/dist-packages/keras/utils/generic_utils.py:497: CustomMaskWarning: Custom mask layers require a config and must override get_config. When loading, the custom mask layer must be passed to the custom_objects argument.\n",
            "  category=CustomMaskWarning)\n"
          ]
        },
        {
          "output_type": "stream",
          "name": "stdout",
          "text": [
            "Float model in Mb: 8.527118682861328\n",
            "Quantized model in Mb: 2.60235595703125\n"
          ]
        }
      ]
    },
    {
      "cell_type": "markdown",
      "source": [
        "### Compiling model for Edge TPU"
      ],
      "metadata": {
        "id": "gBiPADIWsBWE"
      }
    },
    {
      "cell_type": "code",
      "source": [
        "! curl https://packages.cloud.google.com/apt/doc/apt-key.gpg | sudo apt-key add -\n",
        "\n",
        "! echo \"deb https://packages.cloud.google.com/apt coral-edgetpu-stable main\" | sudo tee /etc/apt/sources.list.d/coral-edgetpu.list\n",
        "\n",
        "! sudo apt-get update\n",
        "\n",
        "! sudo apt-get install edgetpu-compiler\t"
      ],
      "metadata": {
        "id": "kSPlnkm1Xoc4",
        "colab": {
          "base_uri": "https://localhost:8080/"
        },
        "outputId": "a5ea96bc-a725-4901-8a92-7aae8c84da5a"
      },
      "execution_count": null,
      "outputs": [
        {
          "output_type": "stream",
          "name": "stdout",
          "text": [
            "  % Total    % Received % Xferd  Average Speed   Time    Time     Time  Current\n",
            "                                 Dload  Upload   Total   Spent    Left  Speed\n",
            "\r  0     0    0     0    0     0      0      0 --:--:-- --:--:-- --:--:--     0\r100  2537  100  2537    0     0  93962      0 --:--:-- --:--:-- --:--:-- 93962\n",
            "OK\n",
            "deb https://packages.cloud.google.com/apt coral-edgetpu-stable main\n",
            "Hit:1 https://cloud.r-project.org/bin/linux/ubuntu bionic-cran40/ InRelease\n",
            "Hit:2 https://packages.cloud.google.com/apt coral-edgetpu-stable InRelease\n",
            "Ign:3 https://developer.download.nvidia.com/compute/cuda/repos/ubuntu1804/x86_64  InRelease\n",
            "Hit:4 http://ppa.launchpad.net/c2d4u.team/c2d4u4.0+/ubuntu bionic InRelease\n",
            "Get:5 http://security.ubuntu.com/ubuntu bionic-security InRelease [88.7 kB]\n",
            "Hit:6 http://archive.ubuntu.com/ubuntu bionic InRelease\n",
            "Ign:7 https://developer.download.nvidia.com/compute/machine-learning/repos/ubuntu1804/x86_64  InRelease\n",
            "Hit:8 https://developer.download.nvidia.com/compute/cuda/repos/ubuntu1804/x86_64  Release\n",
            "Hit:9 http://archive.ubuntu.com/ubuntu bionic-updates InRelease\n",
            "Hit:10 https://developer.download.nvidia.com/compute/machine-learning/repos/ubuntu1804/x86_64  Release\n",
            "Hit:11 http://ppa.launchpad.net/cran/libgit2/ubuntu bionic InRelease\n",
            "Hit:12 http://archive.ubuntu.com/ubuntu bionic-backports InRelease\n",
            "Hit:13 http://ppa.launchpad.net/deadsnakes/ppa/ubuntu bionic InRelease\n",
            "Hit:15 http://ppa.launchpad.net/graphics-drivers/ppa/ubuntu bionic InRelease\n",
            "Fetched 88.7 kB in 1s (67.0 kB/s)\n",
            "Reading package lists... Done\n",
            "Reading package lists... Done\n",
            "Building dependency tree       \n",
            "Reading state information... Done\n",
            "edgetpu-compiler is already the newest version (16.0).\n",
            "0 upgraded, 0 newly installed, 0 to remove and 69 not upgraded.\n"
          ]
        }
      ]
    },
    {
      "cell_type": "code",
      "source": [
        "# Compile model\n",
        "! edgetpu_compiler mobilenet_v2_sound_classification_qat.tflite"
      ],
      "metadata": {
        "colab": {
          "base_uri": "https://localhost:8080/"
        },
        "id": "BOFRomtbsEOU",
        "outputId": "64e33cfd-1a98-465b-aa99-685f5e3800fc"
      },
      "execution_count": null,
      "outputs": [
        {
          "output_type": "stream",
          "name": "stdout",
          "text": [
            "Edge TPU Compiler version 16.0.384591198\n",
            "Started a compilation timeout timer of 180 seconds.\n",
            "\n",
            "Model compiled successfully in 1259 ms.\n",
            "\n",
            "Input model: mobilenet_v2_sound_classification_qat.tflite\n",
            "Input size: 2.60MiB\n",
            "Output model: mobilenet_v2_sound_classification_qat_edgetpu.tflite\n",
            "Output size: 2.78MiB\n",
            "On-chip memory used for caching model parameters: 2.71MiB\n",
            "On-chip memory remaining for caching model parameters: 4.98MiB\n",
            "Off-chip memory used for streaming uncached model parameters: 0.00B\n",
            "Number of Edge TPU subgraphs: 1\n",
            "Total number of operations: 72\n",
            "Operation log: mobilenet_v2_sound_classification_qat_edgetpu.log\n",
            "See the operation log file for individual operation details.\n",
            "Compilation child process completed within timeout period.\n",
            "Compilation succeeded! \n"
          ]
        }
      ]
    },
    {
      "cell_type": "code",
      "source": [
        "! edgetpu_compiler -s mobilenet_v2_sound_classification_qat.tflite"
      ],
      "metadata": {
        "id": "swvtbAn-sL38",
        "colab": {
          "base_uri": "https://localhost:8080/"
        },
        "outputId": "5d93749e-e024-4216-841b-be00dbed0aa4"
      },
      "execution_count": null,
      "outputs": [
        {
          "output_type": "stream",
          "name": "stdout",
          "text": [
            "Edge TPU Compiler version 16.0.384591198\n",
            "Started a compilation timeout timer of 180 seconds.\n",
            "\n",
            "Model compiled successfully in 1193 ms.\n",
            "\n",
            "Input model: mobilenet_v2_sound_classification_qat.tflite\n",
            "Input size: 2.60MiB\n",
            "Output model: mobilenet_v2_sound_classification_qat_edgetpu.tflite\n",
            "Output size: 2.78MiB\n",
            "On-chip memory used for caching model parameters: 2.71MiB\n",
            "On-chip memory remaining for caching model parameters: 4.98MiB\n",
            "Off-chip memory used for streaming uncached model parameters: 0.00B\n",
            "Number of Edge TPU subgraphs: 1\n",
            "Total number of operations: 72\n",
            "Operation log: mobilenet_v2_sound_classification_qat_edgetpu.log\n",
            "\n",
            "Operator                       Count      Status\n",
            "\n",
            "DEPTHWISE_CONV_2D              17         Mapped to Edge TPU\n",
            "PAD                            4          Mapped to Edge TPU\n",
            "FULLY_CONNECTED                1          Mapped to Edge TPU\n",
            "ADD                            10         Mapped to Edge TPU\n",
            "MEAN                           1          Mapped to Edge TPU\n",
            "QUANTIZE                       2          Mapped to Edge TPU\n",
            "SOFTMAX                        1          Mapped to Edge TPU\n",
            "CONV_2D                        36         Mapped to Edge TPU\n",
            "Compilation child process completed within timeout period.\n",
            "Compilation succeeded! \n"
          ]
        }
      ]
    },
    {
      "cell_type": "markdown",
      "source": [
        "### Download model compiled for Edge TPU"
      ],
      "metadata": {
        "id": "_kH-7Tezy_C9"
      }
    },
    {
      "cell_type": "code",
      "source": [
        "files.download('mobilenet_v2_sound_classification_qat_edgetpu.tflite')"
      ],
      "metadata": {
        "id": "LYHd1J-I1Lij",
        "colab": {
          "base_uri": "https://localhost:8080/",
          "height": 17
        },
        "outputId": "a3bb994b-92ec-45dc-b7bc-6bdcab4c4e02"
      },
      "execution_count": null,
      "outputs": [
        {
          "output_type": "display_data",
          "data": {
            "application/javascript": [
              "\n",
              "    async function download(id, filename, size) {\n",
              "      if (!google.colab.kernel.accessAllowed) {\n",
              "        return;\n",
              "      }\n",
              "      const div = document.createElement('div');\n",
              "      const label = document.createElement('label');\n",
              "      label.textContent = `Downloading \"${filename}\": `;\n",
              "      div.appendChild(label);\n",
              "      const progress = document.createElement('progress');\n",
              "      progress.max = size;\n",
              "      div.appendChild(progress);\n",
              "      document.body.appendChild(div);\n",
              "\n",
              "      const buffers = [];\n",
              "      let downloaded = 0;\n",
              "\n",
              "      const channel = await google.colab.kernel.comms.open(id);\n",
              "      // Send a message to notify the kernel that we're ready.\n",
              "      channel.send({})\n",
              "\n",
              "      for await (const message of channel.messages) {\n",
              "        // Send a message to notify the kernel that we're ready.\n",
              "        channel.send({})\n",
              "        if (message.buffers) {\n",
              "          for (const buffer of message.buffers) {\n",
              "            buffers.push(buffer);\n",
              "            downloaded += buffer.byteLength;\n",
              "            progress.value = downloaded;\n",
              "          }\n",
              "        }\n",
              "      }\n",
              "      const blob = new Blob(buffers, {type: 'application/binary'});\n",
              "      const a = document.createElement('a');\n",
              "      a.href = window.URL.createObjectURL(blob);\n",
              "      a.download = filename;\n",
              "      div.appendChild(a);\n",
              "      a.click();\n",
              "      div.remove();\n",
              "    }\n",
              "  "
            ],
            "text/plain": [
              "<IPython.core.display.Javascript object>"
            ]
          },
          "metadata": {}
        },
        {
          "output_type": "display_data",
          "data": {
            "application/javascript": [
              "download(\"download_24f4824f-55e9-425a-8588-7fc80c5163c3\", \"mobilenet_v2_sound_classification_qat_edgetpu.tflite\", 2916960)"
            ],
            "text/plain": [
              "<IPython.core.display.Javascript object>"
            ]
          },
          "metadata": {}
        }
      ]
    },
    {
      "cell_type": "code",
      "source": [
        ""
      ],
      "metadata": {
        "id": "EJdhks6XJZEl"
      },
      "execution_count": null,
      "outputs": []
    }
  ]
}