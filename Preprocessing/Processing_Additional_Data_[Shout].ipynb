{
  "nbformat": 4,
  "nbformat_minor": 0,
  "metadata": {
    "colab": {
      "name": "Processing Additional Data [Shout].ipynb",
      "provenance": [],
      "authorship_tag": "ABX9TyNCBslZ3cP9DFfCVRIogS3r",
      "include_colab_link": true
    },
    "kernelspec": {
      "name": "python3",
      "display_name": "Python 3"
    },
    "language_info": {
      "name": "python"
    }
  },
  "cells": [
    {
      "cell_type": "markdown",
      "metadata": {
        "id": "view-in-github",
        "colab_type": "text"
      },
      "source": [
        "<a href=\"https://colab.research.google.com/github/xychong/edgeaimonitoring/blob/main/Preprocessing/Processing_Additional_Data_%5BShout%5D.ipynb\" target=\"_parent\"><img src=\"https://colab.research.google.com/assets/colab-badge.svg\" alt=\"Open In Colab\"/></a>"
      ]
    },
    {
      "cell_type": "code",
      "metadata": {
        "colab": {
          "base_uri": "https://localhost:8080/"
        },
        "id": "7U7gNQ178wpC",
        "outputId": "43551be7-99ec-4076-9ec1-ca47defeaabb"
      },
      "source": [
        "pip install pydub"
      ],
      "execution_count": null,
      "outputs": [
        {
          "output_type": "stream",
          "name": "stdout",
          "text": [
            "Collecting pydub\n",
            "  Downloading pydub-0.25.1-py2.py3-none-any.whl (32 kB)\n",
            "Installing collected packages: pydub\n",
            "Successfully installed pydub-0.25.1\n"
          ]
        }
      ]
    },
    {
      "cell_type": "code",
      "metadata": {
        "id": "79Q-SZWA9MeJ"
      },
      "source": [
        "import librosa, librosa.display\n",
        "import numpy as np\n",
        "import os\n",
        "import scipy.io.wavfile\n",
        "from pydub import AudioSegment\n",
        "from pydub.utils import make_chunks"
      ],
      "execution_count": null,
      "outputs": []
    },
    {
      "cell_type": "code",
      "metadata": {
        "colab": {
          "base_uri": "https://localhost:8080/"
        },
        "id": "jeer87kD9NaM",
        "outputId": "69adc8e5-f61b-4cf1-eabc-dffbfe54da49"
      },
      "source": [
        "from google.colab import drive\n",
        "drive.mount('/content/drive')"
      ],
      "execution_count": null,
      "outputs": [
        {
          "output_type": "stream",
          "name": "stdout",
          "text": [
            "Mounted at /content/drive\n"
          ]
        }
      ]
    },
    {
      "cell_type": "code",
      "metadata": {
        "id": "PwIq4FSz9Ouk"
      },
      "source": [
        "pathname = \"/content/drive/MyDrive/FYP Data/Additional Data/new shout (1)\""
      ],
      "execution_count": null,
      "outputs": []
    },
    {
      "cell_type": "code",
      "metadata": {
        "colab": {
          "base_uri": "https://localhost:8080/"
        },
        "id": "c2KjSLIf_rxA",
        "outputId": "e6f588f1-816a-4d44-c276-7e530c5e5063"
      },
      "source": [
        "# Display all filenames\n",
        "sum = 0\n",
        "for filename in os.listdir(pathname):\n",
        "  sum += 1\n",
        "  print(filename)"
      ],
      "execution_count": null,
      "outputs": [
        {
          "output_type": "stream",
          "name": "stdout",
          "text": [
            "wxRDEj4HrO8_bestaudio_wav_0_4_637698642306979378.wav\n",
            "7WcmJC0EV-c_bestaudio_wav_0_20_637698642901092930.wav\n",
            "deHi9XzC_Uw_bestaudio_wav_0_20_637698644316828958.wav\n",
            "PHM1YZWBIEY_bestaudio_wav_0_4_637698645403347390.wav\n",
            "ugBk9KwYVps_bestaudio_mp3_1_5_637698647277049972.mp3\n",
            "qQfjb99oCQE_bestaudio_wav_0_8_637698648343355073.wav\n",
            "JfHbJszhqK8_bestaudio_wav_3_15_637698649280820224.wav\n",
            "BFNp5sXb3Ww_bestaudio_wav_0.5_4.5_637698651082055807.wav\n",
            "cSo5VnZWRsI_bestaudio_wav_0_8_637698651841848378.wav\n",
            "GLS7LRNKdug_bestaudio_wav_8_12_637698652762658208.wav\n",
            "pOh_h2L95zw_bestaudio_wav_0_20_637698654292430551.wav\n",
            "nMEYXGHP1qk_bestaudio_wav_98.2_102.2_637698656216723462.wav\n",
            "nMEYXGHP1qk_bestaudio_wav_123.1_127.1_637698656735160936.wav\n",
            "aSOFQwnAjww_bestaudio_wav_4.1_12.2_637698658791810755.wav\n",
            "Okar4WUVtXQ_bestaudio_wav_0_12_637698659361600256.wav\n"
          ]
        }
      ]
    },
    {
      "cell_type": "code",
      "metadata": {
        "colab": {
          "base_uri": "https://localhost:8080/"
        },
        "id": "SEjy0vHb_ucX",
        "outputId": "0c2be762-b505-4426-8805-92d915486558"
      },
      "source": [
        "print(sum)"
      ],
      "execution_count": null,
      "outputs": [
        {
          "output_type": "stream",
          "name": "stdout",
          "text": [
            "15\n"
          ]
        }
      ]
    },
    {
      "cell_type": "code",
      "metadata": {
        "colab": {
          "base_uri": "https://localhost:8080/"
        },
        "id": "Xz3vIzVc_1Cv",
        "outputId": "fe483ca1-eba0-45bf-bb99-38c8bb178aae"
      },
      "source": [
        "# Splitting audio tracks >4s into chunks of 4s each\n",
        "# The final chunk may be <4s depending on total audio duration\n",
        "count = 0\n",
        "chunk_length = 4000\n",
        "for filename in os.listdir(pathname):\n",
        "  audio = AudioSegment.from_file(pathname + \"/\" + filename)\n",
        "  if audio.duration_seconds > 4: \n",
        "    chunks = make_chunks(audio, chunk_length)\n",
        "    for i, chunk in enumerate(chunks):\n",
        "      chunk_name = filename + \"_chunk\" + str(i)\n",
        "      count += 1\n",
        "      print(chunk_name)\n",
        "      chunk.export(pathname + \"/\" + chunk_name, format = \"wav\")"
      ],
      "execution_count": null,
      "outputs": [
        {
          "output_type": "stream",
          "name": "stdout",
          "text": [
            "7WcmJC0EV-c_bestaudio_wav_0_20_637698642901092930.wav_chunk0\n",
            "7WcmJC0EV-c_bestaudio_wav_0_20_637698642901092930.wav_chunk1\n",
            "7WcmJC0EV-c_bestaudio_wav_0_20_637698642901092930.wav_chunk2\n",
            "7WcmJC0EV-c_bestaudio_wav_0_20_637698642901092930.wav_chunk3\n",
            "7WcmJC0EV-c_bestaudio_wav_0_20_637698642901092930.wav_chunk4\n",
            "deHi9XzC_Uw_bestaudio_wav_0_20_637698644316828958.wav_chunk0\n",
            "deHi9XzC_Uw_bestaudio_wav_0_20_637698644316828958.wav_chunk1\n",
            "deHi9XzC_Uw_bestaudio_wav_0_20_637698644316828958.wav_chunk2\n",
            "deHi9XzC_Uw_bestaudio_wav_0_20_637698644316828958.wav_chunk3\n",
            "deHi9XzC_Uw_bestaudio_wav_0_20_637698644316828958.wav_chunk4\n",
            "qQfjb99oCQE_bestaudio_wav_0_8_637698648343355073.wav_chunk0\n",
            "qQfjb99oCQE_bestaudio_wav_0_8_637698648343355073.wav_chunk1\n",
            "JfHbJszhqK8_bestaudio_wav_3_15_637698649280820224.wav_chunk0\n",
            "JfHbJszhqK8_bestaudio_wav_3_15_637698649280820224.wav_chunk1\n",
            "JfHbJszhqK8_bestaudio_wav_3_15_637698649280820224.wav_chunk2\n",
            "cSo5VnZWRsI_bestaudio_wav_0_8_637698651841848378.wav_chunk0\n",
            "cSo5VnZWRsI_bestaudio_wav_0_8_637698651841848378.wav_chunk1\n",
            "pOh_h2L95zw_bestaudio_wav_0_20_637698654292430551.wav_chunk0\n",
            "pOh_h2L95zw_bestaudio_wav_0_20_637698654292430551.wav_chunk1\n",
            "pOh_h2L95zw_bestaudio_wav_0_20_637698654292430551.wav_chunk2\n",
            "pOh_h2L95zw_bestaudio_wav_0_20_637698654292430551.wav_chunk3\n",
            "pOh_h2L95zw_bestaudio_wav_0_20_637698654292430551.wav_chunk4\n",
            "aSOFQwnAjww_bestaudio_wav_4.1_12.2_637698658791810755.wav_chunk0\n",
            "aSOFQwnAjww_bestaudio_wav_4.1_12.2_637698658791810755.wav_chunk1\n",
            "aSOFQwnAjww_bestaudio_wav_4.1_12.2_637698658791810755.wav_chunk2\n",
            "Okar4WUVtXQ_bestaudio_wav_0_12_637698659361600256.wav_chunk0\n",
            "Okar4WUVtXQ_bestaudio_wav_0_12_637698659361600256.wav_chunk1\n",
            "Okar4WUVtXQ_bestaudio_wav_0_12_637698659361600256.wav_chunk2\n"
          ]
        }
      ]
    },
    {
      "cell_type": "code",
      "metadata": {
        "id": "cPOB97Jv_2XN"
      },
      "source": [
        "# remove files >4s since we have already splitted them into chunks of 4s each\n",
        "# remove audio files <1s as we dont want to pad each audio file with too much silences\n",
        "total_duration = 0\n",
        "for filename in os.listdir(pathname):\n",
        "  audio = AudioSegment.from_file(pathname + \"/\" + filename)\n",
        "  if audio.duration_seconds > 4 or audio.duration_seconds < 1: \n",
        "    os.remove(pathname + \"/\" + filename)"
      ],
      "execution_count": null,
      "outputs": []
    },
    {
      "cell_type": "code",
      "metadata": {
        "colab": {
          "base_uri": "https://localhost:8080/"
        },
        "id": "xawEwwKb_76p",
        "outputId": "2eb25dfc-34c3-4182-a16f-8bbb637e3445"
      },
      "source": [
        "# Check duration of each audio track\n",
        "filecount = 0\n",
        "for filename in os.listdir(pathname):\n",
        "  audio = AudioSegment.from_file(pathname + \"/\" + filename)\n",
        "  filecount += 1\n",
        "  print(filename)\n",
        "  print(audio.duration_seconds)"
      ],
      "execution_count": null,
      "outputs": [
        {
          "output_type": "stream",
          "name": "stdout",
          "text": [
            "wxRDEj4HrO8_bestaudio_wav_0_4_637698642306979378.wav\n",
            "3.9935\n",
            "PHM1YZWBIEY_bestaudio_wav_0_4_637698645403347390.wav\n",
            "3.9822291666666665\n",
            "ugBk9KwYVps_bestaudio_mp3_1_5_637698647277049972.mp3\n",
            "3.9935\n",
            "BFNp5sXb3Ww_bestaudio_wav_0.5_4.5_637698651082055807.wav\n",
            "3.9935\n",
            "GLS7LRNKdug_bestaudio_wav_8_12_637698652762658208.wav\n",
            "3.9935\n",
            "nMEYXGHP1qk_bestaudio_wav_98.2_102.2_637698656216723462.wav\n",
            "3.9935\n",
            "nMEYXGHP1qk_bestaudio_wav_123.1_127.1_637698656735160936.wav\n",
            "3.9935\n",
            "7WcmJC0EV-c_bestaudio_wav_0_20_637698642901092930.wav_chunk0\n",
            "4.0\n",
            "7WcmJC0EV-c_bestaudio_wav_0_20_637698642901092930.wav_chunk1\n",
            "4.0\n",
            "7WcmJC0EV-c_bestaudio_wav_0_20_637698642901092930.wav_chunk2\n",
            "4.0\n",
            "7WcmJC0EV-c_bestaudio_wav_0_20_637698642901092930.wav_chunk3\n",
            "4.0\n",
            "7WcmJC0EV-c_bestaudio_wav_0_20_637698642901092930.wav_chunk4\n",
            "3.994\n",
            "deHi9XzC_Uw_bestaudio_wav_0_20_637698644316828958.wav_chunk0\n",
            "4.0\n",
            "deHi9XzC_Uw_bestaudio_wav_0_20_637698644316828958.wav_chunk1\n",
            "4.0\n",
            "deHi9XzC_Uw_bestaudio_wav_0_20_637698644316828958.wav_chunk2\n",
            "4.0\n",
            "deHi9XzC_Uw_bestaudio_wav_0_20_637698644316828958.wav_chunk3\n",
            "4.0\n",
            "deHi9XzC_Uw_bestaudio_wav_0_20_637698644316828958.wav_chunk4\n",
            "3.994\n",
            "qQfjb99oCQE_bestaudio_wav_0_8_637698648343355073.wav_chunk0\n",
            "4.0\n",
            "qQfjb99oCQE_bestaudio_wav_0_8_637698648343355073.wav_chunk1\n",
            "3.994\n",
            "JfHbJszhqK8_bestaudio_wav_3_15_637698649280820224.wav_chunk0\n",
            "4.0\n",
            "JfHbJszhqK8_bestaudio_wav_3_15_637698649280820224.wav_chunk1\n",
            "4.0\n",
            "JfHbJszhqK8_bestaudio_wav_3_15_637698649280820224.wav_chunk2\n",
            "3.994\n",
            "cSo5VnZWRsI_bestaudio_wav_0_8_637698651841848378.wav_chunk0\n",
            "4.0\n",
            "cSo5VnZWRsI_bestaudio_wav_0_8_637698651841848378.wav_chunk1\n",
            "3.994\n",
            "pOh_h2L95zw_bestaudio_wav_0_20_637698654292430551.wav_chunk0\n",
            "4.0\n",
            "pOh_h2L95zw_bestaudio_wav_0_20_637698654292430551.wav_chunk1\n",
            "4.0\n",
            "pOh_h2L95zw_bestaudio_wav_0_20_637698654292430551.wav_chunk2\n",
            "4.0\n",
            "pOh_h2L95zw_bestaudio_wav_0_20_637698654292430551.wav_chunk3\n",
            "4.0\n",
            "pOh_h2L95zw_bestaudio_wav_0_20_637698654292430551.wav_chunk4\n",
            "3.994\n",
            "aSOFQwnAjww_bestaudio_wav_4.1_12.2_637698658791810755.wav_chunk0\n",
            "4.0\n",
            "aSOFQwnAjww_bestaudio_wav_4.1_12.2_637698658791810755.wav_chunk1\n",
            "4.0\n",
            "Okar4WUVtXQ_bestaudio_wav_0_12_637698659361600256.wav_chunk0\n",
            "4.0\n",
            "Okar4WUVtXQ_bestaudio_wav_0_12_637698659361600256.wav_chunk1\n",
            "4.0\n",
            "Okar4WUVtXQ_bestaudio_wav_0_12_637698659361600256.wav_chunk2\n",
            "3.994\n"
          ]
        }
      ]
    },
    {
      "cell_type": "code",
      "metadata": {
        "colab": {
          "base_uri": "https://localhost:8080/"
        },
        "id": "c8vF-2HEAVcX",
        "outputId": "d38bbace-6646-49d3-bcb6-91c4a49db356"
      },
      "source": [
        "# Check total number of files\n",
        "print (filecount)"
      ],
      "execution_count": null,
      "outputs": [
        {
          "output_type": "stream",
          "name": "stdout",
          "text": [
            "34\n"
          ]
        }
      ]
    },
    {
      "cell_type": "code",
      "metadata": {
        "colab": {
          "base_uri": "https://localhost:8080/"
        },
        "id": "nbQKn2XJAa3U",
        "outputId": "3eb86760-44b2-4dd1-8aec-077f048051a3"
      },
      "source": [
        "# Change speed of audio < 4s\n",
        "# Stretched the audio so that we get a 4s segment\n",
        "for filename in os.listdir(pathname):\n",
        "  audiopath = pathname + \"/\" + filename\n",
        "  audio, sr = librosa.load(audiopath)\n",
        "  if librosa.get_duration(audio) !=4:\n",
        "    rate = librosa.get_duration(audio)/4.0\n",
        "    stretched_audio = librosa.effects.time_stretch(audio,rate)\n",
        "    print(filename)\n",
        "    print(librosa.get_duration(stretched_audio))"
      ],
      "execution_count": null,
      "outputs": [
        {
          "output_type": "stream",
          "name": "stdout",
          "text": [
            "wxRDEj4HrO8_bestaudio_wav_0_4_637698642306979378.wav\n",
            "4.0\n",
            "PHM1YZWBIEY_bestaudio_wav_0_4_637698645403347390.wav\n",
            "4.0\n"
          ]
        },
        {
          "output_type": "stream",
          "name": "stderr",
          "text": [
            "/usr/local/lib/python3.7/dist-packages/librosa/core/audio.py:165: UserWarning: PySoundFile failed. Trying audioread instead.\n",
            "  warnings.warn(\"PySoundFile failed. Trying audioread instead.\")\n"
          ]
        },
        {
          "output_type": "stream",
          "name": "stdout",
          "text": [
            "ugBk9KwYVps_bestaudio_mp3_1_5_637698647277049972.mp3\n",
            "4.0\n",
            "BFNp5sXb3Ww_bestaudio_wav_0.5_4.5_637698651082055807.wav\n",
            "4.0\n",
            "GLS7LRNKdug_bestaudio_wav_8_12_637698652762658208.wav\n",
            "4.0\n",
            "nMEYXGHP1qk_bestaudio_wav_98.2_102.2_637698656216723462.wav\n",
            "4.0\n",
            "nMEYXGHP1qk_bestaudio_wav_123.1_127.1_637698656735160936.wav\n",
            "4.0\n",
            "7WcmJC0EV-c_bestaudio_wav_0_20_637698642901092930.wav_chunk4\n",
            "4.0\n",
            "deHi9XzC_Uw_bestaudio_wav_0_20_637698644316828958.wav_chunk4\n",
            "4.0\n",
            "qQfjb99oCQE_bestaudio_wav_0_8_637698648343355073.wav_chunk1\n",
            "4.0\n",
            "JfHbJszhqK8_bestaudio_wav_3_15_637698649280820224.wav_chunk2\n",
            "4.0\n",
            "cSo5VnZWRsI_bestaudio_wav_0_8_637698651841848378.wav_chunk1\n",
            "4.0\n",
            "pOh_h2L95zw_bestaudio_wav_0_20_637698654292430551.wav_chunk4\n",
            "4.0\n",
            "Okar4WUVtXQ_bestaudio_wav_0_12_637698659361600256.wav_chunk2\n",
            "4.0\n"
          ]
        }
      ]
    },
    {
      "cell_type": "code",
      "metadata": {
        "id": "OQFe6lXhAzxa",
        "colab": {
          "base_uri": "https://localhost:8080/"
        },
        "outputId": "997b4103-1176-41c3-aa21-9785dd3dacd0"
      },
      "source": [
        "# Change speed of audio < 4s\n",
        "# Stretched the audio so that we get a 4s segment\n",
        "for filename in os.listdir(pathname):\n",
        "  audiopath = pathname + \"/\" + filename\n",
        "  audio, sr = librosa.load(audiopath)\n",
        "  if librosa.get_duration(audio) !=4:\n",
        "    rate = librosa.get_duration(audio)/4.0\n",
        "    stretched_audio = librosa.effects.time_stretch(audio,rate)\n",
        "    os.remove(pathname + \"/\" + filename)\n",
        "    scipy.io.wavfile.write(pathname + \"/\" + filename, sr, stretched_audio)"
      ],
      "execution_count": null,
      "outputs": [
        {
          "output_type": "stream",
          "name": "stderr",
          "text": [
            "/usr/local/lib/python3.7/dist-packages/librosa/core/audio.py:165: UserWarning: PySoundFile failed. Trying audioread instead.\n",
            "  warnings.warn(\"PySoundFile failed. Trying audioread instead.\")\n"
          ]
        }
      ]
    },
    {
      "cell_type": "code",
      "metadata": {
        "colab": {
          "base_uri": "https://localhost:8080/"
        },
        "id": "2Z1G5IQwAee3",
        "outputId": "891946d5-3d51-4ad8-fb09-16ef4421e87c"
      },
      "source": [
        "count = 0\n",
        "for filename in os.listdir(pathname):\n",
        "  audiopath = pathname + \"/\" + filename\n",
        "  count += 1\n",
        "  audio, sr = librosa.load(audiopath)\n",
        "  print(filename)\n",
        "  print(librosa.get_duration(audio))\n",
        "\n",
        "print(count)"
      ],
      "execution_count": null,
      "outputs": [
        {
          "output_type": "stream",
          "name": "stdout",
          "text": [
            "wxRDEj4HrO8_bestaudio_wav_0_4_637698642306979378.wav\n",
            "4.0\n",
            "PHM1YZWBIEY_bestaudio_wav_0_4_637698645403347390.wav\n",
            "4.0\n",
            "ugBk9KwYVps_bestaudio_mp3_1_5_637698647277049972.mp3\n",
            "4.0\n",
            "BFNp5sXb3Ww_bestaudio_wav_0.5_4.5_637698651082055807.wav\n",
            "4.0\n",
            "GLS7LRNKdug_bestaudio_wav_8_12_637698652762658208.wav\n",
            "4.0\n",
            "nMEYXGHP1qk_bestaudio_wav_98.2_102.2_637698656216723462.wav\n",
            "4.0\n",
            "nMEYXGHP1qk_bestaudio_wav_123.1_127.1_637698656735160936.wav\n",
            "4.0\n",
            "7WcmJC0EV-c_bestaudio_wav_0_20_637698642901092930.wav_chunk0\n",
            "4.0\n",
            "7WcmJC0EV-c_bestaudio_wav_0_20_637698642901092930.wav_chunk1\n",
            "4.0\n",
            "7WcmJC0EV-c_bestaudio_wav_0_20_637698642901092930.wav_chunk2\n",
            "4.0\n",
            "7WcmJC0EV-c_bestaudio_wav_0_20_637698642901092930.wav_chunk3\n",
            "4.0\n",
            "7WcmJC0EV-c_bestaudio_wav_0_20_637698642901092930.wav_chunk4\n",
            "4.0\n",
            "deHi9XzC_Uw_bestaudio_wav_0_20_637698644316828958.wav_chunk0\n",
            "4.0\n",
            "deHi9XzC_Uw_bestaudio_wav_0_20_637698644316828958.wav_chunk1\n",
            "4.0\n",
            "deHi9XzC_Uw_bestaudio_wav_0_20_637698644316828958.wav_chunk2\n",
            "4.0\n",
            "deHi9XzC_Uw_bestaudio_wav_0_20_637698644316828958.wav_chunk3\n",
            "4.0\n",
            "deHi9XzC_Uw_bestaudio_wav_0_20_637698644316828958.wav_chunk4\n",
            "4.0\n",
            "qQfjb99oCQE_bestaudio_wav_0_8_637698648343355073.wav_chunk0\n",
            "4.0\n",
            "qQfjb99oCQE_bestaudio_wav_0_8_637698648343355073.wav_chunk1\n",
            "4.0\n",
            "JfHbJszhqK8_bestaudio_wav_3_15_637698649280820224.wav_chunk0\n",
            "4.0\n",
            "JfHbJszhqK8_bestaudio_wav_3_15_637698649280820224.wav_chunk1\n",
            "4.0\n",
            "JfHbJszhqK8_bestaudio_wav_3_15_637698649280820224.wav_chunk2\n",
            "4.0\n",
            "cSo5VnZWRsI_bestaudio_wav_0_8_637698651841848378.wav_chunk0\n",
            "4.0\n",
            "cSo5VnZWRsI_bestaudio_wav_0_8_637698651841848378.wav_chunk1\n",
            "4.0\n",
            "pOh_h2L95zw_bestaudio_wav_0_20_637698654292430551.wav_chunk0\n",
            "4.0\n",
            "pOh_h2L95zw_bestaudio_wav_0_20_637698654292430551.wav_chunk1\n",
            "4.0\n",
            "pOh_h2L95zw_bestaudio_wav_0_20_637698654292430551.wav_chunk2\n",
            "4.0\n",
            "pOh_h2L95zw_bestaudio_wav_0_20_637698654292430551.wav_chunk3\n",
            "4.0\n",
            "pOh_h2L95zw_bestaudio_wav_0_20_637698654292430551.wav_chunk4\n",
            "4.0\n",
            "aSOFQwnAjww_bestaudio_wav_4.1_12.2_637698658791810755.wav_chunk0\n",
            "4.0\n",
            "aSOFQwnAjww_bestaudio_wav_4.1_12.2_637698658791810755.wav_chunk1\n",
            "4.0\n",
            "Okar4WUVtXQ_bestaudio_wav_0_12_637698659361600256.wav_chunk0\n",
            "4.0\n",
            "Okar4WUVtXQ_bestaudio_wav_0_12_637698659361600256.wav_chunk1\n",
            "4.0\n",
            "Okar4WUVtXQ_bestaudio_wav_0_12_637698659361600256.wav_chunk2\n",
            "4.0\n",
            "34\n"
          ]
        }
      ]
    },
    {
      "cell_type": "code",
      "metadata": {
        "id": "bJvJpCbPAxQr"
      },
      "source": [
        "newpath = \"/content/drive/MyDrive/FYP Data/Additional Data/new shout (pitch change)\""
      ],
      "execution_count": null,
      "outputs": []
    },
    {
      "cell_type": "code",
      "metadata": {
        "id": "tcvS2hTYBDBi"
      },
      "source": [
        "count = 0\n",
        "for filename in os.listdir(pathname):\n",
        "    audiopath = pathname + \"/\" + filename\n",
        "    audio_data, sr = librosa.load(audiopath, 44100)\n",
        "    count += 1\n",
        "\n",
        "    if (count%2 == 0):\n",
        "      # Shift the pitch up for half the files\n",
        "      audio_change_pitch = librosa.effects.pitch_shift(audio_data, sr, n_steps = 10)\n",
        "    else:\n",
        "      # Shift the pitch down for other half the files\n",
        "      audio_change_pitch = librosa.effects.pitch_shift(audio_data, sr, n_steps = -10)\n",
        "\n",
        "    scipy.io.wavfile.write(newpath + \"/\" + filename, sr, audio_change_pitch)"
      ],
      "execution_count": null,
      "outputs": []
    },
    {
      "cell_type": "code",
      "metadata": {
        "colab": {
          "base_uri": "https://localhost:8080/"
        },
        "id": "VPGW7iPHBIIo",
        "outputId": "9659f54b-e995-48af-a7f3-0f414b840a54"
      },
      "source": [
        "count = 0\n",
        "for filename in os.listdir(newpath):\n",
        "  audiopath = newpath + \"/\" + filename\n",
        "  count += 1\n",
        "  audio, sr = librosa.load(audiopath)\n",
        "  print(filename)\n",
        "  print(librosa.get_duration(audio))\n",
        "\n",
        "print(count)"
      ],
      "execution_count": null,
      "outputs": [
        {
          "output_type": "stream",
          "name": "stdout",
          "text": [
            "637692792702133280_-CbMvN47er0_bestaudio_wav_43_47.wav\n",
            "4.0\n",
            "637693533629018316_2W27eT4HqtE_bestaudio_wav_4_8.wav\n",
            "4.0\n",
            "637693534578724833_45vBbOhzS6g_bestaudio_wav_50.2_54.2.wav\n",
            "4.0\n",
            "637693535752951542_BFqHyCoypfM_bestaudio_wav_14.5_18.5.wav\n",
            "4.0\n",
            "637693536807292921_ElJFYwRtrH4_bestaudio_wav_30_34.wav\n",
            "4.0\n",
            "637693537613590247_G--718JDmAQ_bestaudio_wav_1_5.wav\n",
            "4.0\n",
            "637693539889378665_QDW_uCMnMMU_bestaudio_wav_1_3.wav\n",
            "4.0\n",
            "637693541293338908_TP_CVBCc4-U_bestaudio_wav_93_97.wav\n",
            "4.0\n",
            "637693543457393960_dfsvT5xImNg_bestaudio_wav_85_89.wav\n",
            "4.0\n",
            "637693545606701929_CeIiAEQTbhY_bestaudio_wav_0_4.wav\n",
            "4.0\n",
            "637693546468328797_D6thZbNv148_bestaudio_wav_13_17.wav\n",
            "4.0\n",
            "637693547595383324_Ht_IiMEbMJk_bestaudio_wav_72_76.wav\n",
            "4.0\n",
            "637693550608214606_VxuMKb5CKI0_bestaudio_wav_35_39.wav\n",
            "4.0\n",
            "637693550938574504_VxuMKb5CKI0_bestaudio_wav_30_34.wav\n",
            "4.0\n",
            "637693553166479144_dhKZgvg9b14_bestaudio_wav_50_54.wav\n",
            "4.0\n",
            "637693562250364165_l3DJ2MJ5CzY_bestaudio_wav_20_24.wav\n",
            "4.0\n",
            "637693562960083974_myWiV_HMXtc_bestaudio_wav_8_12.wav\n",
            "4.0\n",
            "637693563335981982_myWiV_HMXtc_bestaudio_wav_4_8.wav\n",
            "4.0\n",
            "637693563741789524_myWiV_HMXtc_bestaudio_wav_14_18.wav\n",
            "4.0\n",
            "637693571935045107_2LzHPXXJKHg_bestaudio_wav_5_7.wav\n",
            "4.0\n",
            "637693573990435434_2WwYJFQiV6U_bestaudio_wav_30.1_34.1.wav\n",
            "4.0\n",
            "637693575201043627_2mrA762O4f4_bestaudio_wav_4_8.wav\n",
            "4.0\n",
            "637693576320889791_2sSDVIV7kdA_bestaudio_wav_214_217.1.wav\n",
            "4.0\n",
            "637693578946861806_2u9tk_L7ZZU_bestaudio_wav_216.5_220.2.wav\n",
            "4.0\n",
            "637693579629421875_3GKXi74m3RY_bestaudio_wav_5_7.wav\n",
            "4.0\n",
            "637693580232330367_3PGk_NqInRs_bestaudio_wav_0_4.wav\n",
            "4.0\n",
            "637693581535726139_3Ua-Y63E7fw_bestaudio_wav_31_34.wav\n",
            "4.0\n",
            "637693584194446068_4oNM9Ze60DI_bestaudio_wav_85_89.wav\n",
            "4.0\n",
            "637693585590708094_4xf8wsy94EU_bestaudio_wav_8_10.5.wav\n",
            "4.0\n",
            "637693587918457248_4yZFGlLSP0Q_bestaudio_wav_24.5_28.5.wav\n",
            "4.0\n",
            "637693591519666423_5bqVGgtJHBE_bestaudio_wav_317.8_321.1.wav\n",
            "4.0\n",
            "637693676952015919_6vuvHFVTuuc_bestaudio_wav_112_114.1.wav\n",
            "4.0\n",
            "637693677493768144_6ztL-ySuHCk_bestaudio_wav_4_6.wav\n",
            "4.0\n",
            "637693685576881162_7ghFQZ6tFS0_bestaudio_wav_38_40.wav\n",
            "4.0\n",
            "637693689271673897_7mcrZwM1t_Q_bestaudio_wav_130_134.wav\n",
            "4.0\n",
            "637693699616629227_9l9TdwUim2E_bestaudio_wav_11_15.wav\n",
            "4.0\n",
            "637693700379386130_9l9TdwUim2E_bestaudio_wav_15_19.wav\n",
            "4.0\n",
            "637693703100125807_APgozwP_RAw_bestaudio_wav_31.5_35.5.wav\n",
            "4.0\n",
            "637693705879553116_FrMqnic0t7E_bestaudio_wav_0_4.wav\n",
            "4.0\n",
            "637693708580216839_GFjKyqup1no_bestaudio_wav_40_44.wav\n",
            "4.0\n",
            "637693709770053769_G_-3oPXHjLI_bestaudio_wav_71_75.wav\n",
            "4.0\n",
            "637693711492105104_LmDCHT1SqGE_bestaudio_wav_31_35.wav\n",
            "4.0\n",
            "637693711753001572_LmDCHT1SqGE_bestaudio_wav_0_4.wav\n",
            "4.0\n",
            "637693712159914931_LmDCHT1SqGE_bestaudio_wav_4_8.wav\n",
            "4.0\n",
            "637693713293621334_LmDCHT1SqGE_bestaudio_wav_8_12.wav\n",
            "4.0\n",
            "637693713640701280_LmDCHT1SqGE_bestaudio_wav_20_24.wav\n",
            "4.0\n",
            "637693714055025340_LmDCHT1SqGE_bestaudio_wav_28_32.wav\n",
            "4.0\n",
            "637693718504920918_N2ttrM3FlcQ_bestaudio_wav_0_3.wav\n",
            "4.0\n",
            "637693719580196554_NKMb5_sAkxc_bestaudio_wav_50_54.wav\n",
            "4.0\n",
            "637693790209177531_NKMb5_sAkxc_bestaudio_wav_54_58.wav\n",
            "4.0\n",
            "637693791435898527_NN7NhUjXm9A_bestaudio_wav_9_13.wav\n",
            "4.0\n",
            "637693792291994285_NN7NhUjXm9A_bestaudio_wav_6_10.wav\n",
            "4.0\n",
            "637693794416622677_NNlDoABVSQQ_bestaudio_wav_50_54.wav\n",
            "4.0\n",
            "637693799146731294_NXzU_2lYyLE_bestaudio_wav_20_24.wav\n",
            "4.0\n",
            "637693799789435310_NXzU_2lYyLE_bestaudio_wav_24_28.wav\n",
            "4.0\n",
            "637693802233878283_Oc_oaRihbAY_bestaudio_wav_36.1_40.1.wav\n",
            "4.0\n",
            "637693802681146585_Oc_oaRihbAY_bestaudio_wav_40.1_44.1.wav\n",
            "4.0\n",
            "637693804591774053_Oc_oaRihbAY_bestaudio_wav_96_100.wav\n",
            "4.0\n",
            "637693807244300387_Oc_oaRihbAY_bestaudio_wav_105_109.wav\n",
            "4.0\n",
            "637693809012502900_Oc_oaRihbAY_bestaudio_wav_117_121.wav\n",
            "4.0\n",
            "637693810286574422_Oc_oaRihbAY_bestaudio_wav_140.4_144.4.wav\n",
            "4.0\n",
            "TF0GOg463JA_bestaudio_wav_1_5_637697777225811341.wav\n",
            "4.0\n",
            "TF0GOg463JA_bestaudio_wav_5_9_637697777660795009.wav\n",
            "4.0\n",
            "TF0GOg463JA_bestaudio_wav_9_13_637697778328387758.wav\n",
            "4.0\n",
            "TO_AMuDDLmk_bestaudio_wav_32_36_637697779360113194.wav\n",
            "4.0\n",
            "TPPU874f3Ps_bestaudio_wav_0_4_637697780220460201.wav\n",
            "4.0\n",
            "XFt8Mi6FGRA_bestaudio_wav_4_8_637697781384695106.wav\n",
            "4.0\n",
            "XV6TJSY6bYM_bestaudio_wav_0_4_637697782251540895.wav\n",
            "4.0\n",
            "XV6TJSY6bYM_bestaudio_wav_5_9_637697782844516770.wav\n",
            "4.0\n",
            "XV6TJSY6bYM_bestaudio_wav_13_17_637697784078132413.wav\n",
            "4.0\n",
            "XV6TJSY6bYM_bestaudio_wav_18_22_637697785033517306.wav\n",
            "4.0\n",
            "XV6TJSY6bYM_bestaudio_wav_32_36_637697785686404169.wav\n",
            "4.0\n",
            "b6LdFZM8PXI_bestaudio_wav_1_5_637697789528102252.wav\n",
            "4.0\n",
            "ihDy9IwP3Mo_bestaudio_wav_4_8_637697793401663850.wav\n",
            "4.0\n",
            "ihDy9IwP3Mo_bestaudio_wav_8_12_637697793841830327.wav\n",
            "4.0\n",
            "ihDy9IwP3Mo_bestaudio_wav_12_16_637697794744413194.wav\n",
            "4.0\n",
            "qRAdhj9Lzt8_bestaudio_wav_0_4_637697797125235424.wav\n",
            "4.0\n",
            "qRAdhj9Lzt8_bestaudio_wav_5_9_637697797494361787.wav\n",
            "4.0\n",
            "sCFHNV7HqnI_bestaudio_wav_0_4_637697798334868171.wav\n",
            "4.0\n",
            "ihDy9IwP3Mo_bestaudio_mp3_1_5_637697792419182441.wav\n",
            "4.0\n",
            "RKe1QIJ5SxU_bestaudio_wav_0_4_637697804146559121.wav\n",
            "4.0\n",
            "pMNs3BtS90I_bestaudio_wav_0_4_637697809920148088.wav\n",
            "4.0\n",
            "human_crowd_agry_shouting_approx_20_people (mp3cut.net).wav\n",
            "4.0\n",
            "human_crowd_agry_shouting_approx_20_people (mp3cut.net) (1).wav\n",
            "4.0\n",
            "human_crowd_agry_shouting_approx_20_people (mp3cut.net) (2).wav\n",
            "4.0\n",
            "human_crowd_agry_shouting_approx_20_people (mp3cut.net) (3).wav\n",
            "4.0\n",
            "human_crowd_25_people_cheer_shout_yay (mp3cut.net).wav\n",
            "4.0\n",
            "Female-Screaming-A2-www.fesliyanstudios.com (mp3cut.net).wav\n",
            "4.0\n",
            "Funny-Scream-B1-www.fesliyanstudios.com (mp3cut.net).wav\n",
            "4.0\n",
            "Little-Girl-Screaming-A1-www.fesliyanstudios.com (mp3cut.net).wav\n",
            "4.0\n",
            "Little-Girl-Screaming-A2-www.fesliyanstudios.com (mp3cut.net).wav\n",
            "4.0\n",
            "Scream-Long-C1-www.fesliyanstudios.com (mp3cut.net).wav\n",
            "4.0\n",
            "Scream-Medium-A1-www.fesliyanstudios.com (mp3cut.net).wav\n",
            "4.0\n",
            "637693796728318535_NP7SfpcsVhE_bestaudio_mp3_15_19.wav\n",
            "4.0\n",
            "soundsnap_shout_0406.wav_chunk0\n",
            "4.0\n",
            "soundsnap_shout_0406.wav_chunk1\n",
            "4.0\n",
            "soundsnap_shout_0406.wav_chunk2\n",
            "4.0\n",
            "soundsnap_shout_0406.wav_chunk3\n",
            "4.0\n",
            "soundsnap_shout_0406.wav_chunk4\n",
            "4.0\n",
            "soundsnap_shout_0406.wav_chunk5\n",
            "4.0\n",
            "637692793777044794_-Xw4iIWAOkA_bestaudio_wav_0_4.2.wav_chunk0\n",
            "4.0\n",
            "637692796700458150_CxeBGtuUkfg_bestaudio_wav_25.9_30.3.wav_chunk0\n",
            "4.0\n",
            "637693549324190292_QT02wb27wCA_bestaudio_wav_98_102.1.wav_chunk0\n",
            "4.0\n",
            "637693554031947235_dixaI-tKNew_bestaudio_wav_120_124.1.wav_chunk0\n",
            "4.0\n",
            "637693560139787875_h86zLS_6M9Y_bestaudio_wav_239.7_243.8.wav_chunk0\n",
            "4.0\n",
            "637693561084525348_h86zLS_6M9Y_bestaudio_wav_243.6_247.7.wav_chunk0\n",
            "4.0\n",
            "637693570460759470_2IRTIUYmEGw_bestaudio_wav_230.1_234.2.wav_chunk0\n",
            "4.0\n",
            "637693572934323698_2MPj4OvD3JI_bestaudio_wav_301.8_306.1.wav_chunk0\n",
            "4.0\n",
            "637693589852535684_5TWL_hGlwyg_bestaudio_wav_109.8_113.9.wav_chunk0\n",
            "4.0\n",
            "637693679882955749_75EwmfHLijI_bestaudio_wav_18.1_22.2.wav_chunk0\n",
            "4.0\n",
            "637693680991590200_7Gtx7ooeows_bestaudio_wav_20.1_24.3.wav_chunk0\n",
            "4.0\n",
            "637693681305452026_7Gtx7ooeows_bestaudio_wav_0_4.1.wav_chunk0\n",
            "4.0\n",
            "637693681727131165_7Gtx7ooeows_bestaudio_wav_5.2_9.4.wav_chunk0\n",
            "4.0\n",
            "637693694942225444_8jN5OJJLfZ4_bestaudio_wav_231_235.2.wav_chunk0\n",
            "4.0\n",
            "637693801410173468_Oc_oaRihbAY_bestaudio_wav_27.9_32.wav_chunk0\n",
            "4.0\n",
            "637693801852563396_Oc_oaRihbAY_bestaudio_wav_32_36.1.wav_chunk0\n",
            "4.0\n",
            "637693803155735336_Oc_oaRihbAY_bestaudio_wav_43.8_48.wav_chunk0\n",
            "4.0\n",
            "637693803708898602_Oc_oaRihbAY_bestaudio_wav_90_94.1.wav_chunk0\n",
            "4.0\n",
            "637693809503492796_Oc_oaRihbAY_bestaudio_wav_125.9_130.wav_chunk0\n",
            "4.0\n",
            "TF0GOg463JA_bestaudio_wav_15_19_637697776851418918.wav_chunk0\n",
            "4.0\n",
            "z-5IsUqbE_U_bestaudio_wav_0_4_637697800891801951.wav_chunk0\n",
            "4.0\n",
            "3U1lkc7fVTk_bestaudio_wav_31.1_35.3_637697805617876199.wav_chunk0\n",
            "4.0\n",
            "3U1lkc7fVTk_bestaudio_wav_35.9_40_637697807074938736.wav_chunk0\n",
            "4.0\n",
            "ftus_american_football_crowd_shout_chant_yeah_were_ready_ready_unison_announcer_cheers_280 (mp3cut.net) (1).wav_chunk0\n",
            "4.0\n",
            "ftus_american_football_crowd_shout_chant_yeah_were_ready_ready_unison_announcer_cheers_280 (mp3cut.net) (2).wav_chunk0\n",
            "4.0\n",
            "mixkit-male-crowd-chanting-revolution-440.wav_chunk0\n",
            "4.0\n",
            "mixkit-male-crowd-chanting-revolution-440.wav_chunk1\n",
            "4.0\n",
            "Female-Screaming-A1-www.fesliyanstudios.com (mp3cut.net).wav_chunk0\n",
            "4.0\n",
            "Scream-Long-B1-www.fesliyanstudios.com (mp3cut.net).wav_chunk0\n",
            "4.0\n",
            "129\n"
          ]
        }
      ]
    },
    {
      "cell_type": "code",
      "metadata": {
        "id": "CEWclws9BJSd"
      },
      "source": [
        ""
      ],
      "execution_count": null,
      "outputs": []
    }
  ]
}