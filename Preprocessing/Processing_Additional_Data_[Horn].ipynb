{
  "nbformat": 4,
  "nbformat_minor": 0,
  "metadata": {
    "colab": {
      "name": "Preprocessing Additional Data [Horn].ipynb",
      "provenance": [],
      "authorship_tag": "ABX9TyPhovqKP+V3mTlUWLXkbjAb",
      "include_colab_link": true
    },
    "kernelspec": {
      "name": "python3",
      "display_name": "Python 3"
    },
    "language_info": {
      "name": "python"
    }
  },
  "cells": [
    {
      "cell_type": "markdown",
      "metadata": {
        "id": "view-in-github",
        "colab_type": "text"
      },
      "source": [
        "<a href=\"https://colab.research.google.com/github/xychong/edgeaimonitoring/blob/main/Preprocessing/Processing_Additional_Data_%5BHorn%5D.ipynb\" target=\"_parent\"><img src=\"https://colab.research.google.com/assets/colab-badge.svg\" alt=\"Open In Colab\"/></a>"
      ]
    },
    {
      "cell_type": "code",
      "metadata": {
        "id": "ZL11D_CgvXkS"
      },
      "source": [
        "import librosa, librosa.display\n",
        "import numpy as np\n",
        "import os\n",
        "import scipy.io.wavfile\n",
        "from pydub import AudioSegment\n",
        "from pydub.utils import make_chunks"
      ],
      "execution_count": null,
      "outputs": []
    },
    {
      "cell_type": "code",
      "metadata": {
        "colab": {
          "base_uri": "https://localhost:8080/"
        },
        "id": "6wZJ9MGEvdv7",
        "outputId": "3f23271e-3d5d-4b83-d56a-86f03aed4763"
      },
      "source": [
        "from google.colab import drive\n",
        "drive.mount('/content/drive')"
      ],
      "execution_count": null,
      "outputs": [
        {
          "output_type": "stream",
          "name": "stdout",
          "text": [
            "Mounted at /content/drive\n"
          ]
        }
      ]
    },
    {
      "cell_type": "code",
      "metadata": {
        "id": "Xp28CZkewAXH"
      },
      "source": [
        "pathname = \"/content/drive/MyDrive/FYP Data/Additional Data/new horn (1)\""
      ],
      "execution_count": null,
      "outputs": []
    },
    {
      "cell_type": "code",
      "metadata": {
        "colab": {
          "base_uri": "https://localhost:8080/"
        },
        "id": "vUArM_t2vlvo",
        "outputId": "33c74d3d-3cc8-4b70-ff3a-24f255e03a25"
      },
      "source": [
        "# Display all filenames\n",
        "sum = 0\n",
        "for filename in os.listdir(pathname):\n",
        "  sum += 1\n",
        "  print(filename)"
      ],
      "execution_count": null,
      "outputs": [
        {
          "output_type": "stream",
          "name": "stdout",
          "text": [
            "4u5vlRJXfZI_bestaudio_wav_3_7_637697726898095505.wav\n",
            "695dh8fnqZ8_bestaudio_wav_3_7_637697731547793119.wav\n",
            "6BtP6mjG1W4_bestaudio_wav_1_5_637697732877988235.wav\n",
            "6SfI1FoxCEk_bestaudio_wav_0.5_4_637697734388166310.wav\n",
            "7GXxiqN2x80_bestaudio_wav_0_4_637697736612255735.wav\n",
            "86YjchzvDhA_bestaudio_wav_30_34_637697737994755224.wav\n",
            "8VrlWCPLewo_bestaudio_wav_3_7_637697739649407086.wav\n",
            "8x655wfhb0E_bestaudio_wav_2.4_6.5_637697740948520244.wav\n",
            "AQ5cXJLd6OI_bestaudio_wav_0_4_637697743458283770.wav\n",
            "ARO6AAxmW48_bestaudio_wav_18_22_637697744218533831.wav\n",
            "AoENedRm66U_bestaudio_wav_8_11.5_637697746187628996.wav\n",
            "B0HJJBL2HUc_bestaudio_wav_3_7_637697747752187613.wav\n",
            "BKK7v9XjMaY_bestaudio_wav_90.8_95.1_637697748821187344.wav\n",
            "CbugRktu3LM_bestaudio_wav_30.1_33.2_637697750668745024.wav\n",
            "CgV4Ecw4usM_bestaudio_wav_5_9_637697751327080526.wav\n",
            "CoAkyNF9f8c_bestaudio_wav_8_12_637697751787190121.wav\n",
            "CyU8SW-f9K0_bestaudio_wav_0_4_637697752758004117.wav\n",
            "D22gsGcLwCw_bestaudio_wav_30_34_637697753372876584.wav\n",
            "DNCPIMxMxTI_bestaudio_wav_0_4_637697754661037917.wav\n",
            "DqViH6Bg9Gs_bestaudio_wav_6_10_637697756013126301.wav\n",
            "DwxWJBP7rB0_bestaudio_wav_0_4_637697756748093543.wav\n",
            "DTkPE7LQvH4_bestaudio_wav_30_34_637697757237543295.wav\n",
            "FQGIOgq4lBE_bestaudio_wav_0_4_637697758554459367.wav\n",
            "FeSzRIQ-o8w_bestaudio_wav_30_34_637697759648692653.wav\n",
            "FeSzRIQ-o8w_bestaudio_wav_10_14_637697761033149481.wav\n",
            "FeSzRIQ-o8w_bestaudio_wav_17_21_637697761789500804.wav\n",
            "FeSzRIQ-o8w_bestaudio_wav_55_59_637697762968283880.wav\n"
          ]
        }
      ]
    },
    {
      "cell_type": "code",
      "metadata": {
        "colab": {
          "base_uri": "https://localhost:8080/"
        },
        "id": "FQB64ul7v_UM",
        "outputId": "2f1ce45d-84d7-4f2a-ccdc-60beec98c53f"
      },
      "source": [
        "print(sum)"
      ],
      "execution_count": null,
      "outputs": [
        {
          "output_type": "stream",
          "name": "stdout",
          "text": [
            "27\n"
          ]
        }
      ]
    },
    {
      "cell_type": "code",
      "metadata": {
        "colab": {
          "base_uri": "https://localhost:8080/"
        },
        "id": "56XHCE5QwIab",
        "outputId": "ff85af18-1ebd-40a0-ebdc-55200efaca0a"
      },
      "source": [
        "# Splitting audio tracks >4s into chunks of 4s each\n",
        "# The final chunk may be <4s depending on total audio duration\n",
        "count = 0\n",
        "chunk_length = 4000\n",
        "for filename in os.listdir(pathname):\n",
        "  audio = AudioSegment.from_file(pathname + \"/\" + filename)\n",
        "  if audio.duration_seconds > 4: \n",
        "    chunks = make_chunks(audio, chunk_length)\n",
        "    for i, chunk in enumerate(chunks):\n",
        "      chunk_name = filename + \"_chunk\" + str(i)\n",
        "      count += 1\n",
        "      print(chunk_name)\n",
        "      chunk.export(pathname + \"/\" + chunk_name, format = \"wav\")"
      ],
      "execution_count": null,
      "outputs": [
        {
          "output_type": "stream",
          "name": "stdout",
          "text": [
            "8x655wfhb0E_bestaudio_wav_2.4_6.5_637697740948520244.wav_chunk0\n",
            "8x655wfhb0E_bestaudio_wav_2.4_6.5_637697740948520244.wav_chunk1\n",
            "BKK7v9XjMaY_bestaudio_wav_90.8_95.1_637697748821187344.wav_chunk0\n",
            "BKK7v9XjMaY_bestaudio_wav_90.8_95.1_637697748821187344.wav_chunk1\n"
          ]
        }
      ]
    },
    {
      "cell_type": "code",
      "metadata": {
        "id": "BwNiNrw0wXbL"
      },
      "source": [
        "# remove files >4s since we have already splitted them into chunks of 4s each\n",
        "# remove audio files <1s as we dont want to pad each audio file with too much silences\n",
        "total_duration = 0\n",
        "for filename in os.listdir(pathname):\n",
        "  audio = AudioSegment.from_file(pathname + \"/\" + filename)\n",
        "  if audio.duration_seconds > 4 or audio.duration_seconds < 1: \n",
        "    os.remove(pathname + \"/\" + filename)"
      ],
      "execution_count": null,
      "outputs": []
    },
    {
      "cell_type": "code",
      "metadata": {
        "colab": {
          "base_uri": "https://localhost:8080/"
        },
        "id": "XiUg5oAqwjVj",
        "outputId": "97904da6-b876-4174-910e-bc4d7d7b04d3"
      },
      "source": [
        "# Check duration of each audio track\n",
        "filecount = 0\n",
        "for filename in os.listdir(pathname):\n",
        "  audio = AudioSegment.from_file(pathname + \"/\" + filename)\n",
        "  filecount += 1\n",
        "  print(filename)\n",
        "  print(audio.duration_seconds)"
      ],
      "execution_count": null,
      "outputs": [
        {
          "output_type": "stream",
          "name": "stdout",
          "text": [
            "4u5vlRJXfZI_bestaudio_wav_3_7_637697726898095505.wav\n",
            "3.9935\n",
            "695dh8fnqZ8_bestaudio_wav_3_7_637697731547793119.wav\n",
            "3.9935\n",
            "6BtP6mjG1W4_bestaudio_wav_1_5_637697732877988235.wav\n",
            "3.9935\n",
            "6SfI1FoxCEk_bestaudio_wav_0.5_4_637697734388166310.wav\n",
            "3.0991041666666668\n",
            "7GXxiqN2x80_bestaudio_wav_0_4_637697736612255735.wav\n",
            "3.9935\n",
            "86YjchzvDhA_bestaudio_wav_30_34_637697737994755224.wav\n",
            "3.9935\n",
            "8VrlWCPLewo_bestaudio_wav_3_7_637697739649407086.wav\n",
            "3.9935\n",
            "AQ5cXJLd6OI_bestaudio_wav_0_4_637697743458283770.wav\n",
            "3.9935\n",
            "ARO6AAxmW48_bestaudio_wav_18_22_637697744218533831.wav\n",
            "3.9935\n",
            "AoENedRm66U_bestaudio_wav_8_11.5_637697746187628996.wav\n",
            "3.4935\n",
            "B0HJJBL2HUc_bestaudio_wav_3_7_637697747752187613.wav\n",
            "3.9935\n",
            "CbugRktu3LM_bestaudio_wav_30.1_33.2_637697750668745024.wav\n",
            "3.0935\n",
            "CgV4Ecw4usM_bestaudio_wav_5_9_637697751327080526.wav\n",
            "3.9935\n",
            "CoAkyNF9f8c_bestaudio_wav_8_12_637697751787190121.wav\n",
            "3.9935\n",
            "CyU8SW-f9K0_bestaudio_wav_0_4_637697752758004117.wav\n",
            "3.9935\n",
            "D22gsGcLwCw_bestaudio_wav_30_34_637697753372876584.wav\n",
            "3.9935\n",
            "DNCPIMxMxTI_bestaudio_wav_0_4_637697754661037917.wav\n",
            "3.9935\n",
            "DqViH6Bg9Gs_bestaudio_wav_6_10_637697756013126301.wav\n",
            "3.9935\n",
            "DwxWJBP7rB0_bestaudio_wav_0_4_637697756748093543.wav\n",
            "3.9935\n",
            "DTkPE7LQvH4_bestaudio_wav_30_34_637697757237543295.wav\n",
            "3.9935\n",
            "FQGIOgq4lBE_bestaudio_wav_0_4_637697758554459367.wav\n",
            "3.9935\n",
            "FeSzRIQ-o8w_bestaudio_wav_30_34_637697759648692653.wav\n",
            "3.9935\n",
            "FeSzRIQ-o8w_bestaudio_wav_10_14_637697761033149481.wav\n",
            "3.9935\n",
            "FeSzRIQ-o8w_bestaudio_wav_17_21_637697761789500804.wav\n",
            "3.9935\n",
            "FeSzRIQ-o8w_bestaudio_wav_55_59_637697762968283880.wav\n",
            "3.9935\n",
            "8x655wfhb0E_bestaudio_wav_2.4_6.5_637697740948520244.wav_chunk0\n",
            "4.0\n",
            "BKK7v9XjMaY_bestaudio_wav_90.8_95.1_637697748821187344.wav_chunk0\n",
            "4.0\n"
          ]
        }
      ]
    },
    {
      "cell_type": "code",
      "metadata": {
        "colab": {
          "base_uri": "https://localhost:8080/"
        },
        "id": "7MQYuqeWwkxq",
        "outputId": "371e1fd1-c2ae-490e-b5e5-5d711c70ab05"
      },
      "source": [
        "# Check total number of files\n",
        "print (filecount)"
      ],
      "execution_count": null,
      "outputs": [
        {
          "output_type": "stream",
          "name": "stdout",
          "text": [
            "27\n"
          ]
        }
      ]
    },
    {
      "cell_type": "code",
      "metadata": {
        "colab": {
          "base_uri": "https://localhost:8080/"
        },
        "id": "GN9a8jO5wrrS",
        "outputId": "aa82d5eb-221c-4b54-ca53-649b40b59b9e"
      },
      "source": [
        "# Change speed of audio < 4s\n",
        "# Stretched the audio so that we get a 4s segment\n",
        "for filename in os.listdir(pathname):\n",
        "  audiopath = pathname + \"/\" + filename\n",
        "  audio, sr = librosa.load(audiopath)\n",
        "  if librosa.get_duration(audio) !=4 and librosa.get_duration(audio) <3.999:\n",
        "    rate = librosa.get_duration(audio)/4.0\n",
        "    stretched_audio = librosa.effects.time_stretch(audio,rate)\n",
        "    print(filename)\n",
        "    print(librosa.get_duration(stretched_audio))"
      ],
      "execution_count": null,
      "outputs": [
        {
          "output_type": "stream",
          "name": "stdout",
          "text": [
            "4u5vlRJXfZI_bestaudio_wav_3_7_637697726898095505.wav\n",
            "4.0\n",
            "695dh8fnqZ8_bestaudio_wav_3_7_637697731547793119.wav\n",
            "4.0\n",
            "6BtP6mjG1W4_bestaudio_wav_1_5_637697732877988235.wav\n",
            "4.0\n",
            "6SfI1FoxCEk_bestaudio_wav_0.5_4_637697734388166310.wav\n",
            "4.0\n",
            "7GXxiqN2x80_bestaudio_wav_0_4_637697736612255735.wav\n",
            "4.0\n",
            "86YjchzvDhA_bestaudio_wav_30_34_637697737994755224.wav\n",
            "4.0\n",
            "8VrlWCPLewo_bestaudio_wav_3_7_637697739649407086.wav\n",
            "4.0\n",
            "AQ5cXJLd6OI_bestaudio_wav_0_4_637697743458283770.wav\n",
            "4.0\n",
            "ARO6AAxmW48_bestaudio_wav_18_22_637697744218533831.wav\n",
            "4.0\n",
            "AoENedRm66U_bestaudio_wav_8_11.5_637697746187628996.wav\n",
            "4.0\n",
            "B0HJJBL2HUc_bestaudio_wav_3_7_637697747752187613.wav\n",
            "4.0\n",
            "CbugRktu3LM_bestaudio_wav_30.1_33.2_637697750668745024.wav\n",
            "4.0\n",
            "CgV4Ecw4usM_bestaudio_wav_5_9_637697751327080526.wav\n",
            "4.0\n",
            "CoAkyNF9f8c_bestaudio_wav_8_12_637697751787190121.wav\n",
            "4.0\n",
            "CyU8SW-f9K0_bestaudio_wav_0_4_637697752758004117.wav\n",
            "4.0\n",
            "D22gsGcLwCw_bestaudio_wav_30_34_637697753372876584.wav\n",
            "4.0\n",
            "DNCPIMxMxTI_bestaudio_wav_0_4_637697754661037917.wav\n",
            "4.0\n",
            "DqViH6Bg9Gs_bestaudio_wav_6_10_637697756013126301.wav\n",
            "4.0\n",
            "DwxWJBP7rB0_bestaudio_wav_0_4_637697756748093543.wav\n",
            "4.0\n",
            "DTkPE7LQvH4_bestaudio_wav_30_34_637697757237543295.wav\n",
            "4.0\n",
            "FQGIOgq4lBE_bestaudio_wav_0_4_637697758554459367.wav\n",
            "4.0\n",
            "FeSzRIQ-o8w_bestaudio_wav_30_34_637697759648692653.wav\n",
            "4.0\n",
            "FeSzRIQ-o8w_bestaudio_wav_10_14_637697761033149481.wav\n",
            "4.0\n",
            "FeSzRIQ-o8w_bestaudio_wav_17_21_637697761789500804.wav\n",
            "4.0\n",
            "FeSzRIQ-o8w_bestaudio_wav_55_59_637697762968283880.wav\n",
            "4.0\n"
          ]
        }
      ]
    },
    {
      "cell_type": "code",
      "metadata": {
        "id": "KhiIRRyByBQx"
      },
      "source": [
        "# Change speed of audio < 4s\n",
        "# Stretched the audio so that we get a 4s segment\n",
        "for filename in os.listdir(pathname):\n",
        "  audiopath = pathname + \"/\" + filename\n",
        "  audio, sr = librosa.load(audiopath)\n",
        "  if librosa.get_duration(audio) !=4 and librosa.get_duration(audio) <3.999:\n",
        "    rate = librosa.get_duration(audio)/4.0\n",
        "    stretched_audio = librosa.effects.time_stretch(audio,rate)\n",
        "    os.remove(pathname + \"/\" + filename)\n",
        "    scipy.io.wavfile.write(pathname + \"/\" + filename, sr, stretched_audio)"
      ],
      "execution_count": null,
      "outputs": []
    },
    {
      "cell_type": "code",
      "metadata": {
        "colab": {
          "base_uri": "https://localhost:8080/"
        },
        "id": "cRY-DpmjynGV",
        "outputId": "fc366a19-488a-4dac-9cb4-7cf1a12bb6ef"
      },
      "source": [
        "count = 0\n",
        "for filename in os.listdir(pathname):\n",
        "  audiopath = pathname + \"/\" + filename\n",
        "  count += 1\n",
        "  audio, sr = librosa.load(audiopath)\n",
        "  print(filename)\n",
        "  print(librosa.get_duration(audio))\n",
        "\n",
        "print(count)"
      ],
      "execution_count": null,
      "outputs": [
        {
          "output_type": "stream",
          "name": "stdout",
          "text": [
            "4u5vlRJXfZI_bestaudio_wav_3_7_637697726898095505.wav\n",
            "4.0\n",
            "695dh8fnqZ8_bestaudio_wav_3_7_637697731547793119.wav\n",
            "4.0\n",
            "6BtP6mjG1W4_bestaudio_wav_1_5_637697732877988235.wav\n",
            "4.0\n",
            "6SfI1FoxCEk_bestaudio_wav_0.5_4_637697734388166310.wav\n",
            "4.0\n",
            "7GXxiqN2x80_bestaudio_wav_0_4_637697736612255735.wav\n",
            "4.0\n",
            "86YjchzvDhA_bestaudio_wav_30_34_637697737994755224.wav\n",
            "4.0\n",
            "8VrlWCPLewo_bestaudio_wav_3_7_637697739649407086.wav\n",
            "4.0\n",
            "AQ5cXJLd6OI_bestaudio_wav_0_4_637697743458283770.wav\n",
            "4.0\n",
            "ARO6AAxmW48_bestaudio_wav_18_22_637697744218533831.wav\n",
            "4.0\n",
            "AoENedRm66U_bestaudio_wav_8_11.5_637697746187628996.wav\n",
            "4.0\n",
            "B0HJJBL2HUc_bestaudio_wav_3_7_637697747752187613.wav\n",
            "4.0\n",
            "CbugRktu3LM_bestaudio_wav_30.1_33.2_637697750668745024.wav\n",
            "4.0\n",
            "CgV4Ecw4usM_bestaudio_wav_5_9_637697751327080526.wav\n",
            "4.0\n",
            "CoAkyNF9f8c_bestaudio_wav_8_12_637697751787190121.wav\n",
            "4.0\n",
            "CyU8SW-f9K0_bestaudio_wav_0_4_637697752758004117.wav\n",
            "4.0\n",
            "D22gsGcLwCw_bestaudio_wav_30_34_637697753372876584.wav\n",
            "4.0\n",
            "DNCPIMxMxTI_bestaudio_wav_0_4_637697754661037917.wav\n",
            "4.0\n",
            "DqViH6Bg9Gs_bestaudio_wav_6_10_637697756013126301.wav\n",
            "4.0\n",
            "DwxWJBP7rB0_bestaudio_wav_0_4_637697756748093543.wav\n",
            "4.0\n",
            "DTkPE7LQvH4_bestaudio_wav_30_34_637697757237543295.wav\n",
            "4.0\n",
            "FQGIOgq4lBE_bestaudio_wav_0_4_637697758554459367.wav\n",
            "4.0\n",
            "FeSzRIQ-o8w_bestaudio_wav_30_34_637697759648692653.wav\n",
            "4.0\n",
            "FeSzRIQ-o8w_bestaudio_wav_10_14_637697761033149481.wav\n",
            "4.0\n",
            "FeSzRIQ-o8w_bestaudio_wav_17_21_637697761789500804.wav\n",
            "4.0\n",
            "FeSzRIQ-o8w_bestaudio_wav_55_59_637697762968283880.wav\n",
            "4.0\n",
            "8x655wfhb0E_bestaudio_wav_2.4_6.5_637697740948520244.wav_chunk0\n",
            "4.0\n",
            "BKK7v9XjMaY_bestaudio_wav_90.8_95.1_637697748821187344.wav_chunk0\n",
            "4.0\n",
            "27\n"
          ]
        }
      ]
    },
    {
      "cell_type": "code",
      "metadata": {
        "id": "HTK_q0TozZIG"
      },
      "source": [
        "newpath = \"/content/drive/MyDrive/FYP Data/Additional Data/new horn (pitch change 1)\""
      ],
      "execution_count": null,
      "outputs": []
    },
    {
      "cell_type": "code",
      "metadata": {
        "id": "XyiEr9tjy6Nr"
      },
      "source": [
        "count = 0\n",
        "for filename in os.listdir(pathname):\n",
        "    audiopath = pathname + \"/\" + filename\n",
        "    audio_data, sr = librosa.load(audiopath, 44100)\n",
        "    count += 1\n",
        "\n",
        "    if (count%2 == 0):\n",
        "      # Shift the pitch up for half the files\n",
        "      audio_change_pitch = librosa.effects.pitch_shift(audio_data, sr, n_steps = 10)\n",
        "    else:\n",
        "      # Shift the pitch down for other half the files\n",
        "      audio_change_pitch = librosa.effects.pitch_shift(audio_data, sr, n_steps = -10)\n",
        "\n",
        "    scipy.io.wavfile.write(newpath + \"/\" + filename, sr, audio_change_pitch)"
      ],
      "execution_count": null,
      "outputs": []
    },
    {
      "cell_type": "code",
      "metadata": {
        "colab": {
          "base_uri": "https://localhost:8080/"
        },
        "id": "8StiIDPnzk7m",
        "outputId": "32d909a2-3e70-43e7-a077-a7b7221058d7"
      },
      "source": [
        "count = 0\n",
        "for filename in os.listdir(newpath):\n",
        "  audiopath = newpath + \"/\" + filename\n",
        "  count += 1\n",
        "  audio, sr = librosa.load(audiopath)\n",
        "  print(filename)\n",
        "  print(librosa.get_duration(audio))\n",
        "\n",
        "print(count)"
      ],
      "execution_count": null,
      "outputs": [
        {
          "output_type": "stream",
          "name": "stdout",
          "text": [
            "4u5vlRJXfZI_bestaudio_wav_3_7_637697726898095505.wav\n",
            "4.0\n",
            "695dh8fnqZ8_bestaudio_wav_3_7_637697731547793119.wav\n",
            "4.0\n",
            "6BtP6mjG1W4_bestaudio_wav_1_5_637697732877988235.wav\n",
            "4.0\n",
            "6SfI1FoxCEk_bestaudio_wav_0.5_4_637697734388166310.wav\n",
            "4.0\n",
            "7GXxiqN2x80_bestaudio_wav_0_4_637697736612255735.wav\n",
            "4.0\n",
            "86YjchzvDhA_bestaudio_wav_30_34_637697737994755224.wav\n",
            "4.0\n",
            "8VrlWCPLewo_bestaudio_wav_3_7_637697739649407086.wav\n",
            "4.0\n",
            "AQ5cXJLd6OI_bestaudio_wav_0_4_637697743458283770.wav\n",
            "4.0\n",
            "ARO6AAxmW48_bestaudio_wav_18_22_637697744218533831.wav\n",
            "4.0\n",
            "AoENedRm66U_bestaudio_wav_8_11.5_637697746187628996.wav\n",
            "4.0\n",
            "B0HJJBL2HUc_bestaudio_wav_3_7_637697747752187613.wav\n",
            "4.0\n",
            "CbugRktu3LM_bestaudio_wav_30.1_33.2_637697750668745024.wav\n",
            "4.0\n",
            "CgV4Ecw4usM_bestaudio_wav_5_9_637697751327080526.wav\n",
            "4.0\n",
            "CoAkyNF9f8c_bestaudio_wav_8_12_637697751787190121.wav\n",
            "4.0\n",
            "CyU8SW-f9K0_bestaudio_wav_0_4_637697752758004117.wav\n",
            "4.0\n",
            "D22gsGcLwCw_bestaudio_wav_30_34_637697753372876584.wav\n",
            "4.0\n",
            "DNCPIMxMxTI_bestaudio_wav_0_4_637697754661037917.wav\n",
            "4.0\n",
            "DqViH6Bg9Gs_bestaudio_wav_6_10_637697756013126301.wav\n",
            "4.0\n",
            "DwxWJBP7rB0_bestaudio_wav_0_4_637697756748093543.wav\n",
            "4.0\n",
            "DTkPE7LQvH4_bestaudio_wav_30_34_637697757237543295.wav\n",
            "4.0\n",
            "FQGIOgq4lBE_bestaudio_wav_0_4_637697758554459367.wav\n",
            "4.0\n",
            "FeSzRIQ-o8w_bestaudio_wav_30_34_637697759648692653.wav\n",
            "4.0\n",
            "FeSzRIQ-o8w_bestaudio_wav_10_14_637697761033149481.wav\n",
            "4.0\n",
            "FeSzRIQ-o8w_bestaudio_wav_17_21_637697761789500804.wav\n",
            "4.0\n",
            "FeSzRIQ-o8w_bestaudio_wav_55_59_637697762968283880.wav\n",
            "4.0\n",
            "8x655wfhb0E_bestaudio_wav_2.4_6.5_637697740948520244.wav_chunk0\n",
            "4.0\n",
            "BKK7v9XjMaY_bestaudio_wav_90.8_95.1_637697748821187344.wav_chunk0\n",
            "4.0\n",
            "27\n"
          ]
        }
      ]
    },
    {
      "cell_type": "code",
      "metadata": {
        "id": "c77GmJp_zseO"
      },
      "source": [
        ""
      ],
      "execution_count": null,
      "outputs": []
    }
  ]
}