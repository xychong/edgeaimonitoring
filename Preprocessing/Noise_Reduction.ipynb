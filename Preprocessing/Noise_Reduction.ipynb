{
  "nbformat": 4,
  "nbformat_minor": 0,
  "metadata": {
    "colab": {
      "name": "Noise Reduction.ipynb",
      "provenance": [],
      "mount_file_id": "1NwCjUARZc0hfAg0kvdLR47keWKC6Fzsd",
      "authorship_tag": "ABX9TyNBgxGqxnN3Xbj66mxh6FDe",
      "include_colab_link": true
    },
    "kernelspec": {
      "name": "python3",
      "display_name": "Python 3"
    },
    "language_info": {
      "name": "python"
    }
  },
  "cells": [
    {
      "cell_type": "markdown",
      "metadata": {
        "id": "view-in-github",
        "colab_type": "text"
      },
      "source": [
        "<a href=\"https://colab.research.google.com/github/xychong/edgeaimonitoring/blob/main/Preprocessing/Noise_Reduction.ipynb\" target=\"_parent\"><img src=\"https://colab.research.google.com/assets/colab-badge.svg\" alt=\"Open In Colab\"/></a>"
      ]
    },
    {
      "cell_type": "code",
      "metadata": {
        "colab": {
          "base_uri": "https://localhost:8080/"
        },
        "id": "_dRCE53gCCfD",
        "outputId": "77511b49-9070-423a-e1b6-b7d85da499aa"
      },
      "source": [
        "pip install noisereduce"
      ],
      "execution_count": null,
      "outputs": [
        {
          "output_type": "stream",
          "name": "stdout",
          "text": [
            "Collecting noisereduce\n",
            "  Downloading noisereduce-2.0.0-py3-none-any.whl (15 kB)\n",
            "Requirement already satisfied: scipy in /usr/local/lib/python3.7/dist-packages (from noisereduce) (1.4.1)\n",
            "Requirement already satisfied: tqdm in /usr/local/lib/python3.7/dist-packages (from noisereduce) (4.62.0)\n",
            "Requirement already satisfied: matplotlib in /usr/local/lib/python3.7/dist-packages (from noisereduce) (3.2.2)\n",
            "Requirement already satisfied: librosa in /usr/local/lib/python3.7/dist-packages (from noisereduce) (0.8.1)\n",
            "Requirement already satisfied: numpy in /usr/local/lib/python3.7/dist-packages (from noisereduce) (1.19.5)\n",
            "Requirement already satisfied: joblib in /usr/local/lib/python3.7/dist-packages (from noisereduce) (1.0.1)\n",
            "Requirement already satisfied: resampy>=0.2.2 in /usr/local/lib/python3.7/dist-packages (from librosa->noisereduce) (0.2.2)\n",
            "Requirement already satisfied: scikit-learn!=0.19.0,>=0.14.0 in /usr/local/lib/python3.7/dist-packages (from librosa->noisereduce) (0.22.2.post1)\n",
            "Requirement already satisfied: decorator>=3.0.0 in /usr/local/lib/python3.7/dist-packages (from librosa->noisereduce) (4.4.2)\n",
            "Requirement already satisfied: numba>=0.43.0 in /usr/local/lib/python3.7/dist-packages (from librosa->noisereduce) (0.51.2)\n",
            "Requirement already satisfied: soundfile>=0.10.2 in /usr/local/lib/python3.7/dist-packages (from librosa->noisereduce) (0.10.3.post1)\n",
            "Requirement already satisfied: pooch>=1.0 in /usr/local/lib/python3.7/dist-packages (from librosa->noisereduce) (1.4.0)\n",
            "Requirement already satisfied: packaging>=20.0 in /usr/local/lib/python3.7/dist-packages (from librosa->noisereduce) (21.0)\n",
            "Requirement already satisfied: audioread>=2.0.0 in /usr/local/lib/python3.7/dist-packages (from librosa->noisereduce) (2.1.9)\n",
            "Requirement already satisfied: setuptools in /usr/local/lib/python3.7/dist-packages (from numba>=0.43.0->librosa->noisereduce) (57.4.0)\n",
            "Requirement already satisfied: llvmlite<0.35,>=0.34.0.dev0 in /usr/local/lib/python3.7/dist-packages (from numba>=0.43.0->librosa->noisereduce) (0.34.0)\n",
            "Requirement already satisfied: pyparsing>=2.0.2 in /usr/local/lib/python3.7/dist-packages (from packaging>=20.0->librosa->noisereduce) (2.4.7)\n",
            "Requirement already satisfied: requests in /usr/local/lib/python3.7/dist-packages (from pooch>=1.0->librosa->noisereduce) (2.23.0)\n",
            "Requirement already satisfied: appdirs in /usr/local/lib/python3.7/dist-packages (from pooch>=1.0->librosa->noisereduce) (1.4.4)\n",
            "Requirement already satisfied: six>=1.3 in /usr/local/lib/python3.7/dist-packages (from resampy>=0.2.2->librosa->noisereduce) (1.15.0)\n",
            "Requirement already satisfied: cffi>=1.0 in /usr/local/lib/python3.7/dist-packages (from soundfile>=0.10.2->librosa->noisereduce) (1.14.6)\n",
            "Requirement already satisfied: pycparser in /usr/local/lib/python3.7/dist-packages (from cffi>=1.0->soundfile>=0.10.2->librosa->noisereduce) (2.20)\n",
            "Requirement already satisfied: cycler>=0.10 in /usr/local/lib/python3.7/dist-packages (from matplotlib->noisereduce) (0.10.0)\n",
            "Requirement already satisfied: kiwisolver>=1.0.1 in /usr/local/lib/python3.7/dist-packages (from matplotlib->noisereduce) (1.3.1)\n",
            "Requirement already satisfied: python-dateutil>=2.1 in /usr/local/lib/python3.7/dist-packages (from matplotlib->noisereduce) (2.8.2)\n",
            "Requirement already satisfied: idna<3,>=2.5 in /usr/local/lib/python3.7/dist-packages (from requests->pooch>=1.0->librosa->noisereduce) (2.10)\n",
            "Requirement already satisfied: urllib3!=1.25.0,!=1.25.1,<1.26,>=1.21.1 in /usr/local/lib/python3.7/dist-packages (from requests->pooch>=1.0->librosa->noisereduce) (1.24.3)\n",
            "Requirement already satisfied: chardet<4,>=3.0.2 in /usr/local/lib/python3.7/dist-packages (from requests->pooch>=1.0->librosa->noisereduce) (3.0.4)\n",
            "Requirement already satisfied: certifi>=2017.4.17 in /usr/local/lib/python3.7/dist-packages (from requests->pooch>=1.0->librosa->noisereduce) (2021.5.30)\n",
            "Installing collected packages: noisereduce\n",
            "Successfully installed noisereduce-2.0.0\n"
          ]
        }
      ]
    },
    {
      "cell_type": "code",
      "metadata": {
        "id": "RRZr2B_H3_hi"
      },
      "source": [
        "import os \n",
        "import librosa, librosa.display\n",
        "import scipy.io.wavfile\n",
        "import matplotlib.pyplot as plt"
      ],
      "execution_count": null,
      "outputs": []
    },
    {
      "cell_type": "code",
      "metadata": {
        "colab": {
          "base_uri": "https://localhost:8080/"
        },
        "id": "73NgbUIHCGQs",
        "outputId": "3ea80b80-255b-4b7a-ca9b-5339bd7aece7"
      },
      "source": [
        "from google.colab import drive\n",
        "drive.mount('/content/drive')"
      ],
      "execution_count": null,
      "outputs": [
        {
          "output_type": "stream",
          "name": "stdout",
          "text": [
            "Drive already mounted at /content/drive; to attempt to forcibly remount, call drive.mount(\"/content/drive\", force_remount=True).\n"
          ]
        }
      ]
    },
    {
      "cell_type": "code",
      "metadata": {
        "id": "ldXYioKHC3yn"
      },
      "source": [
        "import noisereduce as nr"
      ],
      "execution_count": null,
      "outputs": []
    },
    {
      "cell_type": "code",
      "metadata": {
        "id": "rUz272x5CIfq"
      },
      "source": [
        "# Files in these pathnames contain noisy data of each sound class\n",
        "# pathname_ambience = \"/content/drive/MyDrive/FYP Data/Old/Ambience\"\n",
        "pathname_footsteps = \"/content/drive/MyDrive/FYP Data/Old [Noise]/Footsteps/Noisy Footsteps\"\n",
        "pathname_horn = \"/content/drive/MyDrive/FYP Data/Old [Noise]/Horn/Noisy Horn\"\n",
        "pathname_music = \"/content/drive/MyDrive/FYP Data/Old [Noise]/Music Playing/Noisy Music\"\n",
        "pathname_shout = \"/content/drive/MyDrive/FYP Data/Old [Noise]/Shout/Noisy Shout\""
      ],
      "execution_count": null,
      "outputs": []
    },
    {
      "cell_type": "code",
      "metadata": {
        "id": "Y6yniKTNCvau"
      },
      "source": [
        "# Performing Noise Reduction \n",
        "new_pathname_footsteps = \"/content/drive/MyDrive/FYP Data/Old [Noise]/Footsteps/Noise Reduced Footsteps\"\n",
        "for filename in os.listdir(pathname_footsteps):\n",
        "  audiopath = pathname_footsteps + \"/\" + filename\n",
        "  audio_data, sr = librosa.load(audiopath, 44100)\n",
        "\n",
        "  # Noise reduction\n",
        "  reduced_noise = nr.reduce_noise(y=audio_data, sr=sr)\n",
        "\n",
        "  # Save file as wav file\n",
        "  scipy.io.wavfile.write(new_pathname_footsteps + \"/\" + filename, sr, reduced_noise)"
      ],
      "execution_count": null,
      "outputs": []
    },
    {
      "cell_type": "code",
      "metadata": {
        "id": "FY7ULY9z377d"
      },
      "source": [
        "for filename in os.listdir(pathname_footsteps):\n",
        "  audiopath = pathname_footsteps + \"/\" + filename\n",
        "  audio_data, sr = librosa.load(audiopath, 44100)\n",
        "\n",
        "  #Plot the original waveform\n",
        "  plt.figure(figsize = (20,5))\n",
        "  librosa.display.waveplot(audio_data, sr=sr)\n",
        "  plt.title (\"Original \" + filename)\n",
        "  plt.xlabel(\"Time (in seconds)\")\n",
        "  plt.ylabel(\"Amplitude\")"
      ],
      "execution_count": null,
      "outputs": []
    },
    {
      "cell_type": "code",
      "metadata": {
        "id": "wEy7jPDy6Q3r"
      },
      "source": [
        "for filename in os.listdir(new_pathname_footsteps):\n",
        "  audiopath = new_pathname_footsteps + \"/\" + filename\n",
        "  audio_data, sr = librosa.load(audiopath, 44100)\n",
        "\n",
        "  #Plot the Noise Reduced waveform\n",
        "  plt.figure(figsize = (20,5))\n",
        "  librosa.display.waveplot(audio_data, sr=sr)\n",
        "  plt.title (\"Noise Reduced \" + filename)\n",
        "  plt.xlabel(\"Time (in seconds)\")\n",
        "  plt.ylabel(\"Amplitude\")"
      ],
      "execution_count": null,
      "outputs": []
    },
    {
      "cell_type": "code",
      "metadata": {
        "id": "StFDYJs48WMy"
      },
      "source": [
        "new_pathname_horn = \"/content/drive/MyDrive/FYP Data/Old [Noise]/Horn/Noise Reduced Horn\"\n",
        "for filename in os.listdir(pathname_horn):\n",
        "  audiopath = pathname_horn + \"/\" + filename\n",
        "  audio_data, sr = librosa.load(audiopath, 44100)\n",
        "\n",
        "  # Noise reduction\n",
        "  reduced_noise = nr.reduce_noise(y=audio_data, sr=sr)\n",
        "\n",
        "  # Save file as wav file\n",
        "  scipy.io.wavfile.write(new_pathname_horn + \"/\" + filename, sr, reduced_noise)"
      ],
      "execution_count": null,
      "outputs": []
    },
    {
      "cell_type": "code",
      "metadata": {
        "id": "XUrJpVdBG05F"
      },
      "source": [
        "for filename in os.listdir(pathname_horn):\n",
        "  audiopath = pathname_horn + \"/\" + filename\n",
        "  audio_data, sr = librosa.load(audiopath, 44100)\n",
        "\n",
        "  #Plot the original waveform\n",
        "  plt.figure(figsize = (20,5))\n",
        "  librosa.display.waveplot(audio_data, sr=sr)\n",
        "  plt.title (\"Original \" + filename)\n",
        "  plt.xlabel(\"Time (in seconds)\")\n",
        "  plt.ylabel(\"Amplitude\")"
      ],
      "execution_count": null,
      "outputs": []
    },
    {
      "cell_type": "code",
      "metadata": {
        "id": "P7bJ6tH9G7wq"
      },
      "source": [
        "for filename in os.listdir(new_pathname_horn):\n",
        "  audiopath = new_pathname_horn + \"/\" + filename\n",
        "  audio_data, sr = librosa.load(audiopath, 44100)\n",
        "\n",
        "  #Plot the Noise Reduced waveform\n",
        "  plt.figure(figsize = (20,5))\n",
        "  librosa.display.waveplot(audio_data, sr=sr)\n",
        "  plt.title (\"Noise Reduced \" + filename)\n",
        "  plt.xlabel(\"Time (in seconds)\")\n",
        "  plt.ylabel(\"Amplitude\")"
      ],
      "execution_count": null,
      "outputs": []
    },
    {
      "cell_type": "code",
      "metadata": {
        "id": "kJk70FXw9f9V"
      },
      "source": [
        "new_pathname_music = \"/content/drive/MyDrive/FYP Data/Old [Noise]/Music Playing/Noise Reduced Music\"\n",
        "for filename in os.listdir(pathname_music):\n",
        "  audiopath = pathname_music + \"/\" + filename\n",
        "  audio_data, sr = librosa.load(audiopath, 44100)\n",
        "\n",
        "  # Noise reduction\n",
        "  reduced_noise = nr.reduce_noise(y=audio_data, sr=sr)\n",
        "\n",
        "  # Save file as wav file\n",
        "  scipy.io.wavfile.write(new_pathname_music + \"/\" + filename, sr, reduced_noise)"
      ],
      "execution_count": null,
      "outputs": []
    },
    {
      "cell_type": "code",
      "metadata": {
        "id": "kYoVTDs398Cy"
      },
      "source": [
        "new_pathname_shout = \"/content/drive/MyDrive/FYP Data/Old [Noise]/Shout/Noise Reduced Shout\"\n",
        "for filename in os.listdir(pathname_shout):\n",
        "  audiopath = pathname_shout + \"/\" + filename\n",
        "  audio_data, sr = librosa.load(audiopath, 44100)\n",
        "\n",
        "  # Noise reduction\n",
        "  reduced_noise = nr.reduce_noise(y=audio_data, sr=sr)\n",
        "\n",
        "  # Save file as wav file\n",
        "  scipy.io.wavfile.write(new_pathname_shout + \"/\" + filename, sr, reduced_noise)"
      ],
      "execution_count": null,
      "outputs": []
    },
    {
      "cell_type": "code",
      "metadata": {
        "id": "dyYu22FI_OzN"
      },
      "source": [
        ""
      ],
      "execution_count": null,
      "outputs": []
    }
  ]
}